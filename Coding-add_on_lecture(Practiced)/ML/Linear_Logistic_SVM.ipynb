{
  "nbformat": 4,
  "nbformat_minor": 0,
  "metadata": {
    "colab": {
      "name": "Linear_Logistic_SVM.ipynb",
      "provenance": [],
      "collapsed_sections": [
        "fl1Q2M6BE-Pg"
      ],
      "include_colab_link": true
    },
    "kernelspec": {
      "name": "python3",
      "display_name": "Python 3"
    }
  },
  "cells": [
    {
      "cell_type": "markdown",
      "metadata": {
        "id": "view-in-github",
        "colab_type": "text"
      },
      "source": [
        "<a href=\"https://colab.research.google.com/github/shubham-bhatt/Shala2020/blob/master/Coding-add_on_lecture(Practiced)/ML/Linear_Logistic_SVM.ipynb\" target=\"_parent\"><img src=\"https://colab.research.google.com/assets/colab-badge.svg\" alt=\"Open In Colab\"/></a>"
      ]
    },
    {
      "cell_type": "markdown",
      "metadata": {
        "id": "pq0E-mOI4TFW",
        "colab_type": "text"
      },
      "source": [
        "# **Linear Regression**"
      ]
    },
    {
      "cell_type": "code",
      "metadata": {
        "id": "Nr0fDXuuueFg",
        "colab_type": "code",
        "colab": {}
      },
      "source": [
        "# Importing some packages\n",
        "import numpy as np\n",
        "import pandas as pd\n",
        "import matplotlib.pyplot as plt\n",
        "import matplotlib.ticker as ticker\n",
        "from sklearn.datasets import california_housing\n",
        "from scipy import stats\n",
        "import seaborn as sns\n",
        "from sklearn import linear_model\n",
        "from sklearn import preprocessing\n",
        "from sklearn.model_selection import train_test_split\n",
        "from sklearn.linear_model import LinearRegression, Ridge\n",
        "from sklearn.metrics import r2_score, mean_squared_error\n",
        "from sklearn.linear_model import LogisticRegression\n",
        "from sklearn import metrics\n",
        "from sklearn import svm"
      ],
      "execution_count": 0,
      "outputs": []
    },
    {
      "cell_type": "markdown",
      "metadata": {
        "id": "x1Z9upT65-gG",
        "colab_type": "text"
      },
      "source": [
        "# **california_housing Dataset**\n",
        "\n",
        "---\n",
        "\n",
        "\n",
        "**The following function returns:**\n",
        "dataset : dict-like object with the following attributes:\n",
        "\n",
        "**dataset.data :** ndarray, shape [20640, 8]\n",
        "\n",
        "    Each row corresponding to the 8 feature values in order.\n",
        "**dataset.target :** numpy array of shape (20640,)\n",
        "\n",
        "    Each value corresponds to the average house value in units of 100,000.\n",
        "**dataset.feature_names :** array of length 8\n",
        "\n",
        "    Array of ordered feature names used in the dataset.\n",
        "**dataset.DESCR :** string\n",
        "\n",
        "    Description of the California housing dataset.\n",
        "\n",
        "\n",
        "---\n",
        "\n"
      ]
    },
    {
      "cell_type": "code",
      "metadata": {
        "id": "-ZFm6xMNvkAz",
        "colab_type": "code",
        "outputId": "79c64e89-1d67-4cec-bbea-00082a984d36",
        "colab": {
          "base_uri": "https://localhost:8080/",
          "height": 435
        }
      },
      "source": [
        "housing_data = california_housing.fetch_california_housing()\n",
        "housing_data"
      ],
      "execution_count": 0,
      "outputs": [
        {
          "output_type": "execute_result",
          "data": {
            "text/plain": [
              "{'DESCR': '.. _california_housing_dataset:\\n\\nCalifornia Housing dataset\\n--------------------------\\n\\n**Data Set Characteristics:**\\n\\n    :Number of Instances: 20640\\n\\n    :Number of Attributes: 8 numeric, predictive attributes and the target\\n\\n    :Attribute Information:\\n        - MedInc        median income in block\\n        - HouseAge      median house age in block\\n        - AveRooms      average number of rooms\\n        - AveBedrms     average number of bedrooms\\n        - Population    block population\\n        - AveOccup      average house occupancy\\n        - Latitude      house block latitude\\n        - Longitude     house block longitude\\n\\n    :Missing Attribute Values: None\\n\\nThis dataset was obtained from the StatLib repository.\\nhttp://lib.stat.cmu.edu/datasets/\\n\\nThe target variable is the median house value for California districts.\\n\\nThis dataset was derived from the 1990 U.S. census, using one row per census\\nblock group. A block group is the smallest geographical unit for which the U.S.\\nCensus Bureau publishes sample data (a block group typically has a population\\nof 600 to 3,000 people).\\n\\nIt can be downloaded/loaded using the\\n:func:`sklearn.datasets.fetch_california_housing` function.\\n\\n.. topic:: References\\n\\n    - Pace, R. Kelley and Ronald Barry, Sparse Spatial Autoregressions,\\n      Statistics and Probability Letters, 33 (1997) 291-297\\n',\n",
              " 'data': array([[   8.3252    ,   41.        ,    6.98412698, ...,    2.55555556,\n",
              "           37.88      , -122.23      ],\n",
              "        [   8.3014    ,   21.        ,    6.23813708, ...,    2.10984183,\n",
              "           37.86      , -122.22      ],\n",
              "        [   7.2574    ,   52.        ,    8.28813559, ...,    2.80225989,\n",
              "           37.85      , -122.24      ],\n",
              "        ...,\n",
              "        [   1.7       ,   17.        ,    5.20554273, ...,    2.3256351 ,\n",
              "           39.43      , -121.22      ],\n",
              "        [   1.8672    ,   18.        ,    5.32951289, ...,    2.12320917,\n",
              "           39.43      , -121.32      ],\n",
              "        [   2.3886    ,   16.        ,    5.25471698, ...,    2.61698113,\n",
              "           39.37      , -121.24      ]]),\n",
              " 'feature_names': ['MedInc',\n",
              "  'HouseAge',\n",
              "  'AveRooms',\n",
              "  'AveBedrms',\n",
              "  'Population',\n",
              "  'AveOccup',\n",
              "  'Latitude',\n",
              "  'Longitude'],\n",
              " 'target': array([4.526, 3.585, 3.521, ..., 0.923, 0.847, 0.894])}"
            ]
          },
          "metadata": {
            "tags": []
          },
          "execution_count": 389
        }
      ]
    },
    {
      "cell_type": "markdown",
      "metadata": {
        "id": "CCJ2l9VW7QJn",
        "colab_type": "text"
      },
      "source": [
        "\n",
        "\n",
        "---\n",
        "The data contains 20,640 observations on 9 variables.\n",
        "\n",
        "This dataset contains the **average house value as target variable**\n",
        "and the following input variables (features): **average income,\n",
        "housing average age, average rooms, average bedrooms, population,\n",
        "average occupation, latitude, and longitude** in that order.\n",
        "\n",
        "**Let us now extract the features and the target from the dataset and combine them in one data frame.**\n",
        "\n",
        "---\n",
        "\n"
      ]
    },
    {
      "cell_type": "code",
      "metadata": {
        "id": "aAkhvRiFvtiC",
        "colab_type": "code",
        "outputId": "d1cbb4e3-d39b-4a8e-93ee-e0cd1e33fe2c",
        "colab": {
          "base_uri": "https://localhost:8080/",
          "height": 408
        }
      },
      "source": [
        "Features = pd.DataFrame(housing_data.data, columns=housing_data.feature_names)\n",
        "Target = pd.DataFrame(housing_data.target, columns=['Target'])\n",
        "df = Features.join(Target)\n",
        "df"
      ],
      "execution_count": 0,
      "outputs": [
        {
          "output_type": "execute_result",
          "data": {
            "text/html": [
              "<div>\n",
              "<style scoped>\n",
              "    .dataframe tbody tr th:only-of-type {\n",
              "        vertical-align: middle;\n",
              "    }\n",
              "\n",
              "    .dataframe tbody tr th {\n",
              "        vertical-align: top;\n",
              "    }\n",
              "\n",
              "    .dataframe thead th {\n",
              "        text-align: right;\n",
              "    }\n",
              "</style>\n",
              "<table border=\"1\" class=\"dataframe\">\n",
              "  <thead>\n",
              "    <tr style=\"text-align: right;\">\n",
              "      <th></th>\n",
              "      <th>MedInc</th>\n",
              "      <th>HouseAge</th>\n",
              "      <th>AveRooms</th>\n",
              "      <th>AveBedrms</th>\n",
              "      <th>Population</th>\n",
              "      <th>AveOccup</th>\n",
              "      <th>Latitude</th>\n",
              "      <th>Longitude</th>\n",
              "      <th>Target</th>\n",
              "    </tr>\n",
              "  </thead>\n",
              "  <tbody>\n",
              "    <tr>\n",
              "      <th>0</th>\n",
              "      <td>8.3252</td>\n",
              "      <td>41.0</td>\n",
              "      <td>6.984127</td>\n",
              "      <td>1.023810</td>\n",
              "      <td>322.0</td>\n",
              "      <td>2.555556</td>\n",
              "      <td>37.88</td>\n",
              "      <td>-122.23</td>\n",
              "      <td>4.526</td>\n",
              "    </tr>\n",
              "    <tr>\n",
              "      <th>1</th>\n",
              "      <td>8.3014</td>\n",
              "      <td>21.0</td>\n",
              "      <td>6.238137</td>\n",
              "      <td>0.971880</td>\n",
              "      <td>2401.0</td>\n",
              "      <td>2.109842</td>\n",
              "      <td>37.86</td>\n",
              "      <td>-122.22</td>\n",
              "      <td>3.585</td>\n",
              "    </tr>\n",
              "    <tr>\n",
              "      <th>2</th>\n",
              "      <td>7.2574</td>\n",
              "      <td>52.0</td>\n",
              "      <td>8.288136</td>\n",
              "      <td>1.073446</td>\n",
              "      <td>496.0</td>\n",
              "      <td>2.802260</td>\n",
              "      <td>37.85</td>\n",
              "      <td>-122.24</td>\n",
              "      <td>3.521</td>\n",
              "    </tr>\n",
              "    <tr>\n",
              "      <th>3</th>\n",
              "      <td>5.6431</td>\n",
              "      <td>52.0</td>\n",
              "      <td>5.817352</td>\n",
              "      <td>1.073059</td>\n",
              "      <td>558.0</td>\n",
              "      <td>2.547945</td>\n",
              "      <td>37.85</td>\n",
              "      <td>-122.25</td>\n",
              "      <td>3.413</td>\n",
              "    </tr>\n",
              "    <tr>\n",
              "      <th>4</th>\n",
              "      <td>3.8462</td>\n",
              "      <td>52.0</td>\n",
              "      <td>6.281853</td>\n",
              "      <td>1.081081</td>\n",
              "      <td>565.0</td>\n",
              "      <td>2.181467</td>\n",
              "      <td>37.85</td>\n",
              "      <td>-122.25</td>\n",
              "      <td>3.422</td>\n",
              "    </tr>\n",
              "    <tr>\n",
              "      <th>...</th>\n",
              "      <td>...</td>\n",
              "      <td>...</td>\n",
              "      <td>...</td>\n",
              "      <td>...</td>\n",
              "      <td>...</td>\n",
              "      <td>...</td>\n",
              "      <td>...</td>\n",
              "      <td>...</td>\n",
              "      <td>...</td>\n",
              "    </tr>\n",
              "    <tr>\n",
              "      <th>20635</th>\n",
              "      <td>1.5603</td>\n",
              "      <td>25.0</td>\n",
              "      <td>5.045455</td>\n",
              "      <td>1.133333</td>\n",
              "      <td>845.0</td>\n",
              "      <td>2.560606</td>\n",
              "      <td>39.48</td>\n",
              "      <td>-121.09</td>\n",
              "      <td>0.781</td>\n",
              "    </tr>\n",
              "    <tr>\n",
              "      <th>20636</th>\n",
              "      <td>2.5568</td>\n",
              "      <td>18.0</td>\n",
              "      <td>6.114035</td>\n",
              "      <td>1.315789</td>\n",
              "      <td>356.0</td>\n",
              "      <td>3.122807</td>\n",
              "      <td>39.49</td>\n",
              "      <td>-121.21</td>\n",
              "      <td>0.771</td>\n",
              "    </tr>\n",
              "    <tr>\n",
              "      <th>20637</th>\n",
              "      <td>1.7000</td>\n",
              "      <td>17.0</td>\n",
              "      <td>5.205543</td>\n",
              "      <td>1.120092</td>\n",
              "      <td>1007.0</td>\n",
              "      <td>2.325635</td>\n",
              "      <td>39.43</td>\n",
              "      <td>-121.22</td>\n",
              "      <td>0.923</td>\n",
              "    </tr>\n",
              "    <tr>\n",
              "      <th>20638</th>\n",
              "      <td>1.8672</td>\n",
              "      <td>18.0</td>\n",
              "      <td>5.329513</td>\n",
              "      <td>1.171920</td>\n",
              "      <td>741.0</td>\n",
              "      <td>2.123209</td>\n",
              "      <td>39.43</td>\n",
              "      <td>-121.32</td>\n",
              "      <td>0.847</td>\n",
              "    </tr>\n",
              "    <tr>\n",
              "      <th>20639</th>\n",
              "      <td>2.3886</td>\n",
              "      <td>16.0</td>\n",
              "      <td>5.254717</td>\n",
              "      <td>1.162264</td>\n",
              "      <td>1387.0</td>\n",
              "      <td>2.616981</td>\n",
              "      <td>39.37</td>\n",
              "      <td>-121.24</td>\n",
              "      <td>0.894</td>\n",
              "    </tr>\n",
              "  </tbody>\n",
              "</table>\n",
              "<p>20640 rows × 9 columns</p>\n",
              "</div>"
            ],
            "text/plain": [
              "       MedInc  HouseAge  AveRooms  ...  Latitude  Longitude  Target\n",
              "0      8.3252      41.0  6.984127  ...     37.88    -122.23   4.526\n",
              "1      8.3014      21.0  6.238137  ...     37.86    -122.22   3.585\n",
              "2      7.2574      52.0  8.288136  ...     37.85    -122.24   3.521\n",
              "3      5.6431      52.0  5.817352  ...     37.85    -122.25   3.413\n",
              "4      3.8462      52.0  6.281853  ...     37.85    -122.25   3.422\n",
              "...       ...       ...       ...  ...       ...        ...     ...\n",
              "20635  1.5603      25.0  5.045455  ...     39.48    -121.09   0.781\n",
              "20636  2.5568      18.0  6.114035  ...     39.49    -121.21   0.771\n",
              "20637  1.7000      17.0  5.205543  ...     39.43    -121.22   0.923\n",
              "20638  1.8672      18.0  5.329513  ...     39.43    -121.32   0.847\n",
              "20639  2.3886      16.0  5.254717  ...     39.37    -121.24   0.894\n",
              "\n",
              "[20640 rows x 9 columns]"
            ]
          },
          "metadata": {
            "tags": []
          },
          "execution_count": 390
        }
      ]
    },
    {
      "cell_type": "code",
      "metadata": {
        "id": "sTmFY8qMCHZt",
        "colab_type": "code",
        "outputId": "40e58aef-ca92-4b76-c984-9318b6abd281",
        "colab": {
          "base_uri": "https://localhost:8080/",
          "height": 34
        }
      },
      "source": [
        "##to check for Nan values\n",
        "df['MedInc'].isnull().values.any()"
      ],
      "execution_count": 0,
      "outputs": [
        {
          "output_type": "execute_result",
          "data": {
            "text/plain": [
              "False"
            ]
          },
          "metadata": {
            "tags": []
          },
          "execution_count": 391
        }
      ]
    },
    {
      "cell_type": "code",
      "metadata": {
        "id": "o85t8mmApf9z",
        "colab_type": "code",
        "outputId": "aad1da90-9909-4156-ead4-f26a9667278b",
        "colab": {
          "base_uri": "https://localhost:8080/",
          "height": 190
        }
      },
      "source": [
        "df.isnull().sum()#.sum()"
      ],
      "execution_count": 0,
      "outputs": [
        {
          "output_type": "execute_result",
          "data": {
            "text/plain": [
              "MedInc        0\n",
              "HouseAge      0\n",
              "AveRooms      0\n",
              "AveBedrms     0\n",
              "Population    0\n",
              "AveOccup      0\n",
              "Latitude      0\n",
              "Longitude     0\n",
              "Target        0\n",
              "dtype: int64"
            ]
          },
          "metadata": {
            "tags": []
          },
          "execution_count": 392
        }
      ]
    },
    {
      "cell_type": "code",
      "metadata": {
        "id": "tYT6r00PAFXJ",
        "colab_type": "code",
        "outputId": "68da54dc-4d8e-4217-83e1-82c2e8cdf81d",
        "colab": {
          "base_uri": "https://localhost:8080/",
          "height": 288
        }
      },
      "source": [
        "df.describe()"
      ],
      "execution_count": 0,
      "outputs": [
        {
          "output_type": "execute_result",
          "data": {
            "text/html": [
              "<div>\n",
              "<style scoped>\n",
              "    .dataframe tbody tr th:only-of-type {\n",
              "        vertical-align: middle;\n",
              "    }\n",
              "\n",
              "    .dataframe tbody tr th {\n",
              "        vertical-align: top;\n",
              "    }\n",
              "\n",
              "    .dataframe thead th {\n",
              "        text-align: right;\n",
              "    }\n",
              "</style>\n",
              "<table border=\"1\" class=\"dataframe\">\n",
              "  <thead>\n",
              "    <tr style=\"text-align: right;\">\n",
              "      <th></th>\n",
              "      <th>MedInc</th>\n",
              "      <th>HouseAge</th>\n",
              "      <th>AveRooms</th>\n",
              "      <th>AveBedrms</th>\n",
              "      <th>Population</th>\n",
              "      <th>AveOccup</th>\n",
              "      <th>Latitude</th>\n",
              "      <th>Longitude</th>\n",
              "      <th>Target</th>\n",
              "    </tr>\n",
              "  </thead>\n",
              "  <tbody>\n",
              "    <tr>\n",
              "      <th>count</th>\n",
              "      <td>20640.000000</td>\n",
              "      <td>20640.000000</td>\n",
              "      <td>20640.000000</td>\n",
              "      <td>20640.000000</td>\n",
              "      <td>20640.000000</td>\n",
              "      <td>20640.000000</td>\n",
              "      <td>20640.000000</td>\n",
              "      <td>20640.000000</td>\n",
              "      <td>20640.000000</td>\n",
              "    </tr>\n",
              "    <tr>\n",
              "      <th>mean</th>\n",
              "      <td>3.870671</td>\n",
              "      <td>28.639486</td>\n",
              "      <td>5.429000</td>\n",
              "      <td>1.096675</td>\n",
              "      <td>1425.476744</td>\n",
              "      <td>3.070655</td>\n",
              "      <td>35.631861</td>\n",
              "      <td>-119.569704</td>\n",
              "      <td>2.068558</td>\n",
              "    </tr>\n",
              "    <tr>\n",
              "      <th>std</th>\n",
              "      <td>1.899822</td>\n",
              "      <td>12.585558</td>\n",
              "      <td>2.474173</td>\n",
              "      <td>0.473911</td>\n",
              "      <td>1132.462122</td>\n",
              "      <td>10.386050</td>\n",
              "      <td>2.135952</td>\n",
              "      <td>2.003532</td>\n",
              "      <td>1.153956</td>\n",
              "    </tr>\n",
              "    <tr>\n",
              "      <th>min</th>\n",
              "      <td>0.499900</td>\n",
              "      <td>1.000000</td>\n",
              "      <td>0.846154</td>\n",
              "      <td>0.333333</td>\n",
              "      <td>3.000000</td>\n",
              "      <td>0.692308</td>\n",
              "      <td>32.540000</td>\n",
              "      <td>-124.350000</td>\n",
              "      <td>0.149990</td>\n",
              "    </tr>\n",
              "    <tr>\n",
              "      <th>25%</th>\n",
              "      <td>2.563400</td>\n",
              "      <td>18.000000</td>\n",
              "      <td>4.440716</td>\n",
              "      <td>1.006079</td>\n",
              "      <td>787.000000</td>\n",
              "      <td>2.429741</td>\n",
              "      <td>33.930000</td>\n",
              "      <td>-121.800000</td>\n",
              "      <td>1.196000</td>\n",
              "    </tr>\n",
              "    <tr>\n",
              "      <th>50%</th>\n",
              "      <td>3.534800</td>\n",
              "      <td>29.000000</td>\n",
              "      <td>5.229129</td>\n",
              "      <td>1.048780</td>\n",
              "      <td>1166.000000</td>\n",
              "      <td>2.818116</td>\n",
              "      <td>34.260000</td>\n",
              "      <td>-118.490000</td>\n",
              "      <td>1.797000</td>\n",
              "    </tr>\n",
              "    <tr>\n",
              "      <th>75%</th>\n",
              "      <td>4.743250</td>\n",
              "      <td>37.000000</td>\n",
              "      <td>6.052381</td>\n",
              "      <td>1.099526</td>\n",
              "      <td>1725.000000</td>\n",
              "      <td>3.282261</td>\n",
              "      <td>37.710000</td>\n",
              "      <td>-118.010000</td>\n",
              "      <td>2.647250</td>\n",
              "    </tr>\n",
              "    <tr>\n",
              "      <th>max</th>\n",
              "      <td>15.000100</td>\n",
              "      <td>52.000000</td>\n",
              "      <td>141.909091</td>\n",
              "      <td>34.066667</td>\n",
              "      <td>35682.000000</td>\n",
              "      <td>1243.333333</td>\n",
              "      <td>41.950000</td>\n",
              "      <td>-114.310000</td>\n",
              "      <td>5.000010</td>\n",
              "    </tr>\n",
              "  </tbody>\n",
              "</table>\n",
              "</div>"
            ],
            "text/plain": [
              "             MedInc      HouseAge  ...     Longitude        Target\n",
              "count  20640.000000  20640.000000  ...  20640.000000  20640.000000\n",
              "mean       3.870671     28.639486  ...   -119.569704      2.068558\n",
              "std        1.899822     12.585558  ...      2.003532      1.153956\n",
              "min        0.499900      1.000000  ...   -124.350000      0.149990\n",
              "25%        2.563400     18.000000  ...   -121.800000      1.196000\n",
              "50%        3.534800     29.000000  ...   -118.490000      1.797000\n",
              "75%        4.743250     37.000000  ...   -118.010000      2.647250\n",
              "max       15.000100     52.000000  ...   -114.310000      5.000010\n",
              "\n",
              "[8 rows x 9 columns]"
            ]
          },
          "metadata": {
            "tags": []
          },
          "execution_count": 393
        }
      ]
    },
    {
      "cell_type": "markdown",
      "metadata": {
        "id": "XKu5TUmoBl2C",
        "colab_type": "text"
      },
      "source": [
        "\n",
        "\n",
        "---\n",
        "\n",
        "####Let us use the function **df.corr()** to compute pairwise correlation of columns, excluding NA/null values.\n",
        "\n",
        "#### We are looking for one highly corelated feature with target (we only see magnitude not sign) so we can use that for estimation of target by one variable\n",
        "\n",
        "---\n",
        "\n"
      ]
    },
    {
      "cell_type": "code",
      "metadata": {
        "id": "VXPWIN9pwN_h",
        "colab_type": "code",
        "outputId": "19869f39-a0e4-47ab-aec6-4e81b0beb937",
        "colab": {
          "base_uri": "https://localhost:8080/",
          "height": 319
        }
      },
      "source": [
        "df.corr()"
      ],
      "execution_count": 0,
      "outputs": [
        {
          "output_type": "execute_result",
          "data": {
            "text/html": [
              "<div>\n",
              "<style scoped>\n",
              "    .dataframe tbody tr th:only-of-type {\n",
              "        vertical-align: middle;\n",
              "    }\n",
              "\n",
              "    .dataframe tbody tr th {\n",
              "        vertical-align: top;\n",
              "    }\n",
              "\n",
              "    .dataframe thead th {\n",
              "        text-align: right;\n",
              "    }\n",
              "</style>\n",
              "<table border=\"1\" class=\"dataframe\">\n",
              "  <thead>\n",
              "    <tr style=\"text-align: right;\">\n",
              "      <th></th>\n",
              "      <th>MedInc</th>\n",
              "      <th>HouseAge</th>\n",
              "      <th>AveRooms</th>\n",
              "      <th>AveBedrms</th>\n",
              "      <th>Population</th>\n",
              "      <th>AveOccup</th>\n",
              "      <th>Latitude</th>\n",
              "      <th>Longitude</th>\n",
              "      <th>Target</th>\n",
              "    </tr>\n",
              "  </thead>\n",
              "  <tbody>\n",
              "    <tr>\n",
              "      <th>MedInc</th>\n",
              "      <td>1.000000</td>\n",
              "      <td>-0.119034</td>\n",
              "      <td>0.326895</td>\n",
              "      <td>-0.062040</td>\n",
              "      <td>0.004834</td>\n",
              "      <td>0.018766</td>\n",
              "      <td>-0.079809</td>\n",
              "      <td>-0.015176</td>\n",
              "      <td>0.688075</td>\n",
              "    </tr>\n",
              "    <tr>\n",
              "      <th>HouseAge</th>\n",
              "      <td>-0.119034</td>\n",
              "      <td>1.000000</td>\n",
              "      <td>-0.153277</td>\n",
              "      <td>-0.077747</td>\n",
              "      <td>-0.296244</td>\n",
              "      <td>0.013191</td>\n",
              "      <td>0.011173</td>\n",
              "      <td>-0.108197</td>\n",
              "      <td>0.105623</td>\n",
              "    </tr>\n",
              "    <tr>\n",
              "      <th>AveRooms</th>\n",
              "      <td>0.326895</td>\n",
              "      <td>-0.153277</td>\n",
              "      <td>1.000000</td>\n",
              "      <td>0.847621</td>\n",
              "      <td>-0.072213</td>\n",
              "      <td>-0.004852</td>\n",
              "      <td>0.106389</td>\n",
              "      <td>-0.027540</td>\n",
              "      <td>0.151948</td>\n",
              "    </tr>\n",
              "    <tr>\n",
              "      <th>AveBedrms</th>\n",
              "      <td>-0.062040</td>\n",
              "      <td>-0.077747</td>\n",
              "      <td>0.847621</td>\n",
              "      <td>1.000000</td>\n",
              "      <td>-0.066197</td>\n",
              "      <td>-0.006181</td>\n",
              "      <td>0.069721</td>\n",
              "      <td>0.013344</td>\n",
              "      <td>-0.046701</td>\n",
              "    </tr>\n",
              "    <tr>\n",
              "      <th>Population</th>\n",
              "      <td>0.004834</td>\n",
              "      <td>-0.296244</td>\n",
              "      <td>-0.072213</td>\n",
              "      <td>-0.066197</td>\n",
              "      <td>1.000000</td>\n",
              "      <td>0.069863</td>\n",
              "      <td>-0.108785</td>\n",
              "      <td>0.099773</td>\n",
              "      <td>-0.024650</td>\n",
              "    </tr>\n",
              "    <tr>\n",
              "      <th>AveOccup</th>\n",
              "      <td>0.018766</td>\n",
              "      <td>0.013191</td>\n",
              "      <td>-0.004852</td>\n",
              "      <td>-0.006181</td>\n",
              "      <td>0.069863</td>\n",
              "      <td>1.000000</td>\n",
              "      <td>0.002366</td>\n",
              "      <td>0.002476</td>\n",
              "      <td>-0.023737</td>\n",
              "    </tr>\n",
              "    <tr>\n",
              "      <th>Latitude</th>\n",
              "      <td>-0.079809</td>\n",
              "      <td>0.011173</td>\n",
              "      <td>0.106389</td>\n",
              "      <td>0.069721</td>\n",
              "      <td>-0.108785</td>\n",
              "      <td>0.002366</td>\n",
              "      <td>1.000000</td>\n",
              "      <td>-0.924664</td>\n",
              "      <td>-0.144160</td>\n",
              "    </tr>\n",
              "    <tr>\n",
              "      <th>Longitude</th>\n",
              "      <td>-0.015176</td>\n",
              "      <td>-0.108197</td>\n",
              "      <td>-0.027540</td>\n",
              "      <td>0.013344</td>\n",
              "      <td>0.099773</td>\n",
              "      <td>0.002476</td>\n",
              "      <td>-0.924664</td>\n",
              "      <td>1.000000</td>\n",
              "      <td>-0.045967</td>\n",
              "    </tr>\n",
              "    <tr>\n",
              "      <th>Target</th>\n",
              "      <td>0.688075</td>\n",
              "      <td>0.105623</td>\n",
              "      <td>0.151948</td>\n",
              "      <td>-0.046701</td>\n",
              "      <td>-0.024650</td>\n",
              "      <td>-0.023737</td>\n",
              "      <td>-0.144160</td>\n",
              "      <td>-0.045967</td>\n",
              "      <td>1.000000</td>\n",
              "    </tr>\n",
              "  </tbody>\n",
              "</table>\n",
              "</div>"
            ],
            "text/plain": [
              "              MedInc  HouseAge  AveRooms  ...  Latitude  Longitude    Target\n",
              "MedInc      1.000000 -0.119034  0.326895  ... -0.079809  -0.015176  0.688075\n",
              "HouseAge   -0.119034  1.000000 -0.153277  ...  0.011173  -0.108197  0.105623\n",
              "AveRooms    0.326895 -0.153277  1.000000  ...  0.106389  -0.027540  0.151948\n",
              "AveBedrms  -0.062040 -0.077747  0.847621  ...  0.069721   0.013344 -0.046701\n",
              "Population  0.004834 -0.296244 -0.072213  ... -0.108785   0.099773 -0.024650\n",
              "AveOccup    0.018766  0.013191 -0.004852  ...  0.002366   0.002476 -0.023737\n",
              "Latitude   -0.079809  0.011173  0.106389  ...  1.000000  -0.924664 -0.144160\n",
              "Longitude  -0.015176 -0.108197 -0.027540  ... -0.924664   1.000000 -0.045967\n",
              "Target      0.688075  0.105623  0.151948  ... -0.144160  -0.045967  1.000000\n",
              "\n",
              "[9 rows x 9 columns]"
            ]
          },
          "metadata": {
            "tags": []
          },
          "execution_count": 394
        }
      ]
    },
    {
      "cell_type": "markdown",
      "metadata": {
        "id": "0o-siG-LCsY5",
        "colab_type": "text"
      },
      "source": [
        "\n",
        "\n",
        "---\n",
        "\n",
        "Let us consider only one feature say **MedInc**\n",
        "\n",
        "---\n",
        "\n"
      ]
    },
    {
      "cell_type": "code",
      "metadata": {
        "id": "qdYINFDDwkca",
        "colab_type": "code",
        "outputId": "cbdfb9a1-2aea-4394-cf8d-944c3544ca35",
        "colab": {
          "base_uri": "https://localhost:8080/",
          "height": 288
        }
      },
      "source": [
        "df[['MedInc', 'Target']].describe()"
      ],
      "execution_count": 0,
      "outputs": [
        {
          "output_type": "execute_result",
          "data": {
            "text/html": [
              "<div>\n",
              "<style scoped>\n",
              "    .dataframe tbody tr th:only-of-type {\n",
              "        vertical-align: middle;\n",
              "    }\n",
              "\n",
              "    .dataframe tbody tr th {\n",
              "        vertical-align: top;\n",
              "    }\n",
              "\n",
              "    .dataframe thead th {\n",
              "        text-align: right;\n",
              "    }\n",
              "</style>\n",
              "<table border=\"1\" class=\"dataframe\">\n",
              "  <thead>\n",
              "    <tr style=\"text-align: right;\">\n",
              "      <th></th>\n",
              "      <th>MedInc</th>\n",
              "      <th>Target</th>\n",
              "    </tr>\n",
              "  </thead>\n",
              "  <tbody>\n",
              "    <tr>\n",
              "      <th>count</th>\n",
              "      <td>20640.000000</td>\n",
              "      <td>20640.000000</td>\n",
              "    </tr>\n",
              "    <tr>\n",
              "      <th>mean</th>\n",
              "      <td>3.870671</td>\n",
              "      <td>2.068558</td>\n",
              "    </tr>\n",
              "    <tr>\n",
              "      <th>std</th>\n",
              "      <td>1.899822</td>\n",
              "      <td>1.153956</td>\n",
              "    </tr>\n",
              "    <tr>\n",
              "      <th>min</th>\n",
              "      <td>0.499900</td>\n",
              "      <td>0.149990</td>\n",
              "    </tr>\n",
              "    <tr>\n",
              "      <th>25%</th>\n",
              "      <td>2.563400</td>\n",
              "      <td>1.196000</td>\n",
              "    </tr>\n",
              "    <tr>\n",
              "      <th>50%</th>\n",
              "      <td>3.534800</td>\n",
              "      <td>1.797000</td>\n",
              "    </tr>\n",
              "    <tr>\n",
              "      <th>75%</th>\n",
              "      <td>4.743250</td>\n",
              "      <td>2.647250</td>\n",
              "    </tr>\n",
              "    <tr>\n",
              "      <th>max</th>\n",
              "      <td>15.000100</td>\n",
              "      <td>5.000010</td>\n",
              "    </tr>\n",
              "  </tbody>\n",
              "</table>\n",
              "</div>"
            ],
            "text/plain": [
              "             MedInc        Target\n",
              "count  20640.000000  20640.000000\n",
              "mean       3.870671      2.068558\n",
              "std        1.899822      1.153956\n",
              "min        0.499900      0.149990\n",
              "25%        2.563400      1.196000\n",
              "50%        3.534800      1.797000\n",
              "75%        4.743250      2.647250\n",
              "max       15.000100      5.000010"
            ]
          },
          "metadata": {
            "tags": []
          },
          "execution_count": 395
        }
      ]
    },
    {
      "cell_type": "markdown",
      "metadata": {
        "id": "6R5uw9ufEyPa",
        "colab_type": "text"
      },
      "source": [
        "**Pre-Processing**\n",
        "\n",
        "Notice that 75% of the data has price less than 2.65, but maximum price go as high as 5. Thus we should remove the extremely expensive houses which might prone noise."
      ]
    },
    {
      "cell_type": "code",
      "metadata": {
        "id": "fmfjygeawtFc",
        "colab_type": "code",
        "colab": {}
      },
      "source": [
        "df = df[df.Target < 5 ]\n"
      ],
      "execution_count": 0,
      "outputs": []
    },
    {
      "cell_type": "code",
      "metadata": {
        "id": "jCG6mbCASR09",
        "colab_type": "code",
        "outputId": "d08159ec-0981-4012-e35f-f930ccf973c9",
        "colab": {
          "base_uri": "https://localhost:8080/",
          "height": 224
        }
      },
      "source": [
        "df.MedInc"
      ],
      "execution_count": 0,
      "outputs": [
        {
          "output_type": "execute_result",
          "data": {
            "text/plain": [
              "0        8.3252\n",
              "1        8.3014\n",
              "2        7.2574\n",
              "3        5.6431\n",
              "4        3.8462\n",
              "          ...  \n",
              "20635    1.5603\n",
              "20636    2.5568\n",
              "20637    1.7000\n",
              "20638    1.8672\n",
              "20639    2.3886\n",
              "Name: MedInc, Length: 19648, dtype: float64"
            ]
          },
          "metadata": {
            "tags": []
          },
          "execution_count": 397
        }
      ]
    },
    {
      "cell_type": "markdown",
      "metadata": {
        "id": "uaJNB0L9OlJB",
        "colab_type": "text"
      },
      "source": [
        "---\n",
        "Normalization (Min-Max Scalar) :<br/>\n",
        "In this approach, the data is scaled to a fixed range — usually 0 to 1.\n",
        "<br/> $ X_{norm} = \\frac{ X - X_{min} } { X_{max} - X_{min} } $\n",
        " \n",
        "\n",
        "---"
      ]
    },
    {
      "cell_type": "code",
      "metadata": {
        "id": "PgBhzCOYFeTC",
        "colab_type": "code",
        "outputId": "1a15ca85-5e7a-45bf-f359-004a09673fa5",
        "colab": {
          "base_uri": "https://localhost:8080/",
          "height": 52
        }
      },
      "source": [
        "# Normalization of the MedInc and Target\n",
        "\n",
        "def Norm(dt):\n",
        "  mindt = dt.min()\n",
        "  maxdt = dt.max()\n",
        "  return pd.Series([(i - mindt)/(maxdt-mindt) for i in dt])       \n",
        "  # #return [(i - mindt)/(maxdt-mindt) for i in dt]    #by this command it return a list for further computation, min, max etc have to change in series    \n",
        "  \n",
        "x = Norm(df.MedInc)\n",
        "y = Norm(df.Target)\n",
        "print(\"maximum value of MedInc = {}\".format(x.max()))\n",
        "print(\"maximum value of Target = {}\".format(y.max()))\n",
        "# print(x,y)"
      ],
      "execution_count": 0,
      "outputs": [
        {
          "output_type": "stream",
          "text": [
            "maximum value of MedInc = 1.0\n",
            "maximum value of Target = 1.0\n"
          ],
          "name": "stdout"
        }
      ]
    },
    {
      "cell_type": "code",
      "metadata": {
        "id": "KSsHn4JI2p4M",
        "colab_type": "code",
        "outputId": "bfc22173-a565-487a-f155-15eeae0ef062",
        "colab": {
          "base_uri": "https://localhost:8080/",
          "height": 34
        }
      },
      "source": [
        "x.shape"
      ],
      "execution_count": 0,
      "outputs": [
        {
          "output_type": "execute_result",
          "data": {
            "text/plain": [
              "(19648,)"
            ]
          },
          "metadata": {
            "tags": []
          },
          "execution_count": 399
        }
      ]
    },
    {
      "cell_type": "code",
      "metadata": {
        "id": "rUvcWutP10aX",
        "colab_type": "code",
        "outputId": "7f382f1b-f07f-4d39-8b8c-563365723313",
        "colab": {
          "base_uri": "https://localhost:8080/",
          "height": 415
        }
      },
      "source": [
        "print(x,y)"
      ],
      "execution_count": 0,
      "outputs": [
        {
          "output_type": "stream",
          "text": [
            "0        0.539668\n",
            "1        0.538027\n",
            "2        0.466028\n",
            "3        0.354699\n",
            "4        0.230776\n",
            "           ...   \n",
            "19643    0.073130\n",
            "19644    0.141853\n",
            "19645    0.082764\n",
            "19646    0.094295\n",
            "19647    0.130253\n",
            "Length: 19648, dtype: float64 0        0.903946\n",
            "1        0.709565\n",
            "2        0.696344\n",
            "3        0.674035\n",
            "4        0.675894\n",
            "           ...   \n",
            "19643    0.130347\n",
            "19644    0.128281\n",
            "19645    0.159679\n",
            "19646    0.143980\n",
            "19647    0.153689\n",
            "Length: 19648, dtype: float64\n"
          ],
          "name": "stdout"
        }
      ]
    },
    {
      "cell_type": "code",
      "metadata": {
        "id": "NNq6QIXUw959",
        "colab_type": "code",
        "outputId": "497f3817-ea14-4b1a-e94d-70bfe2186d94",
        "colab": {
          "base_uri": "https://localhost:8080/",
          "height": 354
        }
      },
      "source": [
        "plt.figure(figsize=(10,5))\n",
        "plt.scatter(x, y, label='Data', c='#e377c2', s=6)\n",
        "plt.title('Correlation Between Income and House Price', fontSize=14)\n",
        "plt.xlabel('Income', fontSize=12)\n",
        "plt.ylabel('House Price', fontSize=12)\n",
        "plt.legend(loc=1, fontsize=10, borderpad=.6)\n",
        "plt.show()"
      ],
      "execution_count": 0,
      "outputs": [
        {
          "output_type": "display_data",
          "data": {
            "image/png": "[encoded data removed]",
            "text/plain": [
              "<Figure size 720x360 with 1 Axes>"
            ]
          },
          "metadata": {
            "tags": [],
            "needs_background": "light"
          }
        }
      ]
    },
    {
      "cell_type": "markdown",
      "metadata": {
        "id": "NsrZSo9lr4fa",
        "colab_type": "text"
      },
      "source": [
        "#**Linear Regression With scikit-learn**\n",
        "\n",
        "\n",
        "\n",
        "---\n",
        "\n",
        "\n",
        "There are five basic steps when you’re implementing linear regression:\n",
        "\n",
        "1. Import the packages and classes you need.\n",
        "2. Provide data to work with and eventually do appropriate transformations.\n",
        "3. Create a regression model and fit it with existing data.\n",
        "4. Check the results of model fitting to know whether the model is satisfactory.\n",
        "5. Apply the model for predictions.\n",
        "<br/> In short=> (model => fit => train => error & change in model if require)\n",
        "\n",
        "---\n",
        "\n"
      ]
    },
    {
      "cell_type": "markdown",
      "metadata": {
        "id": "iUQf_TQT298d",
        "colab_type": "text"
      },
      "source": [
        "#### Q. what mean by -1 in reshape"
      ]
    },
    {
      "cell_type": "code",
      "metadata": {
        "id": "d-5ZyAKDkKP6",
        "colab_type": "code",
        "outputId": "cec8fdb1-c3c3-469f-eab3-a7c4d31936bd",
        "colab": {
          "base_uri": "https://localhost:8080/",
          "height": 121
        }
      },
      "source": [
        "# Note X need to have one column and as many rows as necessary\n",
        "\n",
        "# X= np.array(x).reshape((1, -1))     #if in second place then x values inserted in column of X\n",
        "\n",
        "X= np.array(x).reshape((-1, 1))       # if -1 in 1st place then x values inserted in row of X\n",
        "y=np.array(y)\n",
        "\n",
        "print(x.ndim)\n",
        "print(x.shape)\n",
        "print(X.ndim)\n",
        "print(X.shape)\n",
        "print(y.ndim)\n",
        "print(y.shape)"
      ],
      "execution_count": 0,
      "outputs": [
        {
          "output_type": "stream",
          "text": [
            "1\n",
            "(19648,)\n",
            "2\n",
            "(19648, 1)\n",
            "1\n",
            "(19648,)\n"
          ],
          "name": "stdout"
        }
      ]
    },
    {
      "cell_type": "code",
      "metadata": {
        "id": "wVybs_ZL5c9g",
        "colab_type": "code",
        "outputId": "a7ebc1b0-4551-42ab-8c6d-bb58224a67c8",
        "colab": {
          "base_uri": "https://localhost:8080/",
          "height": 138
        }
      },
      "source": [
        "X"
      ],
      "execution_count": 0,
      "outputs": [
        {
          "output_type": "execute_result",
          "data": {
            "text/plain": [
              "array([[0.53966842],\n",
              "       [0.53802706],\n",
              "       [0.46602805],\n",
              "       ...,\n",
              "       [0.08276438],\n",
              "       [0.09429525],\n",
              "       [0.13025338]])"
            ]
          },
          "metadata": {
            "tags": []
          },
          "execution_count": 403
        }
      ]
    },
    {
      "cell_type": "markdown",
      "metadata": {
        "id": "ZYdH_KNAxM-W",
        "colab_type": "text"
      },
      "source": [
        "\n",
        "\n",
        "---\n",
        "\n",
        "\n",
        "This statement creates the variable model as the instance of LinearRegression. You can provide several optional parameters to LinearRegression:\n",
        "\n",
        "1. fit_intercept is a Boolean (True by default) that decides whether to calculate the intercept 𝑏 (True) or consider it equal to zero (False).\n",
        "2. normalize is a Boolean (False by default) that decides whether to normalize the input variables (True) or not (False).\n",
        "3. n_jobs is an integer or None (default) and represents the number of jobs used in parallel computation. None usually means one job and -1 to use all processors.\n",
        "\n",
        "\n",
        "---\n",
        "\n",
        "\n"
      ]
    },
    {
      "cell_type": "code",
      "metadata": {
        "id": "Pe_-Pf_1noHj",
        "colab_type": "code",
        "colab": {}
      },
      "source": [
        "#create a linear regression model and fit it using the existing data\n",
        "model = LinearRegression(normalize=False)\n"
      ],
      "execution_count": 0,
      "outputs": []
    },
    {
      "cell_type": "code",
      "metadata": {
        "id": "5IAKe4oRoB-Z",
        "colab_type": "code",
        "outputId": "b7006180-6ef1-4756-d647-4decc96ee5d3",
        "colab": {
          "base_uri": "https://localhost:8080/",
          "height": 34
        }
      },
      "source": [
        "#fit(), you calculate the optimal values of the weights m and 𝑏, using the existing input and output (X and y) as the argument\n",
        "model.fit(X, y)\n"
      ],
      "execution_count": 0,
      "outputs": [
        {
          "output_type": "execute_result",
          "data": {
            "text/plain": [
              "LinearRegression(copy_X=True, fit_intercept=True, n_jobs=None, normalize=False)"
            ]
          },
          "metadata": {
            "tags": []
          },
          "execution_count": 405
        }
      ]
    },
    {
      "cell_type": "code",
      "metadata": {
        "id": "3dFX23i4oefw",
        "colab_type": "code",
        "outputId": "a9bb5218-7752-4bb4-907b-7214ea462de3",
        "colab": {
          "base_uri": "https://localhost:8080/",
          "height": 52
        }
      },
      "source": [
        "print('intercept:', model.intercept_)\n",
        "print('slope:', model.coef_)"
      ],
      "execution_count": 0,
      "outputs": [
        {
          "output_type": "stream",
          "text": [
            "intercept: 0.10336187126396168\n",
            "slope: [1.19772056]\n"
          ],
          "name": "stdout"
        }
      ]
    },
    {
      "cell_type": "code",
      "metadata": {
        "id": "9wJi1-RyrBvJ",
        "colab_type": "code",
        "outputId": "65fd21f1-dff1-486e-f541-d28dbd9fda94",
        "colab": {
          "base_uri": "https://localhost:8080/",
          "height": 52
        }
      },
      "source": [
        "y_pred = model.predict(X)\n",
        "print(y_pred)\n",
        "print(y_pred.ndim)"
      ],
      "execution_count": 0,
      "outputs": [
        {
          "output_type": "stream",
          "text": [
            "[0.74973383 0.74776795 0.66153326 ... 0.20249047 0.21630123 0.25936902]\n",
            "1\n"
          ],
          "name": "stdout"
        }
      ]
    },
    {
      "cell_type": "code",
      "metadata": {
        "id": "Wr41nrKcrX7B",
        "colab_type": "code",
        "outputId": "ef05a1da-b177-4b2c-fe2b-3537afcbe9de",
        "colab": {
          "base_uri": "https://localhost:8080/",
          "height": 190
        }
      },
      "source": [
        "y_pred = model.intercept_ + model.coef_ * X\n",
        "print('predicted response:', y_pred, sep='\\n')\n",
        "print(type(y_pred))\n",
        "print(y_pred.ndim)"
      ],
      "execution_count": 0,
      "outputs": [
        {
          "output_type": "stream",
          "text": [
            "predicted response:\n",
            "[[0.74973383]\n",
            " [0.74776795]\n",
            " [0.66153326]\n",
            " ...\n",
            " [0.20249047]\n",
            " [0.21630123]\n",
            " [0.25936902]]\n",
            "<class 'numpy.ndarray'>\n",
            "2\n"
          ],
          "name": "stdout"
        }
      ]
    },
    {
      "cell_type": "code",
      "metadata": {
        "id": "QubAeT3XrsZ3",
        "colab_type": "code",
        "outputId": "d0cec830-e27b-4cfa-eea1-fc5d39574a00",
        "colab": {
          "base_uri": "https://localhost:8080/",
          "height": 351
        }
      },
      "source": [
        "plt.figure(figsize=(10,5))\n",
        "plt.scatter(X, y, label='Data', c='#388fd8', s=6)\n",
        "plt.plot(X, y_pred, c='#ff7702', lw=3, label='Regression')    # line width by lw\n",
        "plt.title('Linear Regression', fontSize=14)\n",
        "plt.xlabel('Income', fontSize=11)\n",
        "plt.ylabel('Price', fontSize=11)\n",
        "plt.legend(frameon=True, loc=0, fontsize=10)\n",
        "plt.show()"
      ],
      "execution_count": 0,
      "outputs": [
        {
          "output_type": "display_data",
          "data": {
            "image/png": "[encoded data removed]",
            "text/plain": [
              "<Figure size 720x360 with 1 Axes>"
            ]
          },
          "metadata": {
            "tags": [],
            "needs_background": "light"
          }
        }
      ]
    },
    {
      "cell_type": "markdown",
      "metadata": {
        "id": "YnuNYDvlydk5",
        "colab_type": "text"
      },
      "source": [
        "# **Linear Regression from Scratch**"
      ]
    },
    {
      "cell_type": "markdown",
      "metadata": {
        "id": "uwdaYxdsQjMj",
        "colab_type": "text"
      },
      "source": [
        "\n",
        "\n",
        "---\n",
        "\n",
        "We can represent the linear regression by the following equation:\n",
        "\n",
        "**y = mx+b** \n",
        "\n",
        "where m is the slope, b is the intercept, and x is the median income.\n",
        "\n",
        "The self is used to represent the instance of the class. With this keyword, you can access the attributes and methods of the class in python.\n",
        "\n",
        "---\n",
        "\n"
      ]
    },
    {
      "cell_type": "code",
      "metadata": {
        "id": "DNutMte-xEmm",
        "colab_type": "code",
        "colab": {}
      },
      "source": [
        "class LinearRegression:\n",
        "        \n",
        "    def fit(self, X, y):\n",
        "        # self.X = X\n",
        "        # self.y = y\n",
        "        m = ((np.mean(X) * np.mean(y) - np.mean(X*y)) / ((np.mean(X)**2) - np.mean(X**2)))  #self.m\n",
        "        self.b = np.mean(y) - m * np.mean(X)     #self.m\n",
        "    \n",
        "    def coeffs(self):\n",
        "        return m, self.b     #self.m\n",
        "    \n",
        "    def predict(self):\n",
        "        self.y_pred = m * X + self.b #self.X       self.m\n",
        "        return self.y_pred\n",
        "    "
      ],
      "execution_count": 0,
      "outputs": []
    },
    {
      "cell_type": "code",
      "metadata": {
        "id": "fA7zgh_0xOl-",
        "colab_type": "code",
        "outputId": "5dcf5098-d905-4b76-da05-c19951789830",
        "colab": {
          "base_uri": "https://localhost:8080/",
          "height": 52
        }
      },
      "source": [
        "# Normalization of the MedInc and Target\n",
        "\n",
        "def Norm(x):\n",
        "  minx = x.min()\n",
        "  maxx = x.max()\n",
        "  return pd.Series([(i - minx)/(maxx-minx) for i in x])\n",
        "X = Norm(df.MedInc)\n",
        "y = Norm(df.Target)\n",
        "print(\"maximum value of MedInc = {}\".format(x.max()))\n",
        "print(\"maximum value of Target = {}\".format(y.max()))"
      ],
      "execution_count": 0,
      "outputs": [
        {
          "output_type": "stream",
          "text": [
            "maximum value of MedInc = 1.0\n",
            "maximum value of Target = 1.0\n"
          ],
          "name": "stdout"
        }
      ]
    },
    {
      "cell_type": "code",
      "metadata": {
        "id": "I8O0-eOLxS_f",
        "colab_type": "code",
        "colab": {}
      },
      "source": [
        "lr = LinearRegression()"
      ],
      "execution_count": 0,
      "outputs": []
    },
    {
      "cell_type": "code",
      "metadata": {
        "id": "EA8Vu2V3xWqn",
        "colab_type": "code",
        "colab": {}
      },
      "source": [
        "lr.fit(X, y)"
      ],
      "execution_count": 0,
      "outputs": []
    },
    {
      "cell_type": "code",
      "metadata": {
        "id": "fdzGHN_xxaTD",
        "colab_type": "code",
        "outputId": "a30c43c6-7c4e-49d0-d910-5c42feb44b36",
        "colab": {
          "base_uri": "https://localhost:8080/",
          "height": 224
        }
      },
      "source": [
        "y_pred = lr.predict()\n",
        "y_pred"
      ],
      "execution_count": 0,
      "outputs": [
        {
          "output_type": "execute_result",
          "data": {
            "text/plain": [
              "0        0.344055\n",
              "1        0.343323\n",
              "2        0.311211\n",
              "3        0.261558\n",
              "4        0.206289\n",
              "           ...   \n",
              "19643    0.135978\n",
              "19644    0.166629\n",
              "19645    0.140275\n",
              "19646    0.145418\n",
              "19647    0.161455\n",
              "Length: 19648, dtype: float64"
            ]
          },
          "metadata": {
            "tags": []
          },
          "execution_count": 414
        }
      ]
    },
    {
      "cell_type": "code",
      "metadata": {
        "id": "ZeD_Y35_znMb",
        "colab_type": "code",
        "colab": {}
      },
      "source": [
        "m,b = lr.coeffs()"
      ],
      "execution_count": 0,
      "outputs": []
    },
    {
      "cell_type": "code",
      "metadata": {
        "id": "eFdT7gXZxePT",
        "colab_type": "code",
        "outputId": "ea383af1-2d6f-49d2-8783-5a706a0baf16",
        "colab": {
          "base_uri": "https://localhost:8080/",
          "height": 69
        }
      },
      "source": [
        "print(\"MSE:{}\".format(mean_squared_error(y, y_pred)))\n",
        "print(\"slope:{}\".format(m))\n",
        "print(\"intercept:{}\".format(b))"
      ],
      "execution_count": 0,
      "outputs": [
        {
          "output_type": "stream",
          "text": [
            "MSE:0.05715658771857775\n",
            "slope:0.4460023280721601\n",
            "intercept:0.10336187126397767\n"
          ],
          "name": "stdout"
        }
      ]
    },
    {
      "cell_type": "code",
      "metadata": {
        "id": "o3mrtQcwmNuq",
        "colab_type": "code",
        "outputId": "72ae8eea-e73b-4013-8820-f343baf1801e",
        "colab": {
          "base_uri": "https://localhost:8080/",
          "height": 351
        }
      },
      "source": [
        "plt.figure(figsize=(10,5))\n",
        "plt.scatter(X, y, label='Data', c='#388fd8', s=6)\n",
        "plt.plot(X, y_pred, c='#ff7702', lw=3, label='Regression')\n",
        "plt.title('Linear Regression', fontSize=14)\n",
        "plt.xlabel('Income', fontSize=11)\n",
        "plt.ylabel('Price', fontSize=11)\n",
        "plt.legend(frameon=True, loc=0, fontsize=10, borderpad=.6)\n",
        "plt.show()"
      ],
      "execution_count": 0,
      "outputs": [
        {
          "output_type": "display_data",
          "data": {
            "image/png": "[encoded data removed]",
            "text/plain": [
              "<Figure size 720x360 with 1 Axes>"
            ]
          },
          "metadata": {
            "tags": [],
            "needs_background": "light"
          }
        }
      ]
    },
    {
      "cell_type": "markdown",
      "metadata": {
        "id": "_9s68fgntc0v",
        "colab_type": "text"
      },
      "source": [
        "#**Gradient Descent**\n",
        "\n",
        "* If both the arrays 'a' and 'b' are 1-dimensional arrays, the dot() function performs the inner product of vectors (without complex conjugation).\n",
        "\n",
        "* If both the arrays 'a' and 'b' are 2-dimensional arrays, the dot() function performs the matrix multiplication. But for matrix multiplication use of matmul or 'a' @ 'b' is preferred.\n",
        "\n",
        "---"
      ]
    },
    {
      "cell_type": "markdown",
      "metadata": {
        "id": "kCLnQsWl7k9z",
        "colab_type": "text"
      },
      "source": [
        "### Ques. m -= lr * (-2 * X.dot(f).sum() / N)\n",
        "### And   b -= lr * (-2 * f.sum() / N) \n",
        "### not understood"
      ]
    },
    {
      "cell_type": "code",
      "metadata": {
        "id": "aLNYBzNDxsuz",
        "colab_type": "code",
        "colab": {}
      },
      "source": [
        "def gradient_descent(X, y, lr, epoch):\n",
        "    \n",
        "    m, b = 0.1, 0.1 # parameters\n",
        "    mse = [] \n",
        "    N = len(X) # number of samples\n",
        "    \n",
        "    for _ in range(epoch):\n",
        "                \n",
        "        f = y - (m*X + b)\n",
        "    \n",
        "        # Updating m and b\n",
        "        m -= lr * (-2 * X.dot(f).sum() / N)         # c -= b ==> c = c-b ;  k //= l ==> k = k//l , last one is floor division\n",
        "        b -= lr * (-2 * f.sum() / N)\n",
        "        mse.append(mean_squared_error(y, (m*X + b)))        \n",
        "    \n",
        "    return m, b, mse"
      ],
      "execution_count": 0,
      "outputs": []
    },
    {
      "cell_type": "code",
      "metadata": {
        "id": "msBlM5Sqx-df",
        "colab_type": "code",
        "outputId": "ff4053da-69f8-45f8-ce2d-bd8a97a57fa5",
        "colab": {
          "base_uri": "https://localhost:8080/",
          "height": 702
        }
      },
      "source": [
        "# X = Norm(df.MedInc)\n",
        "# y = Norm(df.Target)\n",
        "X = df.MedInc\n",
        "y = df.Target\n",
        "\n",
        "m, b, mse = gradient_descent(X, y, lr=0.01, epoch=100)\n",
        "\n",
        "y_pred = m*X + b\n",
        "\n",
        "print(\"MSE:\",mean_squared_error(y, y_pred))\n",
        "\n",
        "plt.figure(figsize=(10,5))\n",
        "plt.scatter(X, y, label='Data', c='#388fd8', s=6)\n",
        "plt.plot(X, y_pred, c='#ff7702', lw=3, label='Regression')\n",
        "plt.title('Linear Regression', fontSize=14)\n",
        "plt.xlabel('Income', fontSize=11)\n",
        "plt.ylabel('Price', fontSize=11)\n",
        "plt.legend( loc=0, fontsize=10, borderpad=.6)\n",
        "plt.show()\n",
        "\n",
        "\n",
        "\n",
        "plt.figure(figsize=(10,5))\n",
        "plt.plot(range(len(mse)), mse)\n",
        "plt.title('Gradient Descent Optimization', fontSize=14)\n",
        "plt.xlabel('Epochs')\n",
        "plt.ylabel('MSE')\n",
        "plt.show()"
      ],
      "execution_count": 0,
      "outputs": [
        {
          "output_type": "stream",
          "text": [
            "MSE: 0.5546937005203618\n"
          ],
          "name": "stdout"
        },
        {
          "output_type": "display_data",
          "data": {
            "image/png": "[encoded data removed]",
            "text/plain": [
              "<Figure size 720x360 with 1 Axes>"
            ]
          },
          "metadata": {
            "tags": [],
            "needs_background": "light"
          }
        },
        {
          "output_type": "display_data",
          "data": {
            "image/png": "[encoded data removed]",
            "text/plain": [
              "<Figure size 720x360 with 1 Axes>"
            ]
          },
          "metadata": {
            "tags": [],
            "needs_background": "light"
          }
        }
      ]
    },
    {
      "cell_type": "code",
      "metadata": {
        "id": "P_4j6r8vdjl5",
        "colab_type": "code",
        "colab": {}
      },
      "source": [
        ""
      ],
      "execution_count": 0,
      "outputs": []
    },
    {
      "cell_type": "markdown",
      "metadata": {
        "id": "i--IqAXoalRE",
        "colab_type": "text"
      },
      "source": [
        "#### some basic fuction work of python\n",
        "\n",
        "\n",
        "\n",
        "```\n",
        "df.set_index('month')   # Make month column as row indicator i.e. index\n",
        "df.set_index(['year', 'month'])   # two column as index\n",
        "```\n",
        "\n"
      ]
    },
    {
      "cell_type": "code",
      "metadata": {
        "id": "ZIg-eBDjalAT",
        "colab_type": "code",
        "outputId": "49c556ed-7c0c-402d-d429-2c33a65f149c",
        "colab": {
          "base_uri": "https://localhost:8080/",
          "height": 168
        }
      },
      "source": [
        "df = pd.DataFrame({'month': [1, 4, 7, 10],\n",
        "                   'year': [2012, 2014, 2013, 2014],\n",
        "                   'sale': [55, 40, 84, 31]})\n",
        "df"
      ],
      "execution_count": 0,
      "outputs": [
        {
          "output_type": "execute_result",
          "data": {
            "text/html": [
              "<div>\n",
              "<style scoped>\n",
              "    .dataframe tbody tr th:only-of-type {\n",
              "        vertical-align: middle;\n",
              "    }\n",
              "\n",
              "    .dataframe tbody tr th {\n",
              "        vertical-align: top;\n",
              "    }\n",
              "\n",
              "    .dataframe thead th {\n",
              "        text-align: right;\n",
              "    }\n",
              "</style>\n",
              "<table border=\"1\" class=\"dataframe\">\n",
              "  <thead>\n",
              "    <tr style=\"text-align: right;\">\n",
              "      <th></th>\n",
              "      <th>month</th>\n",
              "      <th>year</th>\n",
              "      <th>sale</th>\n",
              "    </tr>\n",
              "  </thead>\n",
              "  <tbody>\n",
              "    <tr>\n",
              "      <th>0</th>\n",
              "      <td>1</td>\n",
              "      <td>2012</td>\n",
              "      <td>55</td>\n",
              "    </tr>\n",
              "    <tr>\n",
              "      <th>1</th>\n",
              "      <td>4</td>\n",
              "      <td>2014</td>\n",
              "      <td>40</td>\n",
              "    </tr>\n",
              "    <tr>\n",
              "      <th>2</th>\n",
              "      <td>7</td>\n",
              "      <td>2013</td>\n",
              "      <td>84</td>\n",
              "    </tr>\n",
              "    <tr>\n",
              "      <th>3</th>\n",
              "      <td>10</td>\n",
              "      <td>2014</td>\n",
              "      <td>31</td>\n",
              "    </tr>\n",
              "  </tbody>\n",
              "</table>\n",
              "</div>"
            ],
            "text/plain": [
              "   month  year  sale\n",
              "0      1  2012    55\n",
              "1      4  2014    40\n",
              "2      7  2013    84\n",
              "3     10  2014    31"
            ]
          },
          "metadata": {
            "tags": []
          },
          "execution_count": 420
        }
      ]
    },
    {
      "cell_type": "code",
      "metadata": {
        "id": "B5qR_cnta8GV",
        "colab_type": "code",
        "outputId": "71558ae5-5322-419a-daa4-b24deb27f7ea",
        "colab": {
          "base_uri": "https://localhost:8080/",
          "height": 198
        }
      },
      "source": [
        "df.set_index([pd.Index([1, 2, 3, 4]), 'year'])"
      ],
      "execution_count": 0,
      "outputs": [
        {
          "output_type": "execute_result",
          "data": {
            "text/html": [
              "<div>\n",
              "<style scoped>\n",
              "    .dataframe tbody tr th:only-of-type {\n",
              "        vertical-align: middle;\n",
              "    }\n",
              "\n",
              "    .dataframe tbody tr th {\n",
              "        vertical-align: top;\n",
              "    }\n",
              "\n",
              "    .dataframe thead th {\n",
              "        text-align: right;\n",
              "    }\n",
              "</style>\n",
              "<table border=\"1\" class=\"dataframe\">\n",
              "  <thead>\n",
              "    <tr style=\"text-align: right;\">\n",
              "      <th></th>\n",
              "      <th></th>\n",
              "      <th>month</th>\n",
              "      <th>sale</th>\n",
              "    </tr>\n",
              "    <tr>\n",
              "      <th></th>\n",
              "      <th>year</th>\n",
              "      <th></th>\n",
              "      <th></th>\n",
              "    </tr>\n",
              "  </thead>\n",
              "  <tbody>\n",
              "    <tr>\n",
              "      <th>1</th>\n",
              "      <th>2012</th>\n",
              "      <td>1</td>\n",
              "      <td>55</td>\n",
              "    </tr>\n",
              "    <tr>\n",
              "      <th>2</th>\n",
              "      <th>2014</th>\n",
              "      <td>4</td>\n",
              "      <td>40</td>\n",
              "    </tr>\n",
              "    <tr>\n",
              "      <th>3</th>\n",
              "      <th>2013</th>\n",
              "      <td>7</td>\n",
              "      <td>84</td>\n",
              "    </tr>\n",
              "    <tr>\n",
              "      <th>4</th>\n",
              "      <th>2014</th>\n",
              "      <td>10</td>\n",
              "      <td>31</td>\n",
              "    </tr>\n",
              "  </tbody>\n",
              "</table>\n",
              "</div>"
            ],
            "text/plain": [
              "        month  sale\n",
              "  year             \n",
              "1 2012      1    55\n",
              "2 2014      4    40\n",
              "3 2013      7    84\n",
              "4 2014     10    31"
            ]
          },
          "metadata": {
            "tags": []
          },
          "execution_count": 421
        }
      ]
    },
    {
      "cell_type": "markdown",
      "metadata": {
        "id": "a5Eukw3EjECe",
        "colab_type": "text"
      },
      "source": [
        "# **Ridge Regression**"
      ]
    },
    {
      "cell_type": "code",
      "metadata": {
        "id": "JGV2itchh-8H",
        "colab_type": "code",
        "colab": {}
      },
      "source": [
        "# Let us use the same dataset california_housing\n",
        "housing_data = california_housing.fetch_california_housing()\n",
        "\n",
        "Features = pd.DataFrame(housing_data.data, columns=housing_data.feature_names)\n",
        "Target = pd.DataFrame(housing_data.target, columns=['Target'])\n",
        "df = Features.join(Target)\n",
        "\n",
        "housing_data.data = preprocessing.scale(housing_data.data)\n",
        "X_train, X_test, y_train, y_test = train_test_split(\n",
        "     housing_data.data, housing_data.target, test_size=0.3, random_state=10)"
      ],
      "execution_count": 0,
      "outputs": []
    },
    {
      "cell_type": "markdown",
      "metadata": {
        "id": "QoiNzfjhY8Zj",
        "colab_type": "text"
      },
      "source": [
        "dataframe.T for transpose<br/> "
      ]
    },
    {
      "cell_type": "code",
      "metadata": {
        "id": "ACqDRxGzk2-N",
        "colab_type": "code",
        "outputId": "41f94652-2ac8-4bf9-bae5-63e50be6c6e3",
        "colab": {
          "base_uri": "https://localhost:8080/",
          "height": 438
        }
      },
      "source": [
        "# initialize\n",
        "ridge_reg = Ridge(alpha=0)            #start from lembda = 0 i.e. no panelty only mse, here sklearn use alpha insteed of lambda\n",
        "ridge_reg.fit(X_train, y_train)\n",
        "ridge_df = pd.DataFrame({'variable': housing_data.feature_names, 'estimate0': ridge_reg.coef_})\n",
        "                           # Only above one make to column one have feature_names second calculated ridge_reg.coef_ (at lambda =0)\n",
        "ridge_train_pred = []\n",
        "ridge_test_pred = []\n",
        "\n",
        "# iterate lambdas\n",
        "for alpha in np.arange(1, 200, 1):          # lambda = 1 to 199 (gap of 1), starting and end point included; 0 calculated\n",
        "    # training\n",
        "    ridge_reg = Ridge(alpha=alpha)\n",
        "    ridge_reg.fit(X_train, y_train)\n",
        "    var_name = 'estimate' + str(alpha)\n",
        "    ridge_df[var_name] = ridge_reg.coef_\n",
        "    # prediction\n",
        "    ridge_train_pred.append(ridge_reg.predict(X_train))\n",
        "    ridge_test_pred.append(ridge_reg.predict(X_test))\n",
        "\n",
        "# organize dataframe\n",
        "# ridge_df = ridge_df.set_index('variable').T\n",
        "ridge_df = ridge_df.set_index('variable').T.rename_axis('estimate')   # This bring variable to column and estimate0,estimate1....estimate199 from column to row\n",
        "ridge_df"
      ],
      "execution_count": 0,
      "outputs": [
        {
          "output_type": "execute_result",
          "data": {
            "text/html": [
              "<div>\n",
              "<style scoped>\n",
              "    .dataframe tbody tr th:only-of-type {\n",
              "        vertical-align: middle;\n",
              "    }\n",
              "\n",
              "    .dataframe tbody tr th {\n",
              "        vertical-align: top;\n",
              "    }\n",
              "\n",
              "    .dataframe thead th {\n",
              "        text-align: right;\n",
              "    }\n",
              "</style>\n",
              "<table border=\"1\" class=\"dataframe\">\n",
              "  <thead>\n",
              "    <tr style=\"text-align: right;\">\n",
              "      <th>variable</th>\n",
              "      <th>MedInc</th>\n",
              "      <th>HouseAge</th>\n",
              "      <th>AveRooms</th>\n",
              "      <th>AveBedrms</th>\n",
              "      <th>Population</th>\n",
              "      <th>AveOccup</th>\n",
              "      <th>Latitude</th>\n",
              "      <th>Longitude</th>\n",
              "    </tr>\n",
              "    <tr>\n",
              "      <th>estimate</th>\n",
              "      <th></th>\n",
              "      <th></th>\n",
              "      <th></th>\n",
              "      <th></th>\n",
              "      <th></th>\n",
              "      <th></th>\n",
              "      <th></th>\n",
              "      <th></th>\n",
              "    </tr>\n",
              "  </thead>\n",
              "  <tbody>\n",
              "    <tr>\n",
              "      <th>estimate0</th>\n",
              "      <td>0.837657</td>\n",
              "      <td>0.121767</td>\n",
              "      <td>-0.282765</td>\n",
              "      <td>0.359682</td>\n",
              "      <td>0.001481</td>\n",
              "      <td>-0.043425</td>\n",
              "      <td>-0.923852</td>\n",
              "      <td>-0.891802</td>\n",
              "    </tr>\n",
              "    <tr>\n",
              "      <th>estimate1</th>\n",
              "      <td>0.837597</td>\n",
              "      <td>0.121861</td>\n",
              "      <td>-0.282527</td>\n",
              "      <td>0.359359</td>\n",
              "      <td>0.001511</td>\n",
              "      <td>-0.043439</td>\n",
              "      <td>-0.922939</td>\n",
              "      <td>-0.890877</td>\n",
              "    </tr>\n",
              "    <tr>\n",
              "      <th>estimate2</th>\n",
              "      <td>0.837537</td>\n",
              "      <td>0.121954</td>\n",
              "      <td>-0.282289</td>\n",
              "      <td>0.359036</td>\n",
              "      <td>0.001541</td>\n",
              "      <td>-0.043454</td>\n",
              "      <td>-0.922028</td>\n",
              "      <td>-0.889954</td>\n",
              "    </tr>\n",
              "    <tr>\n",
              "      <th>estimate3</th>\n",
              "      <td>0.837477</td>\n",
              "      <td>0.122047</td>\n",
              "      <td>-0.282051</td>\n",
              "      <td>0.358714</td>\n",
              "      <td>0.001571</td>\n",
              "      <td>-0.043468</td>\n",
              "      <td>-0.921119</td>\n",
              "      <td>-0.889033</td>\n",
              "    </tr>\n",
              "    <tr>\n",
              "      <th>estimate4</th>\n",
              "      <td>0.837416</td>\n",
              "      <td>0.122139</td>\n",
              "      <td>-0.281812</td>\n",
              "      <td>0.358392</td>\n",
              "      <td>0.001601</td>\n",
              "      <td>-0.043482</td>\n",
              "      <td>-0.920212</td>\n",
              "      <td>-0.888114</td>\n",
              "    </tr>\n",
              "    <tr>\n",
              "      <th>...</th>\n",
              "      <td>...</td>\n",
              "      <td>...</td>\n",
              "      <td>...</td>\n",
              "      <td>...</td>\n",
              "      <td>...</td>\n",
              "      <td>...</td>\n",
              "      <td>...</td>\n",
              "      <td>...</td>\n",
              "    </tr>\n",
              "    <tr>\n",
              "      <th>estimate195</th>\n",
              "      <td>0.823546</td>\n",
              "      <td>0.136138</td>\n",
              "      <td>-0.238133</td>\n",
              "      <td>0.301703</td>\n",
              "      <td>0.006063</td>\n",
              "      <td>-0.045401</td>\n",
              "      <td>-0.778134</td>\n",
              "      <td>-0.743792</td>\n",
              "    </tr>\n",
              "    <tr>\n",
              "      <th>estimate196</th>\n",
              "      <td>0.823466</td>\n",
              "      <td>0.136195</td>\n",
              "      <td>-0.237919</td>\n",
              "      <td>0.301433</td>\n",
              "      <td>0.006081</td>\n",
              "      <td>-0.045408</td>\n",
              "      <td>-0.777522</td>\n",
              "      <td>-0.743169</td>\n",
              "    </tr>\n",
              "    <tr>\n",
              "      <th>estimate197</th>\n",
              "      <td>0.823387</td>\n",
              "      <td>0.136253</td>\n",
              "      <td>-0.237704</td>\n",
              "      <td>0.301163</td>\n",
              "      <td>0.006099</td>\n",
              "      <td>-0.045415</td>\n",
              "      <td>-0.776911</td>\n",
              "      <td>-0.742547</td>\n",
              "    </tr>\n",
              "    <tr>\n",
              "      <th>estimate198</th>\n",
              "      <td>0.823307</td>\n",
              "      <td>0.136310</td>\n",
              "      <td>-0.237490</td>\n",
              "      <td>0.300894</td>\n",
              "      <td>0.006117</td>\n",
              "      <td>-0.045422</td>\n",
              "      <td>-0.776302</td>\n",
              "      <td>-0.741926</td>\n",
              "    </tr>\n",
              "    <tr>\n",
              "      <th>estimate199</th>\n",
              "      <td>0.823227</td>\n",
              "      <td>0.136367</td>\n",
              "      <td>-0.237276</td>\n",
              "      <td>0.300625</td>\n",
              "      <td>0.006135</td>\n",
              "      <td>-0.045428</td>\n",
              "      <td>-0.775693</td>\n",
              "      <td>-0.741307</td>\n",
              "    </tr>\n",
              "  </tbody>\n",
              "</table>\n",
              "<p>200 rows × 8 columns</p>\n",
              "</div>"
            ],
            "text/plain": [
              "variable       MedInc  HouseAge  AveRooms  ...  AveOccup  Latitude  Longitude\n",
              "estimate                                   ...                               \n",
              "estimate0    0.837657  0.121767 -0.282765  ... -0.043425 -0.923852  -0.891802\n",
              "estimate1    0.837597  0.121861 -0.282527  ... -0.043439 -0.922939  -0.890877\n",
              "estimate2    0.837537  0.121954 -0.282289  ... -0.043454 -0.922028  -0.889954\n",
              "estimate3    0.837477  0.122047 -0.282051  ... -0.043468 -0.921119  -0.889033\n",
              "estimate4    0.837416  0.122139 -0.281812  ... -0.043482 -0.920212  -0.888114\n",
              "...               ...       ...       ...  ...       ...       ...        ...\n",
              "estimate195  0.823546  0.136138 -0.238133  ... -0.045401 -0.778134  -0.743792\n",
              "estimate196  0.823466  0.136195 -0.237919  ... -0.045408 -0.777522  -0.743169\n",
              "estimate197  0.823387  0.136253 -0.237704  ... -0.045415 -0.776911  -0.742547\n",
              "estimate198  0.823307  0.136310 -0.237490  ... -0.045422 -0.776302  -0.741926\n",
              "estimate199  0.823227  0.136367 -0.237276  ... -0.045428 -0.775693  -0.741307\n",
              "\n",
              "[200 rows x 8 columns]"
            ]
          },
          "metadata": {
            "tags": []
          },
          "execution_count": 423
        }
      ]
    },
    {
      "cell_type": "code",
      "metadata": {
        "id": "xnRpEn0aupA-",
        "colab_type": "code",
        "outputId": "bc64dfb6-4980-427a-dd57-919f1da8772e",
        "colab": {
          "base_uri": "https://localhost:8080/",
          "height": 352
        }
      },
      "source": [
        "# plot betas by lambda\n",
        "fig, ax = plt.subplots(figsize=(10, 5))\n",
        "ax.plot(ridge_df.MedInc, 'r', ridge_df.HouseAge, 'g', ridge_df.AveRooms, 'b', ridge_df.AveBedrms, 'c', ridge_df.Population, 'y')\n",
        "ax.axhline(y=0, color='black', linestyle='--')\n",
        "ax.set_xlabel(\"Lambda\")\n",
        "ax.set_ylabel(\"Beta Estimate\")\n",
        "ax.set_title(\"Ridge Regression Trace\", fontsize=16)\n",
        "ax.legend(labels=['MedInc','HouseAge','AveRooms','AveBedrms','Population'])\n",
        "ax.grid(True)"
      ],
      "execution_count": 0,
      "outputs": [
        {
          "output_type": "display_data",
          "data": {
            "image/png": "[encoded data removed]",
            "text/plain": [
              "<Figure size 720x360 with 1 Axes>"
            ]
          },
          "metadata": {
            "tags": [],
            "needs_background": "light"
          }
        }
      ]
    },
    {
      "cell_type": "markdown",
      "metadata": {
        "id": "ZFak48JfNyrl",
        "colab_type": "text"
      },
      "source": [
        "# **Logistic Regression**\n",
        "\n",
        "\n",
        "---\n",
        "\n",
        "\n",
        " You can download the dataset from:\n",
        " https://www.kaggle.com/uciml/pima-indians-diabetes-database\n",
        "\n",
        "\n",
        "---\n",
        "\n"
      ]
    },
    {
      "cell_type": "code",
      "metadata": {
        "id": "I6dqUIw6oErn",
        "colab_type": "code",
        "colab": {}
      },
      "source": [
        ""
      ],
      "execution_count": 0,
      "outputs": []
    },
    {
      "cell_type": "code",
      "metadata": {
        "id": "2H75butHoF4p",
        "colab_type": "code",
        "outputId": "d3e14a6c-1b91-4324-b581-0e483ce9936b",
        "colab": {
          "base_uri": "https://localhost:8080/",
          "height": 124
        }
      },
      "source": [
        "from google.colab import drive\n",
        "drive.mount('/content/drive')"
      ],
      "execution_count": 0,
      "outputs": [
        {
          "output_type": "stream",
          "text": [
            "Go to this URL in a browser: https://accounts.google.com/o/oauth2/auth?client_id=947318989803-6bn6qk8qdgf4n4g3pfee6491hc0brc4i.apps.googleusercontent.com&redirect_uri=urn%3aietf%3awg%3aoauth%3a2.0%3aoob&response_type=code&scope=email%20https%3a%2f%2fwww.googleapis.com%2fauth%2fdocs.test%20https%3a%2f%2fwww.googleapis.com%2fauth%2fdrive%20https%3a%2f%2fwww.googleapis.com%2fauth%2fdrive.photos.readonly%20https%3a%2f%2fwww.googleapis.com%2fauth%2fpeopleapi.readonly\n",
            "\n",
            "Enter your authorization code:\n",
            "··········\n",
            "Mounted at /content/drive\n"
          ],
          "name": "stdout"
        }
      ]
    },
    {
      "cell_type": "code",
      "metadata": {
        "id": "WXqbgchcoj4t",
        "colab_type": "code",
        "outputId": "4c48088d-3c35-4892-f281-293279e325bc",
        "colab": {
          "base_uri": "https://localhost:8080/",
          "height": 34
        }
      },
      "source": [
        "%ls"
      ],
      "execution_count": 0,
      "outputs": [
        {
          "output_type": "stream",
          "text": [
            "\u001b[0m\u001b[01;34mdrive\u001b[0m/  \u001b[01;34msample_data\u001b[0m/\n"
          ],
          "name": "stdout"
        }
      ]
    },
    {
      "cell_type": "code",
      "metadata": {
        "id": "ozmQ05hvOGWG",
        "colab_type": "code",
        "outputId": "0cedff10-27ea-4bbc-a443-f93cae86abdf",
        "colab": {
          "base_uri": "https://localhost:8080/",
          "height": 408
        }
      },
      "source": [
        "\n",
        "df = pd.read_csv('drive/My Drive/Colab Notebooks/Lecture - ML/ML-4/diabetes.csv')\n",
        "\n",
        "df"
      ],
      "execution_count": 0,
      "outputs": [
        {
          "output_type": "execute_result",
          "data": {
            "text/html": [
              "<div>\n",
              "<style scoped>\n",
              "    .dataframe tbody tr th:only-of-type {\n",
              "        vertical-align: middle;\n",
              "    }\n",
              "\n",
              "    .dataframe tbody tr th {\n",
              "        vertical-align: top;\n",
              "    }\n",
              "\n",
              "    .dataframe thead th {\n",
              "        text-align: right;\n",
              "    }\n",
              "</style>\n",
              "<table border=\"1\" class=\"dataframe\">\n",
              "  <thead>\n",
              "    <tr style=\"text-align: right;\">\n",
              "      <th></th>\n",
              "      <th>Pregnancies</th>\n",
              "      <th>Glucose</th>\n",
              "      <th>BloodPressure</th>\n",
              "      <th>SkinThickness</th>\n",
              "      <th>Insulin</th>\n",
              "      <th>BMI</th>\n",
              "      <th>DiabetesPedigreeFunction</th>\n",
              "      <th>Age</th>\n",
              "      <th>Outcome</th>\n",
              "    </tr>\n",
              "  </thead>\n",
              "  <tbody>\n",
              "    <tr>\n",
              "      <th>0</th>\n",
              "      <td>6</td>\n",
              "      <td>148</td>\n",
              "      <td>72</td>\n",
              "      <td>35</td>\n",
              "      <td>0</td>\n",
              "      <td>33.6</td>\n",
              "      <td>0.627</td>\n",
              "      <td>50</td>\n",
              "      <td>1</td>\n",
              "    </tr>\n",
              "    <tr>\n",
              "      <th>1</th>\n",
              "      <td>1</td>\n",
              "      <td>85</td>\n",
              "      <td>66</td>\n",
              "      <td>29</td>\n",
              "      <td>0</td>\n",
              "      <td>26.6</td>\n",
              "      <td>0.351</td>\n",
              "      <td>31</td>\n",
              "      <td>0</td>\n",
              "    </tr>\n",
              "    <tr>\n",
              "      <th>2</th>\n",
              "      <td>8</td>\n",
              "      <td>183</td>\n",
              "      <td>64</td>\n",
              "      <td>0</td>\n",
              "      <td>0</td>\n",
              "      <td>23.3</td>\n",
              "      <td>0.672</td>\n",
              "      <td>32</td>\n",
              "      <td>1</td>\n",
              "    </tr>\n",
              "    <tr>\n",
              "      <th>3</th>\n",
              "      <td>1</td>\n",
              "      <td>89</td>\n",
              "      <td>66</td>\n",
              "      <td>23</td>\n",
              "      <td>94</td>\n",
              "      <td>28.1</td>\n",
              "      <td>0.167</td>\n",
              "      <td>21</td>\n",
              "      <td>0</td>\n",
              "    </tr>\n",
              "    <tr>\n",
              "      <th>4</th>\n",
              "      <td>0</td>\n",
              "      <td>137</td>\n",
              "      <td>40</td>\n",
              "      <td>35</td>\n",
              "      <td>168</td>\n",
              "      <td>43.1</td>\n",
              "      <td>2.288</td>\n",
              "      <td>33</td>\n",
              "      <td>1</td>\n",
              "    </tr>\n",
              "    <tr>\n",
              "      <th>...</th>\n",
              "      <td>...</td>\n",
              "      <td>...</td>\n",
              "      <td>...</td>\n",
              "      <td>...</td>\n",
              "      <td>...</td>\n",
              "      <td>...</td>\n",
              "      <td>...</td>\n",
              "      <td>...</td>\n",
              "      <td>...</td>\n",
              "    </tr>\n",
              "    <tr>\n",
              "      <th>763</th>\n",
              "      <td>10</td>\n",
              "      <td>101</td>\n",
              "      <td>76</td>\n",
              "      <td>48</td>\n",
              "      <td>180</td>\n",
              "      <td>32.9</td>\n",
              "      <td>0.171</td>\n",
              "      <td>63</td>\n",
              "      <td>0</td>\n",
              "    </tr>\n",
              "    <tr>\n",
              "      <th>764</th>\n",
              "      <td>2</td>\n",
              "      <td>122</td>\n",
              "      <td>70</td>\n",
              "      <td>27</td>\n",
              "      <td>0</td>\n",
              "      <td>36.8</td>\n",
              "      <td>0.340</td>\n",
              "      <td>27</td>\n",
              "      <td>0</td>\n",
              "    </tr>\n",
              "    <tr>\n",
              "      <th>765</th>\n",
              "      <td>5</td>\n",
              "      <td>121</td>\n",
              "      <td>72</td>\n",
              "      <td>23</td>\n",
              "      <td>112</td>\n",
              "      <td>26.2</td>\n",
              "      <td>0.245</td>\n",
              "      <td>30</td>\n",
              "      <td>0</td>\n",
              "    </tr>\n",
              "    <tr>\n",
              "      <th>766</th>\n",
              "      <td>1</td>\n",
              "      <td>126</td>\n",
              "      <td>60</td>\n",
              "      <td>0</td>\n",
              "      <td>0</td>\n",
              "      <td>30.1</td>\n",
              "      <td>0.349</td>\n",
              "      <td>47</td>\n",
              "      <td>1</td>\n",
              "    </tr>\n",
              "    <tr>\n",
              "      <th>767</th>\n",
              "      <td>1</td>\n",
              "      <td>93</td>\n",
              "      <td>70</td>\n",
              "      <td>31</td>\n",
              "      <td>0</td>\n",
              "      <td>30.4</td>\n",
              "      <td>0.315</td>\n",
              "      <td>23</td>\n",
              "      <td>0</td>\n",
              "    </tr>\n",
              "  </tbody>\n",
              "</table>\n",
              "<p>768 rows × 9 columns</p>\n",
              "</div>"
            ],
            "text/plain": [
              "     Pregnancies  Glucose  ...  Age  Outcome\n",
              "0              6      148  ...   50        1\n",
              "1              1       85  ...   31        0\n",
              "2              8      183  ...   32        1\n",
              "3              1       89  ...   21        0\n",
              "4              0      137  ...   33        1\n",
              "..           ...      ...  ...  ...      ...\n",
              "763           10      101  ...   63        0\n",
              "764            2      122  ...   27        0\n",
              "765            5      121  ...   30        0\n",
              "766            1      126  ...   47        1\n",
              "767            1       93  ...   23        0\n",
              "\n",
              "[768 rows x 9 columns]"
            ]
          },
          "metadata": {
            "tags": []
          },
          "execution_count": 432
        }
      ]
    },
    {
      "cell_type": "code",
      "metadata": {
        "id": "zxWUVg6ZQ6BL",
        "colab_type": "code",
        "colab": {}
      },
      "source": [
        "#split dataset in features and target variable\n",
        "feature_cols = ['Pregnancies', 'Insulin', 'BMI', 'Age','Glucose','BloodPressure','DiabetesPedigreeFunction']\n",
        "X = df[feature_cols] # Features\n",
        "y = df.Outcome # Target variable"
      ],
      "execution_count": 0,
      "outputs": []
    },
    {
      "cell_type": "code",
      "metadata": {
        "id": "uNpF-d-rRnFK",
        "colab_type": "code",
        "colab": {}
      },
      "source": [
        "# split X and y into training and testing sets\n",
        "from sklearn.model_selection import train_test_split\n",
        "\n",
        "X_train,X_test,y_train,y_test=train_test_split(X,y,test_size=0.25,random_state=0)"
      ],
      "execution_count": 0,
      "outputs": []
    },
    {
      "cell_type": "code",
      "metadata": {
        "id": "dEUXSh9rSGpQ",
        "colab_type": "code",
        "outputId": "4c5bfe50-ad71-46b2-f65a-6d621c005421",
        "colab": {
          "base_uri": "https://localhost:8080/",
          "height": 155
        }
      },
      "source": [
        "\n",
        "logreg = LogisticRegression()\n",
        "\n",
        "# fit the model with data\n",
        "logreg.fit(X_train,y_train)\n",
        "\n",
        "\n",
        "y_pred=logreg.predict(X_test)"
      ],
      "execution_count": 0,
      "outputs": [
        {
          "output_type": "stream",
          "text": [
            "/usr/local/lib/python3.6/dist-packages/sklearn/linear_model/_logistic.py:940: ConvergenceWarning: lbfgs failed to converge (status=1):\n",
            "STOP: TOTAL NO. of ITERATIONS REACHED LIMIT.\n",
            "\n",
            "Increase the number of iterations (max_iter) or scale the data as shown in:\n",
            "    https://scikit-learn.org/stable/modules/preprocessing.html\n",
            "Please also refer to the documentation for alternative solver options:\n",
            "    https://scikit-learn.org/stable/modules/linear_model.html#logistic-regression\n",
            "  extra_warning_msg=_LOGISTIC_SOLVER_CONVERGENCE_MSG)\n"
          ],
          "name": "stderr"
        }
      ]
    },
    {
      "cell_type": "code",
      "metadata": {
        "id": "_pZ01V0KSXJU",
        "colab_type": "code",
        "outputId": "2420327d-47b0-4255-bacb-44076d618179",
        "colab": {
          "base_uri": "https://localhost:8080/",
          "height": 52
        }
      },
      "source": [
        "\n",
        "cnf_matrix = metrics.confusion_matrix(y_test, y_pred)\n",
        "cnf_matrix"
      ],
      "execution_count": 0,
      "outputs": [
        {
          "output_type": "execute_result",
          "data": {
            "text/plain": [
              "array([[117,  13],\n",
              "       [ 24,  38]])"
            ]
          },
          "metadata": {
            "tags": []
          },
          "execution_count": 436
        }
      ]
    },
    {
      "cell_type": "code",
      "metadata": {
        "id": "ukuAHLI8Sj1M",
        "colab_type": "code",
        "outputId": "55ec1cd3-8fbe-4922-91af-8696075306ff",
        "colab": {
          "base_uri": "https://localhost:8080/",
          "height": 310
        }
      },
      "source": [
        "class_names=[0,1] # name  of classes\n",
        "fig, ax = plt.subplots()\n",
        "tick_marks = np.arange(len(class_names))\n",
        "plt.xticks(tick_marks)\n",
        "plt.yticks(tick_marks)\n",
        "# create heatmap\n",
        "sns.heatmap(pd.DataFrame(cnf_matrix), cmap=\"YlGnBu\")\n",
        "ax.xaxis.set_label_position(\"top\")\n",
        "plt.title('Confusion matrix', y=1.1)\n",
        "plt.ylabel('Actual label')\n",
        "plt.xlabel('Predicted label')"
      ],
      "execution_count": 0,
      "outputs": [
        {
          "output_type": "execute_result",
          "data": {
            "text/plain": [
              "Text(0.5, 15.0, 'Predicted label')"
            ]
          },
          "metadata": {
            "tags": []
          },
          "execution_count": 437
        },
        {
          "output_type": "display_data",
          "data": {
            "image/png": "[encoded data removed]",
            "text/plain": [
              "<Figure size 432x288 with 2 Axes>"
            ]
          },
          "metadata": {
            "tags": [],
            "needs_background": "light"
          }
        }
      ]
    },
    {
      "cell_type": "code",
      "metadata": {
        "id": "SY2y6411TAtu",
        "colab_type": "code",
        "outputId": "0021b459-50d6-4a1c-e7ff-ea2709dc0bc9",
        "colab": {
          "base_uri": "https://localhost:8080/",
          "height": 69
        }
      },
      "source": [
        "print(\"Accuracy:\",metrics.accuracy_score(y_test, y_pred))\n",
        "print(\"Precision:\",metrics.precision_score(y_test, y_pred))\n",
        "print(\"Recall:\",metrics.recall_score(y_test, y_pred))"
      ],
      "execution_count": 0,
      "outputs": [
        {
          "output_type": "stream",
          "text": [
            "Accuracy: 0.8072916666666666\n",
            "Precision: 0.7450980392156863\n",
            "Recall: 0.6129032258064516\n"
          ],
          "name": "stdout"
        }
      ]
    },
    {
      "cell_type": "code",
      "metadata": {
        "id": "-JBK2j0qTKdo",
        "colab_type": "code",
        "outputId": "20bd5649-c09e-410f-a724-01c4ea60e1f3",
        "colab": {
          "base_uri": "https://localhost:8080/",
          "height": 265
        }
      },
      "source": [
        "y_pred_proba = logreg.predict_proba(X_test)[:,1]\n",
        "fpr, tpr, _ = metrics.roc_curve(y_test,  y_pred_proba)\n",
        "auc = metrics.roc_auc_score(y_test, y_pred_proba)\n",
        "plt.plot(fpr,tpr,label=\"auc=\"+str(auc))\n",
        "plt.legend(loc=4)\n",
        "plt.show()"
      ],
      "execution_count": 0,
      "outputs": [
        {
          "output_type": "display_data",
          "data": {
            "image/png": "[encoded data removed]",
            "text/plain": [
              "<Figure size 432x288 with 1 Axes>"
            ]
          },
          "metadata": {
            "tags": [],
            "needs_background": "light"
          }
        }
      ]
    },
    {
      "cell_type": "markdown",
      "metadata": {
        "id": "fl1Q2M6BE-Pg",
        "colab_type": "text"
      },
      "source": [
        "#**Support Vector Machine**"
      ]
    },
    {
      "cell_type": "markdown",
      "metadata": {
        "id": "lIJM_g_SFJam",
        "colab_type": "text"
      },
      "source": [
        "\n",
        "\n",
        "---\n",
        "Let us create a **linearly separable** dataset.\n",
        "\n",
        "\n",
        "---\n",
        "\n"
      ]
    },
    {
      "cell_type": "code",
      "metadata": {
        "id": "T8y_KiVRFab2",
        "colab_type": "code",
        "colab": {}
      },
      "source": [
        "# from sklearn.datasets.samples_generator import make_blobs\n",
        "\n",
        "# X, y = make_blobs(n_samples=100, centers=2,\n",
        "#                   random_state=0, cluster_std=0.60)\n",
        "# plt.scatter(X[:, 0], X[:, 1], c=y, s=50, cmap=plt.cm.Paired);\n",
        "# # print(X)\n",
        "# # print(y)"
      ],
      "execution_count": 0,
      "outputs": []
    },
    {
      "cell_type": "code",
      "metadata": {
        "id": "C2g7zradFG9M",
        "colab_type": "code",
        "colab": {}
      },
      "source": [
        "# from sklearn import svm\n",
        "\n",
        "# clf = svm.SVC(kernel='linear', C=1000)\n",
        "# #clf = svm.SVC()\n",
        "# clf.fit(X, y)"
      ],
      "execution_count": 0,
      "outputs": []
    },
    {
      "cell_type": "code",
      "metadata": {
        "id": "blocBTb2glMv",
        "colab_type": "code",
        "colab": {}
      },
      "source": [
        "\n",
        "\n",
        "# plt.scatter(X[:, 0], X[:, 1], c=y, cmap=plt.cm.Paired)\n",
        "# # plot the decision function\n",
        "# ax = plt.gca()\n",
        "# xlim = ax.get_xlim()\n",
        "# ylim = ax.get_ylim()\n",
        "\n",
        "# # create grid to evaluate model\n",
        "# xx = np.linspace(xlim[0], xlim[1], 10)\n",
        "# yy = np.linspace(ylim[0], ylim[1], 10)\n",
        "\n",
        "# YY, XX = np.meshgrid(yy, xx)\n",
        "\n",
        "# xy = np.vstack([XX.ravel(), YY.ravel()]).T\n",
        "\n",
        "# #decision_function(self, X) evaluates the decision function for the samples in X.\n",
        "# Z = clf.decision_function(xy).reshape(XX.shape)\n",
        "\n",
        "# # plot decision boundary and margins\n",
        "# ax.contour(XX, YY, Z, colors='k', levels=[-1, 0, 1], alpha=0.5,\n",
        "#            linestyles=['--', '-', '--'])\n",
        "# # plot support vectors\n",
        "# ax.scatter(clf.support_vectors_[:, 0], clf.support_vectors_[:, 1], s=100,\n",
        "#            linewidth=1, facecolors='none', edgecolors='k')\n",
        "# plt.show()"
      ],
      "execution_count": 0,
      "outputs": []
    },
    {
      "cell_type": "code",
      "metadata": {
        "id": "MnOGdrDUnuu3",
        "colab_type": "code",
        "colab": {}
      },
      "source": [
        "# # the support vectors are:\n",
        "# clf.support_vectors_"
      ],
      "execution_count": 0,
      "outputs": []
    }
  ]
}
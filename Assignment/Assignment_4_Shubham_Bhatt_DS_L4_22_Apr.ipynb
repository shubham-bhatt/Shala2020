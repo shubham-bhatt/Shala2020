{
  "nbformat": 4,
  "nbformat_minor": 0,
  "metadata": {
    "colab": {
      "name": "Assignment_4_Shubham_Bhatt_DS_L4_22_Apr.ipynb",
      "provenance": [],
      "collapsed_sections": [
        "VgeGGbltnT3G"
      ],
      "include_colab_link": true
    },
    "kernelspec": {
      "name": "python3",
      "display_name": "Python 3"
    }
  },
  "cells": [
    {
      "cell_type": "markdown",
      "metadata": {
        "id": "view-in-github",
        "colab_type": "text"
      },
      "source": [
        "<a href=\"https://colab.research.google.com/github/shubham-bhatt/Shala2020/blob/master/Assignment/Assignment_4_Shubham_Bhatt_DS_L4_22_Apr.ipynb\" target=\"_parent\"><img src=\"https://colab.research.google.com/assets/colab-badge.svg\" alt=\"Open In Colab\"/></a>"
      ]
    },
    {
      "cell_type": "markdown",
      "metadata": {
        "id": "NVMUAJt8gzbA",
        "colab_type": "text"
      },
      "source": [
        "# MLE and Hypothesis Testing"
      ]
    },
    {
      "cell_type": "markdown",
      "metadata": {
        "id": "d1-kEc8hXx3N",
        "colab_type": "text"
      },
      "source": [
        "### Read the given csv file [```q4.csv```](https://raw.githubusercontent.com/Ipsit1234/SHALA/master/q4.csv) of samples. Assume that it is drawn from a exponential distribution. What is the difference of log likelihoods for $\\lambda = 1$ and $\\lambda = 2$ ? Which of the two is more strongly supported?"
      ]
    },
    {
      "cell_type": "code",
      "metadata": {
        "id": "DHfUkvD3KcNN",
        "colab_type": "code",
        "outputId": "77631748-889f-49dd-f3eb-d7c9f9c4729a",
        "colab": {
          "base_uri": "https://localhost:8080/",
          "height": 72
        }
      },
      "source": [
        "import numpy as np\n",
        "import pandas as pd\n",
        "from scipy import stats\n",
        "from matplotlib import pyplot as plt\n",
        "import seaborn as sns"
      ],
      "execution_count": 1,
      "outputs": [
        {
          "output_type": "stream",
          "text": [
            "/usr/local/lib/python3.6/dist-packages/statsmodels/tools/_testing.py:19: FutureWarning: pandas.util.testing is deprecated. Use the functions in the public API at pandas.testing instead.\n",
            "  import pandas.util.testing as tm\n"
          ],
          "name": "stderr"
        }
      ]
    },
    {
      "cell_type": "code",
      "metadata": {
        "id": "UAphR126LEwa",
        "colab_type": "code",
        "colab": {}
      },
      "source": [
        "url = 'https://raw.githubusercontent.com/Ipsit1234/SHALA/master/q4.csv'\n",
        "data = pd.read_csv(url,header=None)"
      ],
      "execution_count": 0,
      "outputs": []
    },
    {
      "cell_type": "markdown",
      "metadata": {
        "id": "nDpo9jpidQHk",
        "colab_type": "text"
      },
      "source": [
        "# PDF of exponential distribution is $\\lambda e^{-\\lambda x}$\n",
        "Define a function to find pdf. You can use any module to get pre-defined functions also. And then find the likelihood and log-likelihood"
      ]
    },
    {
      "cell_type": "code",
      "metadata": {
        "id": "Hio8uXrtLjl7",
        "colab_type": "code",
        "outputId": "5be48966-6c38-45ac-ba6f-1edabc6be2de",
        "colab": {
          "base_uri": "https://localhost:8080/",
          "height": 34
        }
      },
      "source": [
        "def pdf_ex(lmd,x):\n",
        "  return lmd * np.exp(-1*lmd*x)\n",
        "likelihood1 = 1\n",
        "likelihood2 = 1\n",
        "for a in data[1].values:\n",
        "  likelihood1 = likelihood1 * pdf_ex(x = a, lmd = 1)\n",
        "  likelihood2 = likelihood2 * pdf_ex(x = a, lmd = 2)\n",
        "log_likelihood1 = np.log(likelihood1)\n",
        "log_likelihood2 = np.log(likelihood2)\n",
        "print('log likelihood for lambda = 2 -log likelihood for lambda = 1 :', log_likelihood2 - log_likelihood1)"
      ],
      "execution_count": 3,
      "outputs": [
        {
          "output_type": "stream",
          "text": [
            "log likelihood for lambda = 2 -log likelihood for lambda = 1 : 20.366416970604874\n"
          ],
          "name": "stdout"
        }
      ]
    },
    {
      "cell_type": "markdown",
      "metadata": {
        "id": "BdTDDn7axtPE",
        "colab_type": "text"
      },
      "source": [
        "i.e. $\\lambda = 2$ more likely"
      ]
    },
    {
      "cell_type": "markdown",
      "metadata": {
        "id": "VgeGGbltnT3G",
        "colab_type": "text"
      },
      "source": [
        "#### Adding to that"
      ]
    },
    {
      "cell_type": "markdown",
      "metadata": {
        "id": "vuxu7rJGli3w",
        "colab_type": "text"
      },
      "source": [
        "---\n",
        "Several types of kernel functions are commonly used: uniform, triangle, Epanechnikov, quartic (biweight), tricube, triweight, Gaussian, quadratic and cosine\n",
        "\n",
        "---"
      ]
    },
    {
      "cell_type": "code",
      "metadata": {
        "id": "6XDAG1JWdK3R",
        "colab_type": "code",
        "outputId": "9d893716-9a4c-4a81-c6e2-efeab0b513bf",
        "colab": {
          "base_uri": "https://localhost:8080/",
          "height": 0
        }
      },
      "source": [
        "sns.distplot(data[1].values, kde=True, rug=False)       # kernel='gau' gaussian used by default, \n",
        "plt.show()"
      ],
      "execution_count": 4,
      "outputs": [
        {
          "output_type": "display_data",
          "data": {
            "image/png": "[encoded data removed]",
            "text/plain": [
              "<Figure size 432x288 with 1 Axes>"
            ]
          },
          "metadata": {
            "tags": [],
            "needs_background": "light"
          }
        }
      ]
    },
    {
      "cell_type": "code",
      "metadata": {
        "id": "TQY2NTzaVMw6",
        "colab_type": "code",
        "outputId": "e6ec37b8-93ad-485e-e84d-063c0ed2dd6a",
        "colab": {
          "base_uri": "https://localhost:8080/",
          "height": 0
        }
      },
      "source": [
        "data[1].max()"
      ],
      "execution_count": 5,
      "outputs": [
        {
          "output_type": "execute_result",
          "data": {
            "text/plain": [
              "1.7740164973784172"
            ]
          },
          "metadata": {
            "tags": []
          },
          "execution_count": 5
        }
      ]
    },
    {
      "cell_type": "code",
      "metadata": {
        "id": "_LX2Lrimhh4D",
        "colab_type": "code",
        "colab": {
          "base_uri": "https://localhost:8080/",
          "height": 0
        },
        "outputId": "4949eea9-0da6-49f2-dc54-c3cbad8e15fb"
      },
      "source": [
        "sns.kdeplot(data[1].values)\n",
        "plt.show()"
      ],
      "execution_count": 6,
      "outputs": [
        {
          "output_type": "display_data",
          "data": {
            "image/png": "[encoded data removed]",
            "text/plain": [
              "<Figure size 432x288 with 1 Axes>"
            ]
          },
          "metadata": {
            "tags": [],
            "needs_background": "light"
          }
        }
      ]
    },
    {
      "cell_type": "code",
      "metadata": {
        "id": "_vSuFsvZdMxL",
        "colab_type": "code",
        "colab": {
          "base_uri": "https://localhost:8080/",
          "height": 0
        },
        "outputId": "23710b01-f7e7-4b6f-9d42-dfae6fef64cd"
      },
      "source": [
        " # # Plot the distribution with a histogram and maximum likelihood gaussian distribution fit:\n",
        "from scipy.stats import norm\n",
        "sns.distplot(data[1].values, fit=norm, kde=False, rug=False) \n",
        "plt.show()"
      ],
      "execution_count": 7,
      "outputs": [
        {
          "output_type": "display_data",
          "data": {
            "image/png": "[encoded data removed]",
            "text/plain": [
              "<Figure size 432x288 with 1 Axes>"
            ]
          },
          "metadata": {
            "tags": [],
            "needs_background": "light"
          }
        }
      ]
    },
    {
      "cell_type": "markdown",
      "metadata": {
        "id": "0vRygBavem5r",
        "colab_type": "text"
      },
      "source": [
        "Q. how you can interpret which one is correct value of $ \\lambda $ ?\n",
        "\n",
        "Ans:- for which likelihood more"
      ]
    },
    {
      "cell_type": "markdown",
      "metadata": {
        "id": "q214ixOGeR35",
        "colab_type": "text"
      },
      "source": [
        "### Read the csv files [```q4_1.csv```](https://raw.githubusercontent.com/Ipsit1234/SHALA/master/q4_1.csv) and [```q4_2.csv```](https://raw.githubusercontent.com/Ipsit1234/SHALA/master/q4_2.csv) to get samples from two unknown distributions. Choose a significance level and implement the the most general two-sample t-test"
      ]
    },
    {
      "cell_type": "code",
      "metadata": {
        "id": "bAsMqWiGdb52",
        "colab_type": "code",
        "colab": {}
      },
      "source": [
        "sample1 = pd.read_csv('https://raw.githubusercontent.com/Ipsit1234/SHALA/master/q4_1.csv',header=None)\n",
        "sample2 = pd.read_csv('https://raw.githubusercontent.com/Ipsit1234/SHALA/master/q4_2.csv',header=None)"
      ],
      "execution_count": 0,
      "outputs": []
    },
    {
      "cell_type": "code",
      "metadata": {
        "id": "kgfxroJmn2DA",
        "colab_type": "code",
        "colab": {
          "base_uri": "https://localhost:8080/",
          "height": 224
        },
        "outputId": "17b111b3-7a38-4f3b-d7a0-818fdaec4c57"
      },
      "source": [
        "print(sample1[1])  #, sample2[1], sep='\\n')"
      ],
      "execution_count": 9,
      "outputs": [
        {
          "output_type": "stream",
          "text": [
            "0    -0.179278\n",
            "1     0.236714\n",
            "2     0.255502\n",
            "3    -0.029321\n",
            "4     0.004818\n",
            "        ...   \n",
            "95    0.017221\n",
            "96    0.548891\n",
            "97    0.171593\n",
            "98    0.299186\n",
            "99    0.177585\n",
            "Name: 1, Length: 100, dtype: float64\n"
          ],
          "name": "stdout"
        }
      ]
    },
    {
      "cell_type": "markdown",
      "metadata": {
        "id": "yIvOH3yWiTU9",
        "colab_type": "text"
      },
      "source": [
        "Find the parameters required to compute the T statistic"
      ]
    },
    {
      "cell_type": "markdown",
      "metadata": {
        "id": "T8FBbOBWzcx9",
        "colab_type": "text"
      },
      "source": [
        "$s_1^2 = S1 = var , s_2^2 = S2$ <br/>\n",
        "$ S = \\sqrt { \\frac{s_1^2}{n1}+\\frac{s_2^2}{n2}} $\n",
        "\n",
        "t = (X1 -X2)/S\n",
        "\n",
        "$ df = \\frac{(\\frac{S1}{n1} + \\frac{S2} {n2})^2} {\\frac{(S1/n1)^2}{n1-1}+ \\frac{(S2/n2)^2}{n2-1}} $"
      ]
    },
    {
      "cell_type": "code",
      "metadata": {
        "id": "_3TBrHZifG2u",
        "colab_type": "code",
        "colab": {}
      },
      "source": [
        "significance = 0.5        # this basically tells how much error is accepted, this value go to calculate critical_value then comapre \n",
        "X1 = sample1[1].mean()            # or #   X11 = np.mean(sample1[1].values)\n",
        "n1 = len(sample1.index)            # or #  sample1[1].count()\n",
        "X2 = sample2[1].mean()            # or #    sample1[1].shape[0]\n",
        "n2 = len(sample2.index)            # or #   np.var(sample1[1].values)\n",
        "S1 = sample2[1].var()\n",
        "S2 = sample2[1].var()\n",
        "S = np.sqrt((S1/n1)+(S2/n2))\n",
        "T = (X1 -X2)/S\n"
      ],
      "execution_count": 0,
      "outputs": []
    },
    {
      "cell_type": "markdown",
      "metadata": {
        "id": "3i3gxyQziXD5",
        "colab_type": "text"
      },
      "source": [
        "Find the degrees of freedom $(df)$ to get the critical value\n",
        "\n",
        "Critical value can find by $t_{(1- \\alpha )/ 2, df}$\n",
        "\n",
        "t.pdf => The probability density function for t"
      ]
    },
    {
      "cell_type": "code",
      "metadata": {
        "id": "p4Hx9UL3flF8",
        "colab_type": "code",
        "colab": {}
      },
      "source": [
        "df = (np.square((S1/n1) + (S2/n2)))/((np.square(S1/n1)/(n1 - 1)) + (np.square(S2/n2)/(n2 - 1)))\n",
        "critical_value = stats.t.pdf((1 - significance)/2, df)"
      ],
      "execution_count": 0,
      "outputs": []
    },
    {
      "cell_type": "markdown",
      "metadata": {
        "id": "nyai_S1zihfm",
        "colab_type": "text"
      },
      "source": [
        "Compare the critical value and the T statistic and conclude whether null hypothesis is accepted or not. Print 'YES' if it is rejected, otherwise print 'NO'.\n"
      ]
    },
    {
      "cell_type": "code",
      "metadata": {
        "id": "ST8J42mAfn0R",
        "colab_type": "code",
        "colab": {
          "base_uri": "https://localhost:8080/",
          "height": 34
        },
        "outputId": "b5905025-c508-44c9-d08e-d676bdbe4cc4"
      },
      "source": [
        "# When absolute value of T > critical one then we reject null hypothesis\n",
        "if critical_value < np.abs(T):\n",
        "  print('Null hypothesis is rejected')\n",
        "else:\n",
        "  print('Null hypothesis is not rejected')\n"
      ],
      "execution_count": 13,
      "outputs": [
        {
          "output_type": "stream",
          "text": [
            "Null hypothesis is rejected\n"
          ],
          "name": "stdout"
        }
      ]
    },
    {
      "cell_type": "markdown",
      "metadata": {
        "id": "SrOP9BwSiwVc",
        "colab_type": "text"
      },
      "source": [
        "Plot the distribution of both the samples to visualize"
      ]
    },
    {
      "cell_type": "code",
      "metadata": {
        "id": "omfVDZqxfyAM",
        "colab_type": "code",
        "outputId": "1e31c765-d48a-4818-e069-83fe709f8adf",
        "colab": {
          "base_uri": "https://localhost:8080/",
          "height": 265
        }
      },
      "source": [
        "sns.distplot(sample1[1].values)\n",
        "\n",
        "sns.distplot(sample2[1].values)\n",
        "plt.legend(['first sample','second sample'])\n",
        "plt.show()"
      ],
      "execution_count": 14,
      "outputs": [
        {
          "output_type": "display_data",
          "data": {
            "image/png": "[encoded data removed]",
            "text/plain": [
              "<Figure size 432x288 with 1 Axes>"
            ]
          },
          "metadata": {
            "tags": [],
            "needs_background": "light"
          }
        }
      ]
    },
    {
      "cell_type": "code",
      "metadata": {
        "id": "Z-5ammelgOnA",
        "colab_type": "code",
        "colab": {}
      },
      "source": [
        ""
      ],
      "execution_count": 0,
      "outputs": []
    }
  ]
}
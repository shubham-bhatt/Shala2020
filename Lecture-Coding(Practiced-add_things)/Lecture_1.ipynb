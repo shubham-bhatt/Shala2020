{
  "nbformat": 4,
  "nbformat_minor": 0,
  "metadata": {
    "colab": {
      "name": "Lecture_1.ipynb",
      "provenance": [],
      "collapsed_sections": [],
      "include_colab_link": true
    },
    "kernelspec": {
      "name": "python3",
      "display_name": "Python 3"
    }
  },
  "cells": [
    {
      "cell_type": "markdown",
      "metadata": {
        "id": "view-in-github",
        "colab_type": "text"
      },
      "source": [
        "<a href=\"https://colab.research.google.com/github/shubham-bhatt/Shala2020/blob/master/Lecture-Coding(Practiced-add_things)/Lecture_1.ipynb\" target=\"_parent\"><img src=\"https://colab.research.google.com/assets/colab-badge.svg\" alt=\"Open In Colab\"/></a>"
      ]
    },
    {
      "cell_type": "markdown",
      "metadata": {
        "id": "mvuy-9WFOQH7",
        "colab_type": "text"
      },
      "source": [
        "#**Getting Started**\n",
        "\n",
        "\n"
      ]
    },
    {
      "cell_type": "markdown",
      "metadata": {
        "id": "sDVspJIUHyDa",
        "colab_type": "text"
      },
      "source": [
        "\n",
        "\n",
        "---\n",
        "\n",
        "#Part1: numpy\n",
        "\n",
        "---\n",
        "\n"
      ]
    },
    {
      "cell_type": "markdown",
      "metadata": {
        "id": "DX53_7TimE-m",
        "colab_type": "text"
      },
      "source": [
        "\n",
        "\n",
        "---\n",
        "\n",
        "\n",
        "**1. Importing the module**\n",
        "\n",
        "\n",
        "---\n",
        "\n"
      ]
    },
    {
      "cell_type": "code",
      "metadata": {
        "id": "KFr9wMqhl_YT",
        "colab_type": "code",
        "colab": {}
      },
      "source": [
        "import numpy as np"
      ],
      "execution_count": 0,
      "outputs": []
    },
    {
      "cell_type": "markdown",
      "metadata": {
        "id": "vOnPMb07nlix",
        "colab_type": "text"
      },
      "source": [
        "\n",
        "\n",
        "---\n",
        "**2. Creating an array**\n",
        "*\n",
        "\n",
        "\n",
        "---\n",
        "\n",
        "\n"
      ]
    },
    {
      "cell_type": "markdown",
      "metadata": {
        "id": "0It9kXMVZuRY",
        "colab_type": "text"
      },
      "source": [
        "Converting list to np array\n",
        "calling numpy library by np then function array\n",
        "\n",
        "[ ] as many that many dim array ==> here 2\n",
        "\n",
        "**Ques:-** what does mean here as [ ] used then that much dimension of array will create"
      ]
    },
    {
      "cell_type": "code",
      "metadata": {
        "id": "wW1519TpnxWp",
        "colab_type": "code",
        "outputId": "9f94e5e0-d8d2-445a-ca10-3c3502ff66c0",
        "colab": {
          "base_uri": "https://localhost:8080/",
          "height": 84
        }
      },
      "source": [
        "a = np.array([[1,2,3],[4,5,6],[2,4,8]])\n",
        "print(a)\n",
        "print(type(a))"
      ],
      "execution_count": 0,
      "outputs": [
        {
          "output_type": "stream",
          "text": [
            "[[1 2 3]\n",
            " [4 5 6]\n",
            " [2 4 8]]\n",
            "<class 'numpy.ndarray'>\n"
          ],
          "name": "stdout"
        }
      ]
    },
    {
      "cell_type": "code",
      "metadata": {
        "id": "9f_-t_QSoPyy",
        "colab_type": "code",
        "outputId": "5a0b3f80-c64d-49f3-fc3d-97edac42c1a0",
        "colab": {
          "base_uri": "https://localhost:8080/",
          "height": 50
        }
      },
      "source": [
        "b = np.array( [ [1,2], [3,4] ], dtype=complex )\n",
        "print(b)"
      ],
      "execution_count": 0,
      "outputs": [
        {
          "output_type": "stream",
          "text": [
            "[[1.+0.j 2.+0.j]\n",
            " [3.+0.j 4.+0.j]]\n"
          ],
          "name": "stdout"
        }
      ]
    },
    {
      "cell_type": "markdown",
      "metadata": {
        "id": "gZegikUvfjsz",
        "colab_type": "text"
      },
      "source": [
        "**numpy.zeros(shape, dtype = None, order = ‘C’)**\n",
        "\n",
        "shape : integer or sequence of integers eg:-**2,** .. and ..  (2,), .. and .. **[2, 2],**\n",
        "\n",
        "dtype : [optional, float(byDeafult)]  eg:- **dtype = int**   ...   and   ...  dtype=[('x', 'float'), ('y', 'int')]"
      ]
    },
    {
      "cell_type": "code",
      "metadata": {
        "id": "Pl5tQpAFIa93",
        "colab_type": "code",
        "outputId": "a93b24b5-74d9-4132-ef5f-2de63ff24e74",
        "colab": {
          "base_uri": "https://localhost:8080/",
          "height": 50
        }
      },
      "source": [
        "# create an array which contains zeros\n",
        "c = np.zeros((2,3)) #2 row 3 column\n",
        "print('c = {}'.format(c))\n"
      ],
      "execution_count": 0,
      "outputs": [
        {
          "output_type": "stream",
          "text": [
            "c = [[0. 0. 0.]\n",
            " [0. 0. 0.]]\n"
          ],
          "name": "stdout"
        }
      ]
    },
    {
      "cell_type": "code",
      "metadata": {
        "id": "fT2yqd4FhSfD",
        "colab_type": "code",
        "outputId": "02f71e1b-39f3-4121-8905-ad0ffee4a7b3",
        "colab": {
          "base_uri": "https://localhost:8080/",
          "height": 101
        }
      },
      "source": [
        "k1 = np.zeros((3,3)) #can use [3,3] or (3,3)\n",
        "print(\"\\nMatrix k : \\n\", k1)"
      ],
      "execution_count": 0,
      "outputs": [
        {
          "output_type": "stream",
          "text": [
            "\n",
            "Matrix k : \n",
            " [[0. 0. 0.]\n",
            " [0. 0. 0.]\n",
            " [0. 0. 0.]]\n"
          ],
          "name": "stdout"
        }
      ]
    },
    {
      "cell_type": "code",
      "metadata": {
        "id": "xh2WyoboiZug",
        "colab_type": "code",
        "outputId": "6fffb7d8-8c33-43c8-87c7-d50d562b053b",
        "colab": {
          "base_uri": "https://localhost:8080/",
          "height": 67
        }
      },
      "source": [
        "k2 = np.zeros((2,), dtype=[('x', 'float'), ('y', 'int'), ('z', 'float')]) \n",
        "print(\"\\nMatrix k : \\n\", k2)"
      ],
      "execution_count": 0,
      "outputs": [
        {
          "output_type": "stream",
          "text": [
            "\n",
            "Matrix k : \n",
            " [(0., 0, 0.) (0., 0, 0.)]\n"
          ],
          "name": "stdout"
        }
      ]
    },
    {
      "cell_type": "code",
      "metadata": {
        "id": "HwrfytTGiiPG",
        "colab_type": "code",
        "outputId": "84b16cda-8b2b-4d2a-8f57-cb8ede799bcc",
        "colab": {
          "base_uri": "https://localhost:8080/",
          "height": 67
        }
      },
      "source": [
        "k3 = np.zeros((2,), dtype=[('x', 'float'), ('y', 'int')]) \n",
        "print(\"\\nMatrix k : \\n\", k3)"
      ],
      "execution_count": 0,
      "outputs": [
        {
          "output_type": "stream",
          "text": [
            "\n",
            "Matrix k : \n",
            " [(0., 0) (0., 0)]\n"
          ],
          "name": "stdout"
        }
      ]
    },
    {
      "cell_type": "code",
      "metadata": {
        "id": "IuBYcT_2I0x_",
        "colab_type": "code",
        "outputId": "24086aac-d370-4487-bf97-2ae7c2331260",
        "colab": {
          "base_uri": "https://localhost:8080/",
          "height": 134
        }
      },
      "source": [
        "# create an array of ones\n",
        "d = np.ones((2,3,4), dtype=np.int16 ) #\n",
        "print('d = {}'.format(d))"
      ],
      "execution_count": 0,
      "outputs": [
        {
          "output_type": "stream",
          "text": [
            "d = [[[1 1 1 1]\n",
            "  [1 1 1 1]\n",
            "  [1 1 1 1]]\n",
            "\n",
            " [[1 1 1 1]\n",
            "  [1 1 1 1]\n",
            "  [1 1 1 1]]]\n"
          ],
          "name": "stdout"
        }
      ]
    },
    {
      "cell_type": "markdown",
      "metadata": {
        "id": "iCrnDKl-wP-6",
        "colab_type": "text"
      },
      "source": [
        "it just intialize array didnt fill value, then \n",
        "\n",
        "**Ques :- what use of np.empty** If we want random we can use random command"
      ]
    },
    {
      "cell_type": "code",
      "metadata": {
        "id": "qqchcMKJJC9q",
        "colab_type": "code",
        "outputId": "fedfd2c7-4524-4c76-9ae6-413e898a228b",
        "colab": {
          "base_uri": "https://localhost:8080/",
          "height": 67
        }
      },
      "source": [
        "# create an empty array\n",
        "e = np.empty((3,3))\n",
        "print('e = {}'.format(e))"
      ],
      "execution_count": 0,
      "outputs": [
        {
          "output_type": "stream",
          "text": [
            "e = [[0. 0. 0.]\n",
            " [0. 0. 0.]\n",
            " [0. 0. 0.]]\n"
          ],
          "name": "stdout"
        }
      ]
    },
    {
      "cell_type": "markdown",
      "metadata": {
        "id": "olsZH75Ywttf",
        "colab_type": "text"
      },
      "source": [
        "make identity matrix + have to give size in()"
      ]
    },
    {
      "cell_type": "code",
      "metadata": {
        "id": "rX9_QmN3JM7V",
        "colab_type": "code",
        "outputId": "33a8f4f5-9b58-4cae-d965-347569bddb9e",
        "colab": {
          "base_uri": "https://localhost:8080/",
          "height": 67
        }
      },
      "source": [
        "# create an identity array\n",
        "f = np.eye(3)\n",
        "print('f = {}'.format(f))"
      ],
      "execution_count": 0,
      "outputs": [
        {
          "output_type": "stream",
          "text": [
            "f = [[1. 0. 0.]\n",
            " [0. 1. 0.]\n",
            " [0. 0. 1.]]\n"
          ],
          "name": "stdout"
        }
      ]
    },
    {
      "cell_type": "markdown",
      "metadata": {
        "id": "NARgJE88w_Rp",
        "colab_type": "text"
      },
      "source": [
        "np.ones_like(c) or np.zeros_like(c) Take array c as an argument then create new array with all one or zeros data type and shape will same as c(used above not written so flot)"
      ]
    },
    {
      "cell_type": "code",
      "metadata": {
        "id": "ujLCPiIsJYPb",
        "colab_type": "code",
        "outputId": "43852345-69e6-4ea9-90f5-afba7233ffdc",
        "colab": {
          "base_uri": "https://localhost:8080/",
          "height": 50
        }
      },
      "source": [
        "# create an array of ones with the same size of array c\n",
        "g = np.ones_like(c)\n",
        "print('g = {}'.format(g))"
      ],
      "execution_count": 0,
      "outputs": [
        {
          "output_type": "stream",
          "text": [
            "g = [[1. 1. 1.]\n",
            " [1. 1. 1.]]\n"
          ],
          "name": "stdout"
        }
      ]
    },
    {
      "cell_type": "markdown",
      "metadata": {
        "id": "vXnLtEz0zjdO",
        "colab_type": "text"
      },
      "source": [
        "can fill by any coustom value jast give shape (3,2) here then value \n",
        "\n",
        "np.ife just show very large value"
      ]
    },
    {
      "cell_type": "code",
      "metadata": {
        "id": "casvUbE6Jpyw",
        "colab_type": "code",
        "outputId": "70eb894c-d2d2-4fc2-90f9-d7e637a977de",
        "colab": {
          "base_uri": "https://localhost:8080/",
          "height": 118
        }
      },
      "source": [
        "# create an array filled with inf values\n",
        "h = np.full((3, 2), 5)\n",
        "h2 = np.full((3, 2), np.inf)\n",
        "print('h = {}'.format(h))\n",
        "\n",
        "print(h2)"
      ],
      "execution_count": 0,
      "outputs": [
        {
          "output_type": "stream",
          "text": [
            "h = [[5 5]\n",
            " [5 5]\n",
            " [5 5]]\n",
            "[[inf inf]\n",
            " [inf inf]\n",
            " [inf inf]]\n"
          ],
          "name": "stdout"
        }
      ]
    },
    {
      "cell_type": "code",
      "metadata": {
        "id": "PRMjbvwgKIlE",
        "colab_type": "code",
        "outputId": "3ea57c38-1342-410b-befe-7f5c83895239",
        "colab": {
          "base_uri": "https://localhost:8080/",
          "height": 67
        }
      },
      "source": [
        "# create a 3*3 array\n",
        "i = np.array([[0,1,2],[3,4,5],[6,7,8]])\n",
        "print('i = {}'.format(i))\n"
      ],
      "execution_count": 0,
      "outputs": [
        {
          "output_type": "stream",
          "text": [
            "i = [[0 1 2]\n",
            " [3 4 5]\n",
            " [6 7 8]]\n"
          ],
          "name": "stdout"
        }
      ]
    },
    {
      "cell_type": "markdown",
      "metadata": {
        "id": "cV2v7kYQ2X4P",
        "colab_type": "text"
      },
      "source": [
        "square matrix as input then diag output"
      ]
    },
    {
      "cell_type": "code",
      "metadata": {
        "id": "-yY0p5goKYWk",
        "colab_type": "code",
        "outputId": "1821dc68-6a35-4514-ce00-dd4b60c9fbeb",
        "colab": {
          "base_uri": "https://localhost:8080/",
          "height": 34
        }
      },
      "source": [
        "# find the diagonal of the previous array\n",
        "j = np.diag(i)\n",
        "print('j = {}'.format(j))"
      ],
      "execution_count": 0,
      "outputs": [
        {
          "output_type": "stream",
          "text": [
            "j = [0 4 8]\n"
          ],
          "name": "stdout"
        }
      ]
    },
    {
      "cell_type": "code",
      "metadata": {
        "id": "9kJKgZPhLyB6",
        "colab_type": "code",
        "outputId": "0c1afeee-06fb-4804-89c1-23b084f5d2e1",
        "colab": {
          "base_uri": "https://localhost:8080/",
          "height": 67
        }
      },
      "source": [
        "# find the diagonals above and below the main diagonal\n",
        "j = np.diag(i,k = 1)\n",
        "print('j = {}'.format(j))\n",
        "print(\"-\"*20)\n",
        "j = np.diag(i,k = -1)\n",
        "print('j = {}'.format(j))\n"
      ],
      "execution_count": 0,
      "outputs": [
        {
          "output_type": "stream",
          "text": [
            "j = [1 5]\n",
            "--------------------\n",
            "j = [3 7]\n"
          ],
          "name": "stdout"
        }
      ]
    },
    {
      "cell_type": "markdown",
      "metadata": {
        "id": "bCBUBKZNNYqU",
        "colab_type": "text"
      },
      "source": [
        "without numpy (code copied have to read about this)"
      ]
    },
    {
      "cell_type": "code",
      "metadata": {
        "id": "1zYukQumNPyn",
        "colab_type": "code",
        "outputId": "5c7008b1-249f-478d-9915-2dff0170e323",
        "colab": {
          "base_uri": "https://localhost:8080/",
          "height": 34
        }
      },
      "source": [
        "i1 = i\n",
        "diag = [ i1[i][i] for i in range(len(i1)) ]\n",
        "print(diag)"
      ],
      "execution_count": 0,
      "outputs": [
        {
          "output_type": "stream",
          "text": [
            "[0, 4, 8]\n"
          ],
          "name": "stdout"
        }
      ]
    },
    {
      "cell_type": "code",
      "metadata": {
        "id": "IwVXETANNhAw",
        "colab_type": "code",
        "outputId": "ba48f417-7b4d-444e-b25c-02d6379ce8c6",
        "colab": {
          "base_uri": "https://localhost:8080/",
          "height": 34
        }
      },
      "source": [
        "diag = [ row[i] for i,row in enumerate(i1) ]\n",
        "print(diag)"
      ],
      "execution_count": 0,
      "outputs": [
        {
          "output_type": "stream",
          "text": [
            "[0, 4, 8]\n"
          ],
          "name": "stdout"
        }
      ]
    },
    {
      "cell_type": "code",
      "metadata": {
        "id": "-Hk33K1pNviX",
        "colab_type": "code",
        "outputId": "39aac187-3b86-49b4-dbdf-09dd3ab7395b",
        "colab": {
          "base_uri": "https://localhost:8080/",
          "height": 34
        }
      },
      "source": [
        "# other one (not principal diag)\n",
        "diag = [ row[-i-1] for i,row in enumerate(i1) ]\n",
        "print(diag)"
      ],
      "execution_count": 0,
      "outputs": [
        {
          "output_type": "stream",
          "text": [
            "[2, 4, 6]\n"
          ],
          "name": "stdout"
        }
      ]
    },
    {
      "cell_type": "markdown",
      "metadata": {
        "id": "p2j7qtam26_h",
        "colab_type": "text"
      },
      "source": [
        "## **.format()**\n",
        "\n",
        "it is string formating and This method lets us concatenate elements within a string through positional formatting.\n",
        "\n",
        " 'j = {}' this is string, and {} will cantain value from () of .formate()"
      ]
    },
    {
      "cell_type": "code",
      "metadata": {
        "id": "pccmSzDKHmrS",
        "colab_type": "code",
        "outputId": "5337dc8c-e30c-4470-c25f-7ca10531b22b",
        "colab": {
          "base_uri": "https://localhost:8080/",
          "height": 34
        }
      },
      "source": [
        "# Multiple placeholders in format() function \n",
        "my_string = \"{}, is a {} science portal for {}\"\n",
        "print (my_string.format(\"Geeks\", \"computer\", \"st\"))"
      ],
      "execution_count": 0,
      "outputs": [
        {
          "output_type": "stream",
          "text": [
            "Geeks, is a computer science portal for st\n"
          ],
          "name": "stdout"
        }
      ]
    },
    {
      "cell_type": "markdown",
      "metadata": {
        "id": "tqlb8eirpeqL",
        "colab_type": "text"
      },
      "source": [
        "\n",
        "\n",
        "---\n",
        "**3. Create a sequence of numbers**\n",
        "\n",
        "\n",
        "---\n",
        "\n",
        "Useful when plotting in python\n",
        "\n",
        "can't plot continuous, so we take an interval, sample it finely enough and then plot that discreetly so it looks like continuous\n",
        "\n",
        "arange() in np to create sequence"
      ]
    },
    {
      "cell_type": "code",
      "metadata": {
        "id": "jYD_TuLmM3mt",
        "colab_type": "code",
        "outputId": "9d9c554b-d441-4c97-e797-d6f3c39d37b9",
        "colab": {
          "base_uri": "https://localhost:8080/",
          "height": 34
        }
      },
      "source": [
        "# create a sequence of three numbers between 1 and 7\n",
        "f = np.arange(1,7,2) # start, end_before_reach, increment \n",
        "print(\"f = {}\".format(f)) "
      ],
      "execution_count": 0,
      "outputs": [
        {
          "output_type": "stream",
          "text": [
            "f = [1 3 5]\n"
          ],
          "name": "stdout"
        }
      ]
    },
    {
      "cell_type": "code",
      "metadata": {
        "id": "4_1aIBMuTL3_",
        "colab_type": "code",
        "outputId": "0fe1342e-b842-4be1-c290-504d5d859e4c",
        "colab": {
          "base_uri": "https://localhost:8080/",
          "height": 34
        }
      },
      "source": [
        "f = np.arange(-10,-1,2) # start, end_before_reach, increment \n",
        "print(\"f = {}\".format(f))"
      ],
      "execution_count": 0,
      "outputs": [
        {
          "output_type": "stream",
          "text": [
            "f = [-10  -8  -6  -4  -2]\n"
          ],
          "name": "stdout"
        }
      ]
    },
    {
      "cell_type": "code",
      "metadata": {
        "id": "WmfPNrUVNQA_",
        "colab_type": "code",
        "outputId": "d8568c91-a71d-4242-9297-c56a11ad7627",
        "colab": {
          "base_uri": "https://localhost:8080/",
          "height": 34
        }
      },
      "source": [
        "# create a sequence of numbers between 1 and 7 with stride 0.5\n",
        "g = np.arange(1,7,0.5)\n",
        "print(\"g = {}\".format(g))"
      ],
      "execution_count": 0,
      "outputs": [
        {
          "output_type": "stream",
          "text": [
            "g = [1.  1.5 2.  2.5 3.  3.5 4.  4.5 5.  5.5 6.  6.5]\n"
          ],
          "name": "stdout"
        }
      ]
    },
    {
      "cell_type": "code",
      "metadata": {
        "id": "XFqc-3Ghb7pX",
        "colab_type": "code",
        "outputId": "6e76f0ca-74b1-41ba-de7f-10b92a95ea68",
        "colab": {
          "base_uri": "https://localhost:8080/",
          "height": 34
        }
      },
      "source": [
        "g_1 = np.arange(4,15) # start=0(default), end_before_reach=10, increment=1(default) \n",
        "print(\"f = {}\".format(g_1)) "
      ],
      "execution_count": 0,
      "outputs": [
        {
          "output_type": "stream",
          "text": [
            "f = [ 4  5  6  7  8  9 10 11 12 13 14]\n"
          ],
          "name": "stdout"
        }
      ]
    },
    {
      "cell_type": "code",
      "metadata": {
        "id": "v1g2OqafNfQD",
        "colab_type": "code",
        "outputId": "91695b08-c33b-49ff-b560-10cc5141935a",
        "colab": {
          "base_uri": "https://localhost:8080/",
          "height": 50
        }
      },
      "source": [
        "# create 10 numbers between 1 and 7  \n",
        "h = np.linspace(1,7,12) # start, end(include this), total_numbers(include start and end)==(toal_div_b/w s&e)+1\n",
        "print(\"h = {}\".format(h)) "
      ],
      "execution_count": 0,
      "outputs": [
        {
          "output_type": "stream",
          "text": [
            "h = [1.         1.54545455 2.09090909 2.63636364 3.18181818 3.72727273\n",
            " 4.27272727 4.81818182 5.36363636 5.90909091 6.45454545 7.        ]\n"
          ],
          "name": "stdout"
        }
      ]
    },
    {
      "cell_type": "markdown",
      "metadata": {
        "id": "k85McTPHqrkI",
        "colab_type": "text"
      },
      "source": [
        "\n",
        "\n",
        "---\n",
        "**Reshape an array**\n",
        "\n",
        "---\n",
        "\n",
        "\n"
      ]
    },
    {
      "cell_type": "code",
      "metadata": {
        "id": "Nos0iO_dNw7g",
        "colab_type": "code",
        "outputId": "547f4dc2-d0b3-4dc7-b715-445d23935be3",
        "colab": {
          "base_uri": "https://localhost:8080/",
          "height": 134
        }
      },
      "source": [
        "# create a vector of 10 elements and reshape it into 5*2 array\n",
        "a = np.arange(10)\n",
        "print(\"a = {}\".format(a))\n",
        "print(\"---\"*20)\n",
        "b = a.reshape(5,2)  #a is array object then we call reshape function ( size )\n",
        "print(\"b = {}\".format(b))"
      ],
      "execution_count": 0,
      "outputs": [
        {
          "output_type": "stream",
          "text": [
            "a = [0 1 2 3 4 5 6 7 8 9]\n",
            "------------------------------------------------------------\n",
            "b = [[0 1]\n",
            " [2 3]\n",
            " [4 5]\n",
            " [6 7]\n",
            " [8 9]]\n"
          ],
          "name": "stdout"
        }
      ]
    },
    {
      "cell_type": "markdown",
      "metadata": {
        "id": "JpB4957Nqkpc",
        "colab_type": "text"
      },
      "source": [
        "for human (10,1) is same (10,) but  these different\n",
        "\n",
        "Issue when multiply matrix and vector, can't do then have to reshape it"
      ]
    },
    {
      "cell_type": "code",
      "metadata": {
        "id": "s8vgbHycN_0K",
        "colab_type": "code",
        "outputId": "41cdf540-b2cc-434c-f74a-0d4cec71ee58",
        "colab": {
          "base_uri": "https://localhost:8080/",
          "height": 50
        }
      },
      "source": [
        "# flatten the previous array #### any dimension array to single dimension, may need while doing nural network\n",
        "c = b.flatten()\n",
        "print(\"c = {}\".format(c))\n",
        "c.shape  #to know the shape, as by flatten this become one dimensional so (10,)"
      ],
      "execution_count": 0,
      "outputs": [
        {
          "output_type": "stream",
          "text": [
            "c = [0 1 2 3 4 5 6 7 8 9]\n"
          ],
          "name": "stdout"
        },
        {
          "output_type": "execute_result",
          "data": {
            "text/plain": [
              "(10,)"
            ]
          },
          "metadata": {
            "tags": []
          },
          "execution_count": 26
        }
      ]
    },
    {
      "cell_type": "code",
      "metadata": {
        "id": "mr-ir7m-OQuC",
        "colab_type": "code",
        "outputId": "4ad9e8ff-65ef-4690-ca4e-faf43540bec2",
        "colab": {
          "base_uri": "https://localhost:8080/",
          "height": 118
        }
      },
      "source": [
        "# create a 2*3 array then find its transpose #when 2 dimensional array\n",
        "d= np.array([[1,2,3],[4,5,6]])\n",
        "print(\"d = {}\".format(d))\n",
        "print(\"-\"*20)\n",
        "e= d.transpose()\n",
        "print(\"e = {}\".format(e))"
      ],
      "execution_count": 0,
      "outputs": [
        {
          "output_type": "stream",
          "text": [
            "d = [[1 2 3]\n",
            " [4 5 6]]\n",
            "--------------------\n",
            "e = [[1 4]\n",
            " [2 5]\n",
            " [3 6]]\n"
          ],
          "name": "stdout"
        }
      ]
    },
    {
      "cell_type": "markdown",
      "metadata": {
        "id": "dHoyCVyGe1EQ",
        "colab_type": "text"
      },
      "source": [
        "in 2d just interchange row with coulmn and vise versa \n",
        "\n",
        "in orginal order is (0,1,2)\n",
        "While in 3 D (row, column and depth) transpose can be many ways, exchange can be \n",
        "\n",
        "like (i=0, j=1, k=2) ==> (i, k, j) or ==> (k, j, i) etc.\n",
        "\n",
        "**Ques:- as down i made d 3 dimension array there is created 3 matrix so those 3 dimension (as in physical world x, y, z) and in each dimension define by row and column how to visualize it ???**\n",
        "\n",
        "**Also I transpose it from (0,1,2) => (1,0,2) then I can see changes, like which row appeare where but not able to visulize what happened ??**\n",
        "\n"
      ]
    },
    {
      "cell_type": "code",
      "metadata": {
        "id": "lKNYvBMieY6L",
        "colab_type": "code",
        "outputId": "ed43ca4d-62b2-4846-ee5f-83f0372bff4f",
        "colab": {
          "base_uri": "https://localhost:8080/",
          "height": 403
        }
      },
      "source": [
        "# When multidimension array ==> then transpose can be many type\n",
        "d= np.ones((3,3,3))\n",
        "d[0,0,0] = 2      #d[dimension, row, column] 1st dimension = 0, 1st row = 0, 1st column = 0\n",
        "d[0,1,0] = 3 \n",
        "d[0,2,0] = 4 \n",
        "d[0,0,1] = 5 \n",
        "d[0,0,2] = 6\n",
        "d[0,2,2] = 17 \n",
        "d[0,2,1] = 0  \n",
        "d[1,0,0] = 7      #d[dimension, row, column] 1st dimension = 0, 1st row = 0, 1st column = 0\n",
        "d[1,1,0] = 8 \n",
        "d[1,2,0] = 9 \n",
        "d[1,0,1] = 10 \n",
        "d[1,0,2] = 11\n",
        "d[1,2,2] = 18 \n",
        "d[1,2,1] = 20\n",
        "d[2,0,0] = 12    #d[dimension, row, column] 1st dimension = 0, 1st row = 0, 1st column = 0\n",
        "d[2,1,0] = 13 \n",
        "d[2,2,0] = 14 \n",
        "d[2,0,1] = 15 \n",
        "d[2,0,2] = 16\n",
        "d[2,2,2] = 19\n",
        "d[2,2,1] = 30\n",
        "print(\"d = {}\".format(d))\n",
        "print(\"-\"*20)\n",
        "# e= d.transpose((0,2,1)) #when you want to interchange row and column\n",
        "# print(\"e = {}\".format(e))\n",
        "f1= d.transpose((1,0,2))\n",
        "print(\"f1 = {}\".format(f1))"
      ],
      "execution_count": 0,
      "outputs": [
        {
          "output_type": "stream",
          "text": [
            "d = [[[ 2.  5.  6.]\n",
            "  [ 3.  1.  1.]\n",
            "  [ 4.  0. 17.]]\n",
            "\n",
            " [[ 7. 10. 11.]\n",
            "  [ 8.  1.  1.]\n",
            "  [ 9. 20. 18.]]\n",
            "\n",
            " [[12. 15. 16.]\n",
            "  [13.  1.  1.]\n",
            "  [14. 30. 19.]]]\n",
            "--------------------\n",
            "f1 = [[[ 2.  5.  6.]\n",
            "  [ 7. 10. 11.]\n",
            "  [12. 15. 16.]]\n",
            "\n",
            " [[ 3.  1.  1.]\n",
            "  [ 8.  1.  1.]\n",
            "  [13.  1.  1.]]\n",
            "\n",
            " [[ 4.  0. 17.]\n",
            "  [ 9. 20. 18.]\n",
            "  [14. 30. 19.]]]\n"
          ],
          "name": "stdout"
        }
      ]
    },
    {
      "cell_type": "markdown",
      "metadata": {
        "id": "_N_wSNZ6gAOc",
        "colab_type": "text"
      },
      "source": [
        "random in np random sample ==> give random number between 0 to 1\n",
        "\n",
        "if want to fix this randomness then we use\n",
        "\n",
        " np.random.seed(any_integer_let = 4) \n",
        "\n",
        " this command genrally not completely random there some pattern if fix seed then every execution the same random values appear "
      ]
    },
    {
      "cell_type": "code",
      "metadata": {
        "id": "eJfYButZO6uF",
        "colab_type": "code",
        "outputId": "2d54f5e8-e6a6-4e57-93ef-065eebc8dc85",
        "colab": {
          "base_uri": "https://localhost:8080/",
          "height": 67
        }
      },
      "source": [
        "# create a random 3*2 array \n",
        "\n",
        "np.random.seed(5)\n",
        "a = np.random.random_sample((3, 2)) *5\n",
        "print(\"a = {}\".format(a))"
      ],
      "execution_count": 0,
      "outputs": [
        {
          "output_type": "stream",
          "text": [
            "a = [[1.10996586 4.35366153]\n",
            " [1.03359578 4.59305454]\n",
            " [2.44205594 3.05871931]]\n"
          ],
          "name": "stdout"
        }
      ]
    },
    {
      "cell_type": "markdown",
      "metadata": {
        "id": "ZqhhxKy4tbvf",
        "colab_type": "text"
      },
      "source": [
        "YOu can see here if you reshape both in 1 D array starting nos are same"
      ]
    },
    {
      "cell_type": "code",
      "metadata": {
        "id": "prmS6i77tHkP",
        "colab_type": "code",
        "outputId": "7feb24c5-7830-48fb-876f-f2fabb304add",
        "colab": {
          "base_uri": "https://localhost:8080/",
          "height": 67
        }
      },
      "source": [
        "np.random.seed(5) \n",
        "a = np.random.random_sample((3, 3)) *5\n",
        "print(\"a = {}\".format(a))"
      ],
      "execution_count": 0,
      "outputs": [
        {
          "output_type": "stream",
          "text": [
            "a = [[1.10996586 4.35366153 1.03359578]\n",
            " [4.59305454 2.44205594 3.05871931]\n",
            " [3.82953928 2.59208994 1.48400251]]\n"
          ],
          "name": "stdout"
        }
      ]
    },
    {
      "cell_type": "markdown",
      "metadata": {
        "id": "26aw9D2mjK4t",
        "colab_type": "text"
      },
      "source": [
        "np.argmin(a, axis) by defult it take index of flatten array you can choose along axis"
      ]
    },
    {
      "cell_type": "code",
      "metadata": {
        "id": "NvDVq6cLPB5x",
        "colab_type": "code",
        "outputId": "2b83638c-51a5-4388-94f3-6a6912208441",
        "colab": {
          "base_uri": "https://localhost:8080/",
          "height": 50
        }
      },
      "source": [
        "# find the minimum of the previous array (a) and its index\n",
        "\n",
        "print(\"min(a) = {}\".format(np.min(a)))\n",
        "print(\"argmin(a) = {}\".format(np.argmin(a)))"
      ],
      "execution_count": 0,
      "outputs": [
        {
          "output_type": "stream",
          "text": [
            "min(a) = 1.033595776697132\n",
            "argmin(a) = 2\n"
          ],
          "name": "stdout"
        }
      ]
    },
    {
      "cell_type": "markdown",
      "metadata": {
        "id": "6eRVRw87yXwk",
        "colab_type": "text"
      },
      "source": [
        "**Qus:- there I choosed axis=0 then why giving ans for column ? may asked in video lec**\n",
        "\n",
        "**Ans :-**  \n",
        "\n",
        "![alt text](https://drive.google.com/uc?id=1hTQRJOsgLW1TQGITapn06oX7ZnJ3EoS7)"
      ]
    },
    {
      "cell_type": "code",
      "metadata": {
        "id": "tblLQGYwujMH",
        "colab_type": "code",
        "outputId": "00996e6e-ccb7-48b3-a7ed-0385be77a79e",
        "colab": {
          "base_uri": "https://localhost:8080/",
          "height": 50
        }
      },
      "source": [
        "# find the minimum of the previous array (a) and its index\n",
        "\n",
        "print(\"min(a) = {}\".format(np.min(a, axis=0 )))\n",
        "print(\"argmin(a) = {}\".format(np.argmin(a, axis=0)))"
      ],
      "execution_count": 0,
      "outputs": [
        {
          "output_type": "stream",
          "text": [
            "min(a) = [1.10996586 2.44205594 1.03359578]\n",
            "argmin(a) = [0 1 0]\n"
          ],
          "name": "stdout"
        }
      ]
    },
    {
      "cell_type": "code",
      "metadata": {
        "id": "CWQXTCXxPLm-",
        "colab_type": "code",
        "outputId": "f2e05f19-9380-4d32-fd7a-45da3331e36e",
        "colab": {
          "base_uri": "https://localhost:8080/",
          "height": 50
        }
      },
      "source": [
        "# find the maximum of a and its index\n",
        "print(\"max(a) = {}\".format(np.max(a)))\n",
        "print(\"argmax(a) = {}\".format(np.argmax(a)))"
      ],
      "execution_count": 0,
      "outputs": [
        {
          "output_type": "stream",
          "text": [
            "max(a) = 4.593054539689608\n",
            "argmax(a) = 3\n"
          ],
          "name": "stdout"
        }
      ]
    },
    {
      "cell_type": "code",
      "metadata": {
        "id": "nUOFzJ0GPbWl",
        "colab_type": "code",
        "outputId": "701b2cef-366e-4c30-f4f0-395bd8b9c961",
        "colab": {
          "base_uri": "https://localhost:8080/",
          "height": 50
        }
      },
      "source": [
        "# find the maximums and minimums of rows 1,2\n",
        "# np.maximum(x1,x2) is same as np.where(x1 >= x2, x1, x2) \n",
        "print(\"maximum of row1, row2 = {}\".format(np.maximum(a[1],a[2])))\n",
        "print(\"minimum of row1, row2 = {}\".format(np.minimum(a[1],a[2])))"
      ],
      "execution_count": 0,
      "outputs": [
        {
          "output_type": "stream",
          "text": [
            "maximum of row1, row2 = [4.59305454 2.59208994 3.05871931]\n",
            "minimum of row1, row2 = [3.82953928 2.44205594 1.48400251]\n"
          ],
          "name": "stdout"
        }
      ]
    },
    {
      "cell_type": "markdown",
      "metadata": {
        "id": "V3dyqzf3yu5m",
        "colab_type": "text"
      },
      "source": [
        "\n",
        "\n",
        "---\n",
        "\n",
        "**Statistical measures**\n",
        "\n",
        "---\n",
        "\n"
      ]
    },
    {
      "cell_type": "markdown",
      "metadata": {
        "id": "c7k_HS4tlgk1",
        "colab_type": "text"
      },
      "source": [
        "**np.var(a) --** Compute the variance of the given data (array elements) along the specified axis(if any).\n",
        "\n",
        "if there is n different values of x\n",
        "\n",
        "variance = sum of [(x – x.mean())**2]  / n \n",
        "\n",
        "The Standard Deviation is a measure of how spread out numbers are\n",
        "\n",
        "it is the square root of the Variance.\n",
        "\n",
        "**The Population: divide by N when calculating Variance**\n",
        "\n",
        "**A Sample: *divide by N-1 when calculating Variance*** \n",
        "\n",
        "Sample is data selection taken from a bigger Population"
      ]
    },
    {
      "cell_type": "code",
      "metadata": {
        "id": "-gx_IRu1y4xS",
        "colab_type": "code",
        "outputId": "eb032aa1-c372-4d00-e028-cf94379bf868",
        "colab": {
          "base_uri": "https://localhost:8080/",
          "height": 134
        }
      },
      "source": [
        "# generate a random 3*2 array and compute its mean, variance, and standard deviation\n",
        "a = np.random.random_sample((3, 2)) *5\n",
        "print(\"a = {}\".format(a))\n",
        "print(\"-\"*20)\n",
        "print(\"mean(a) = {}\".format(np.mean(a)))\n",
        "print(\"var(a) = {}\".format(np.var(a)))\n",
        "print(\"std(a) = {}\".format(np.std(a)))\n"
      ],
      "execution_count": 0,
      "outputs": [
        {
          "output_type": "stream",
          "text": [
            "a = [[0.93860614 0.40370634]\n",
            " [3.69220148 2.20654611]\n",
            " [0.79154934 4.39968516]]\n",
            "--------------------\n",
            "mean(a) = 2.072049096195816\n",
            "var(a) = 2.2947688201616914\n",
            "std(a) = 1.5148494381164392\n"
          ],
          "name": "stdout"
        }
      ]
    },
    {
      "cell_type": "markdown",
      "metadata": {
        "id": "l0CwosoVzSOF",
        "colab_type": "text"
      },
      "source": [
        "\n",
        "\n",
        "---\n",
        "\n",
        "**Linear Algebra**\n",
        "\n",
        "---\n",
        "\n"
      ]
    },
    {
      "cell_type": "code",
      "metadata": {
        "id": "lShMEDNHQJE5",
        "colab_type": "code",
        "outputId": "a163c0fb-1f66-48ea-e105-6178adebac28",
        "colab": {
          "base_uri": "https://localhost:8080/",
          "height": 67
        }
      },
      "source": [
        "# create a square, random matrix a \n",
        "a = np.random.random_sample((3, 3))\n",
        "b = np.exp(a)\n",
        "print(\"b = exp(a){}\".format(b))"
      ],
      "execution_count": 0,
      "outputs": [
        {
          "output_type": "stream",
          "text": [
            "b = exp(a)[[1.31532852 1.51321272 1.34457763]\n",
            " [1.87533612 1.78574878 1.82198979]\n",
            " [1.30449908 1.32934439 1.28864104]]\n"
          ],
          "name": "stdout"
        }
      ]
    },
    {
      "cell_type": "code",
      "metadata": {
        "id": "holrmn_2QZ-1",
        "colab_type": "code",
        "outputId": "7497a3ec-52f0-453a-e21d-b3201c4696ba",
        "colab": {
          "base_uri": "https://localhost:8080/",
          "height": 67
        }
      },
      "source": [
        "# compute the determinant, rank, and trace of b\n",
        "det = np.linalg.det(b)\n",
        "print(\"determinant(b)= {}\".format(det))\n",
        "rank = np.linalg.matrix_rank(b)\n",
        "print(\"rank(b)= {}\".format(rank))\n",
        "trace = np.trace(b)\n",
        "print(\"trace(b)= {}\".format(trace))"
      ],
      "execution_count": 0,
      "outputs": [
        {
          "output_type": "stream",
          "text": [
            "determinant(b)= 0.0005071603916495454\n",
            "rank(b)= 3\n",
            "trace(b)= 4.389718340305064\n"
          ],
          "name": "stdout"
        }
      ]
    },
    {
      "cell_type": "code",
      "metadata": {
        "id": "pxBuskI7QnNr",
        "colab_type": "code",
        "outputId": "ab0940c7-5bcf-40c1-96ea-33f9c51d5646",
        "colab": {
          "base_uri": "https://localhost:8080/",
          "height": 118
        }
      },
      "source": [
        "#find the eigen values and the eigen vectors of matrix b\n",
        "eigen_val,eigen_vec = np.linalg.eig(b)\n",
        "print(\"the eigen values of b:\\n{}\".format(eigen_val))\n",
        "print(\"the the right eigen vectors of b:\\n{}\".format(eigen_vec))"
      ],
      "execution_count": 0,
      "outputs": [
        {
          "output_type": "stream",
          "text": [
            "the eigen values of b:\n",
            "[ 4.53715109e+00 -1.46670637e-01 -7.62112193e-04]\n",
            "the the right eigen vectors of b:\n",
            "[[-0.52995704 -0.7435845  -0.57731183]\n",
            " [-0.68879404  0.66603832 -0.20107815]\n",
            " [-0.49468     0.05894956  0.79137767]]\n"
          ],
          "name": "stdout"
        }
      ]
    },
    {
      "cell_type": "markdown",
      "metadata": {
        "id": "g2C4c32P2E-7",
        "colab_type": "text"
      },
      "source": [
        "**read about singular value decomposition on matrix b in linear algebra**"
      ]
    },
    {
      "cell_type": "code",
      "metadata": {
        "id": "XTszhe1oQ22N",
        "colab_type": "code",
        "outputId": "7eb52c0d-3a87-4b2a-d020-446d054f374a",
        "colab": {
          "base_uri": "https://localhost:8080/",
          "height": 185
        }
      },
      "source": [
        "# implement singular value decomposition on matrix b\n",
        "u,s,vh = np.linalg.svd(b)   #u sighma and v(transpose)\n",
        "print(\"U of b is :\\n{}\".format(u))\n",
        "print(\"V of b is :\\n{}\".format(vh))\n",
        "print(\"singular values of b are :\\n{}\".format(s))"
      ],
      "execution_count": 0,
      "outputs": [
        {
          "output_type": "stream",
          "text": [
            "U of b is :\n",
            "[[-0.52662024  0.79857047 -0.2914727 ]\n",
            " [-0.69132351 -0.60183314 -0.39983582]\n",
            " [-0.49471501 -0.00905971  0.86900805]]\n",
            "V of b is :\n",
            "[[-0.57546217 -0.58738149 -0.56905735]\n",
            " [-0.58024876  0.78358759 -0.22204025]\n",
            " [ 0.57632861  0.20241906 -0.7917524 ]]\n",
            "singular values of b are :\n",
            "[4.57805563e+00 1.55235647e-01 7.13629520e-04]\n"
          ],
          "name": "stdout"
        }
      ]
    },
    {
      "cell_type": "markdown",
      "metadata": {
        "id": "B8OVedbg6JI_",
        "colab_type": "text"
      },
      "source": [
        "dot(a,b) dot product of two vector\n",
        "\n",
        "matmul(a,b) matrix multiplicaion\n",
        "\n",
        "a * b multiply ==> a(i,j) * b(i,J)\n",
        "\n",
        "**Search difference b/w 1st two**"
      ]
    },
    {
      "cell_type": "code",
      "metadata": {
        "id": "9WQrbjtW8TYs",
        "colab_type": "code",
        "outputId": "3ab45bf8-7c30-4aba-8f94-67eeeab2b85a",
        "colab": {
          "base_uri": "https://localhost:8080/",
          "height": 235
        }
      },
      "source": [
        "# generate two arrays and compute their dot product\n",
        "a = np.array([[1,2],[3,4]]) \n",
        "b = np.array([[11,12],[13,14]])\n",
        "print(\"a = \", a)\n",
        "print(\"b = \", b) \n",
        "c = np.dot(a,b)\n",
        "print(\"the dot product of a and b is:\\n{}\".format(c))\n",
        "d = np.matmul(a,b)\n",
        "print(\"the dot product of a and b is:\\n{}\".format(d))\n",
        "print(\"the dot product of a and b is:\\n{}\".format(a*b))"
      ],
      "execution_count": 0,
      "outputs": [
        {
          "output_type": "stream",
          "text": [
            "a =  [[1 2]\n",
            " [3 4]]\n",
            "b =  [[11 12]\n",
            " [13 14]]\n",
            "the dot product of a and b is:\n",
            "[[37 40]\n",
            " [85 92]]\n",
            "the dot product of a and b is:\n",
            "[[37 40]\n",
            " [85 92]]\n",
            "the dot product of a and b is:\n",
            "[[11 24]\n",
            " [39 56]]\n"
          ],
          "name": "stdout"
        }
      ]
    },
    {
      "cell_type": "code",
      "metadata": {
        "id": "osuR01ra9Ugr",
        "colab_type": "code",
        "outputId": "4bdb799d-c281-466c-f769-b199af79b628",
        "colab": {
          "base_uri": "https://localhost:8080/",
          "height": 269
        }
      },
      "source": [
        "# Generate an array and compute its inverse and its pseudo inverse\n",
        "a = np.random.random_sample((3,3))\n",
        "print(a)\n",
        "# Compute the (multiplicative) inverse of a matrix.\n",
        "print(\"the inverse of a is:\")\n",
        "b = np.linalg.inv(a)\n",
        "print(b)\n",
        "#compute the (Moore-Penrose) pseudo-inverse of a\n",
        "print(\"the pseudo-inverse of a is:\")   #prefer it\n",
        "c = np.linalg.pinv(a)\n",
        "print(c)\n",
        "\n",
        "import random\n",
        "np.random.seed(3)\n",
        "d = random.randint(1, 10)  \n",
        "print(d)\n",
        "print(d)\n",
        "np.random.seed(1099)\n",
        "d = random.randint(1, 10) \n",
        "print(d)\n",
        "print(d)\n",
        "\n"
      ],
      "execution_count": 0,
      "outputs": [
        {
          "output_type": "stream",
          "text": [
            "[[0.32756395 0.1441643  0.16561286]\n",
            " [0.96393053 0.96022672 0.18841466]\n",
            " [0.02430656 0.20455555 0.69984361]]\n",
            "the inverse of a is:\n",
            "[[ 4.53455847 -0.47971762 -0.94391855]\n",
            " [-4.79622096  1.61218187  0.70095258]\n",
            " [ 1.24438383 -0.45455935  1.2567946 ]]\n",
            "the pseudo-inverse of a is:\n",
            "[[ 4.53455847 -0.47971762 -0.94391855]\n",
            " [-4.79622096  1.61218187  0.70095258]\n",
            " [ 1.24438383 -0.45455935  1.2567946 ]]\n",
            "4\n",
            "4\n",
            "1\n",
            "1\n"
          ],
          "name": "stdout"
        }
      ]
    },
    {
      "cell_type": "markdown",
      "metadata": {
        "id": "G0KBE4YI71sJ",
        "colab_type": "text"
      },
      "source": [
        "eigen vector tells mode of variation in matrix\n",
        "\n",
        "Scalar is zero dimension \n",
        "\n",
        "vector is 1 Dim\n",
        "\n",
        "matrix is 2 Dim \n",
        "\n",
        "Tensor => genralization of matrix, 3 and more then 3 dim\n",
        "\n"
      ]
    },
    {
      "cell_type": "markdown",
      "metadata": {
        "id": "JJpB7meAHLuh",
        "colab_type": "text"
      },
      "source": [
        "\n",
        "\n",
        "---\n",
        "\n",
        "\n",
        "#Part2: pandas\n",
        "\n",
        "\n",
        "---\n",
        "\n"
      ]
    },
    {
      "cell_type": "markdown",
      "metadata": {
        "id": "SZiB1x5i_EKV",
        "colab_type": "text"
      },
      "source": [
        "\n",
        "\n",
        "\n",
        "---\n",
        "\n",
        "\n",
        "pandas library deals with data structures one is series and another is  data frame\n",
        "\n",
        "\n",
        "---\n",
        "\n",
        "\n",
        "Series is a one-dimensional labeled array capable of holding any data type (integers, strings, floating point numbers, Python objects, etc.).\n",
        "\n",
        "s = pd.Series(data, index=index) can create\n",
        "\n",
        "series genrally linear dataset not that many rows\n",
        "\n",
        "---\n",
        "\n",
        "\n",
        "\n",
        "DataFrame is a 2-dimensional labeled data structure with columns of potentially different types. **You can think of it like a spreadsheet or SQL table**, or a dict of Series objects. It is generally the **most commonly used pandas object**.\n",
        "\n",
        "---\n"
      ]
    },
    {
      "cell_type": "markdown",
      "metadata": {
        "id": "wpRPrGXMHbDD",
        "colab_type": "text"
      },
      "source": [
        "\n",
        "\n",
        "---\n",
        "\n",
        "**1. Load the pandas package**\n",
        "\n",
        "---\n",
        "\n"
      ]
    },
    {
      "cell_type": "code",
      "metadata": {
        "id": "Ks1tRu6gOJEG",
        "colab_type": "code",
        "colab": {}
      },
      "source": [
        "import pandas as pd"
      ],
      "execution_count": 0,
      "outputs": []
    },
    {
      "cell_type": "markdown",
      "metadata": {
        "id": "wQU5uckuPbu5",
        "colab_type": "text"
      },
      "source": [
        "\n",
        "\n",
        "---\n",
        "\n",
        "\n",
        "\n",
        "**2.   I want to store customers data. For a number of customers I know, the name(characters), age(integers), and sex(male/female) data.**\n",
        "\n",
        "\n",
        "---\n",
        "\n",
        "\n",
        "\n"
      ]
    },
    {
      "cell_type": "code",
      "metadata": {
        "id": "H-hKlfKTPaoh",
        "colab_type": "code",
        "outputId": "daa57ea9-70e0-4e65-e30d-762cabc4c963",
        "colab": {
          "base_uri": "https://localhost:8080/",
          "height": 136
        }
      },
      "source": [
        "df = pd.DataFrame({\n",
        "    \"Name\": [\"Sahar\",\n",
        "             \"Nisha\",\n",
        "             \"Lokesh\"],\n",
        "    \"Age\":[28, 30, 25],\n",
        "    \"Sex\":[\"female\",\"female\",\"male\"]\n",
        "})\n",
        "\n",
        "df"
      ],
      "execution_count": 0,
      "outputs": [
        {
          "output_type": "execute_result",
          "data": {
            "text/html": [
              "<div>\n",
              "<style scoped>\n",
              "    .dataframe tbody tr th:only-of-type {\n",
              "        vertical-align: middle;\n",
              "    }\n",
              "\n",
              "    .dataframe tbody tr th {\n",
              "        vertical-align: top;\n",
              "    }\n",
              "\n",
              "    .dataframe thead th {\n",
              "        text-align: right;\n",
              "    }\n",
              "</style>\n",
              "<table border=\"1\" class=\"dataframe\">\n",
              "  <thead>\n",
              "    <tr style=\"text-align: right;\">\n",
              "      <th></th>\n",
              "      <th>Name</th>\n",
              "      <th>Age</th>\n",
              "      <th>Sex</th>\n",
              "    </tr>\n",
              "  </thead>\n",
              "  <tbody>\n",
              "    <tr>\n",
              "      <th>0</th>\n",
              "      <td>Sahar</td>\n",
              "      <td>28</td>\n",
              "      <td>female</td>\n",
              "    </tr>\n",
              "    <tr>\n",
              "      <th>1</th>\n",
              "      <td>Nisha</td>\n",
              "      <td>30</td>\n",
              "      <td>female</td>\n",
              "    </tr>\n",
              "    <tr>\n",
              "      <th>2</th>\n",
              "      <td>Lokesh</td>\n",
              "      <td>25</td>\n",
              "      <td>male</td>\n",
              "    </tr>\n",
              "  </tbody>\n",
              "</table>\n",
              "</div>"
            ],
            "text/plain": [
              "     Name  Age     Sex\n",
              "0   Sahar   28  female\n",
              "1   Nisha   30  female\n",
              "2  Lokesh   25    male"
            ]
          },
          "metadata": {
            "tags": []
          },
          "execution_count": 43
        }
      ]
    },
    {
      "cell_type": "markdown",
      "metadata": {
        "id": "Luyr6P8aRSjf",
        "colab_type": "text"
      },
      "source": [
        "\n",
        "\n",
        "---\n",
        "\n",
        "\n",
        "**Note that:** A DataFrame is a 2-dimensional data structure that can store data of different types (including characters, integers,floating point values, categorical data and more) in columns.\n",
        "\n",
        "And In numpy deal with array, in array single data type\n",
        "\n",
        "---\n",
        "**We use this dataframe in data science => as we have .csv file with data**\n",
        "\n",
        "common seprated value file\n",
        "\n",
        "\n",
        "---\n"
      ]
    },
    {
      "cell_type": "markdown",
      "metadata": {
        "id": "fCP9-8vHSWZX",
        "colab_type": "text"
      },
      "source": [
        "\n",
        "\n",
        "---\n",
        "\n",
        "\n",
        "**3.   To access the data of one column:**\n",
        "\n",
        "\n",
        "---\n",
        "\n",
        "\n",
        "\n"
      ]
    },
    {
      "cell_type": "code",
      "metadata": {
        "id": "OUOrO7iiR5vu",
        "colab_type": "code",
        "outputId": "fb8d4dc1-94ec-4be9-b162-51775f25bb67",
        "colab": {
          "base_uri": "https://localhost:8080/",
          "height": 84
        }
      },
      "source": [
        "df[\"Age\"]"
      ],
      "execution_count": 0,
      "outputs": [
        {
          "output_type": "execute_result",
          "data": {
            "text/plain": [
              "0    28\n",
              "1    30\n",
              "2    25\n",
              "Name: Age, dtype: int64"
            ]
          },
          "metadata": {
            "tags": []
          },
          "execution_count": 44
        }
      ]
    },
    {
      "cell_type": "markdown",
      "metadata": {
        "id": "TpCO66h4THTi",
        "colab_type": "text"
      },
      "source": [
        "\n",
        "\n",
        "---\n",
        "\n",
        "\n",
        "**4. To know the maximum age of the customers:**\n",
        "\n",
        "\n",
        "---\n",
        "\n"
      ]
    },
    {
      "cell_type": "code",
      "metadata": {
        "id": "Ekvd1c-tTdOu",
        "colab_type": "code",
        "outputId": "99274b0e-f301-4b8d-f07b-06c0f20963ff",
        "colab": {
          "base_uri": "https://localhost:8080/",
          "height": 34
        }
      },
      "source": [
        "df[\"Age\"].max()"
      ],
      "execution_count": 0,
      "outputs": [
        {
          "output_type": "execute_result",
          "data": {
            "text/plain": [
              "30"
            ]
          },
          "metadata": {
            "tags": []
          },
          "execution_count": 45
        }
      ]
    },
    {
      "cell_type": "markdown",
      "metadata": {
        "id": "FZ9ezcQlT48R",
        "colab_type": "text"
      },
      "source": [
        "\n",
        "\n",
        "---\n",
        "\n",
        "\n",
        "**5. If you are interested of some basic statistics of the numerical data of your table try describe() method, which provides a quick overview of the numerical data in a DataFrame**\n",
        "\n",
        "\n",
        "---\n",
        "\n"
      ]
    },
    {
      "cell_type": "code",
      "metadata": {
        "id": "JTYRufMvULPl",
        "colab_type": "code",
        "outputId": "83ba8bf0-5f79-43c1-aef3-5ca7723b8735",
        "colab": {
          "base_uri": "https://localhost:8080/",
          "height": 284
        }
      },
      "source": [
        "df.describe()"
      ],
      "execution_count": 0,
      "outputs": [
        {
          "output_type": "execute_result",
          "data": {
            "text/html": [
              "<div>\n",
              "<style scoped>\n",
              "    .dataframe tbody tr th:only-of-type {\n",
              "        vertical-align: middle;\n",
              "    }\n",
              "\n",
              "    .dataframe tbody tr th {\n",
              "        vertical-align: top;\n",
              "    }\n",
              "\n",
              "    .dataframe thead th {\n",
              "        text-align: right;\n",
              "    }\n",
              "</style>\n",
              "<table border=\"1\" class=\"dataframe\">\n",
              "  <thead>\n",
              "    <tr style=\"text-align: right;\">\n",
              "      <th></th>\n",
              "      <th>Age</th>\n",
              "    </tr>\n",
              "  </thead>\n",
              "  <tbody>\n",
              "    <tr>\n",
              "      <th>count</th>\n",
              "      <td>3.000000</td>\n",
              "    </tr>\n",
              "    <tr>\n",
              "      <th>mean</th>\n",
              "      <td>27.666667</td>\n",
              "    </tr>\n",
              "    <tr>\n",
              "      <th>std</th>\n",
              "      <td>2.516611</td>\n",
              "    </tr>\n",
              "    <tr>\n",
              "      <th>min</th>\n",
              "      <td>25.000000</td>\n",
              "    </tr>\n",
              "    <tr>\n",
              "      <th>25%</th>\n",
              "      <td>26.500000</td>\n",
              "    </tr>\n",
              "    <tr>\n",
              "      <th>50%</th>\n",
              "      <td>28.000000</td>\n",
              "    </tr>\n",
              "    <tr>\n",
              "      <th>75%</th>\n",
              "      <td>29.000000</td>\n",
              "    </tr>\n",
              "    <tr>\n",
              "      <th>max</th>\n",
              "      <td>30.000000</td>\n",
              "    </tr>\n",
              "  </tbody>\n",
              "</table>\n",
              "</div>"
            ],
            "text/plain": [
              "             Age\n",
              "count   3.000000\n",
              "mean   27.666667\n",
              "std     2.516611\n",
              "min    25.000000\n",
              "25%    26.500000\n",
              "50%    28.000000\n",
              "75%    29.000000\n",
              "max    30.000000"
            ]
          },
          "metadata": {
            "tags": []
          },
          "execution_count": 46
        }
      ]
    },
    {
      "cell_type": "markdown",
      "metadata": {
        "id": "EAQNutXLUjI2",
        "colab_type": "text"
      },
      "source": [
        "\n",
        "\n",
        "---\n",
        "\n",
        "\n",
        "**6. Dealing with CSV files**\n",
        "pandas provides the read_csv() function to read data stored as a csv file into a pandas DataFrame\n",
        "\n",
        "\n",
        "---\n",
        "\n"
      ]
    },
    {
      "cell_type": "code",
      "metadata": {
        "id": "JBf4U15iIaT1",
        "colab_type": "code",
        "outputId": "2454edef-827f-4f2b-9971-a7ab801c57f5",
        "colab": {
          "base_uri": "https://localhost:8080/",
          "height": 34
        }
      },
      "source": [
        "from google.colab import drive\n",
        "drive.mount('/content/drive', force_remount=True)"
      ],
      "execution_count": 0,
      "outputs": [
        {
          "output_type": "stream",
          "text": [
            "Mounted at /content/drive\n"
          ],
          "name": "stdout"
        }
      ]
    },
    {
      "cell_type": "code",
      "metadata": {
        "id": "UsnZ-__TJGNf",
        "colab_type": "code",
        "outputId": "3ffe3a6e-5fef-44f5-86b5-341314a017ef",
        "colab": {
          "base_uri": "https://localhost:8080/",
          "height": 34
        }
      },
      "source": [
        "%ls"
      ],
      "execution_count": 0,
      "outputs": [
        {
          "output_type": "stream",
          "text": [
            "\u001b[0m\u001b[01;34mdrive\u001b[0m/  \u001b[01;34msample_data\u001b[0m/\n"
          ],
          "name": "stdout"
        }
      ]
    },
    {
      "cell_type": "code",
      "metadata": {
        "id": "u6S_pn-lI3Sj",
        "colab_type": "code",
        "outputId": "2c9e3013-e98a-4fe2-c577-961ef10b9a0a",
        "colab": {
          "base_uri": "https://localhost:8080/",
          "height": 34
        }
      },
      "source": [
        "%cd 'drive/'"
      ],
      "execution_count": 0,
      "outputs": [
        {
          "output_type": "stream",
          "text": [
            "/content/drive\n"
          ],
          "name": "stdout"
        }
      ]
    },
    {
      "cell_type": "code",
      "metadata": {
        "id": "XNcwVhuVJAwD",
        "colab_type": "code",
        "outputId": "9e34e191-c4f2-4ec1-e776-49dac58e5ee4",
        "colab": {
          "base_uri": "https://localhost:8080/",
          "height": 34
        }
      },
      "source": [
        "%cd 'My Drive/'"
      ],
      "execution_count": 0,
      "outputs": [
        {
          "output_type": "stream",
          "text": [
            "/content/drive/My Drive\n"
          ],
          "name": "stdout"
        }
      ]
    },
    {
      "cell_type": "code",
      "metadata": {
        "id": "7kRhelv3JAsG",
        "colab_type": "code",
        "outputId": "b1c0a2ba-2c05-4950-aeac-dc48cecc12b9",
        "colab": {
          "base_uri": "https://localhost:8080/",
          "height": 50
        }
      },
      "source": [
        "%ls"
      ],
      "execution_count": 0,
      "outputs": [
        {
          "output_type": "stream",
          "text": [
            "\u001b[0m\u001b[01;34m'Colab Notebooks'\u001b[0m/          CustomerData.xlsx     'id card.png'   titanic3.csv\n",
            "'Copy of CusomerData.csv'  'Getting started.pdf'   \u001b[01;34mML\u001b[0m/\n"
          ],
          "name": "stdout"
        }
      ]
    },
    {
      "cell_type": "code",
      "metadata": {
        "id": "IiEp4sZvYw4s",
        "colab_type": "code",
        "colab": {}
      },
      "source": [
        "CustomerData = pd.read_csv(\"Copy of CusomerData.csv\") "
      ],
      "execution_count": 0,
      "outputs": []
    },
    {
      "cell_type": "code",
      "metadata": {
        "id": "n4VDzuMcUhu2",
        "colab_type": "code",
        "outputId": "de3b105c-f58c-407d-c1bc-aff5f7020d30",
        "colab": {
          "base_uri": "https://localhost:8080/",
          "height": 432
        }
      },
      "source": [
        "CustomerData"
      ],
      "execution_count": 0,
      "outputs": [
        {
          "output_type": "execute_result",
          "data": {
            "text/html": [
              "<div>\n",
              "<style scoped>\n",
              "    .dataframe tbody tr th:only-of-type {\n",
              "        vertical-align: middle;\n",
              "    }\n",
              "\n",
              "    .dataframe tbody tr th {\n",
              "        vertical-align: top;\n",
              "    }\n",
              "\n",
              "    .dataframe thead th {\n",
              "        text-align: right;\n",
              "    }\n",
              "</style>\n",
              "<table border=\"1\" class=\"dataframe\">\n",
              "  <thead>\n",
              "    <tr style=\"text-align: right;\">\n",
              "      <th></th>\n",
              "      <th>Id</th>\n",
              "      <th>Marital_Status</th>\n",
              "      <th>Gender</th>\n",
              "      <th>Name</th>\n",
              "      <th>Employed</th>\n",
              "      <th>Age</th>\n",
              "    </tr>\n",
              "  </thead>\n",
              "  <tbody>\n",
              "    <tr>\n",
              "      <th>0</th>\n",
              "      <td>1</td>\n",
              "      <td>married</td>\n",
              "      <td>male</td>\n",
              "      <td>Lokesh</td>\n",
              "      <td>1</td>\n",
              "      <td>30</td>\n",
              "    </tr>\n",
              "    <tr>\n",
              "      <th>1</th>\n",
              "      <td>2</td>\n",
              "      <td>single</td>\n",
              "      <td>female</td>\n",
              "      <td>Nisha</td>\n",
              "      <td>0</td>\n",
              "      <td>30</td>\n",
              "    </tr>\n",
              "    <tr>\n",
              "      <th>2</th>\n",
              "      <td>3</td>\n",
              "      <td>single</td>\n",
              "      <td>female</td>\n",
              "      <td>Sahar</td>\n",
              "      <td>1</td>\n",
              "      <td>28</td>\n",
              "    </tr>\n",
              "    <tr>\n",
              "      <th>3</th>\n",
              "      <td>4</td>\n",
              "      <td>married</td>\n",
              "      <td>female</td>\n",
              "      <td>Sara</td>\n",
              "      <td>0</td>\n",
              "      <td>25</td>\n",
              "    </tr>\n",
              "    <tr>\n",
              "      <th>4</th>\n",
              "      <td>5</td>\n",
              "      <td>single</td>\n",
              "      <td>male</td>\n",
              "      <td>John</td>\n",
              "      <td>1</td>\n",
              "      <td>40</td>\n",
              "    </tr>\n",
              "    <tr>\n",
              "      <th>5</th>\n",
              "      <td>6</td>\n",
              "      <td>single</td>\n",
              "      <td>male</td>\n",
              "      <td>Kim</td>\n",
              "      <td>1</td>\n",
              "      <td>25</td>\n",
              "    </tr>\n",
              "    <tr>\n",
              "      <th>6</th>\n",
              "      <td>7</td>\n",
              "      <td>married</td>\n",
              "      <td>female</td>\n",
              "      <td>Julia</td>\n",
              "      <td>0</td>\n",
              "      <td>32</td>\n",
              "    </tr>\n",
              "    <tr>\n",
              "      <th>7</th>\n",
              "      <td>8</td>\n",
              "      <td>married</td>\n",
              "      <td>male</td>\n",
              "      <td>Tarak</td>\n",
              "      <td>1</td>\n",
              "      <td>30</td>\n",
              "    </tr>\n",
              "    <tr>\n",
              "      <th>8</th>\n",
              "      <td>9</td>\n",
              "      <td>single</td>\n",
              "      <td>male</td>\n",
              "      <td>Sheldon</td>\n",
              "      <td>1</td>\n",
              "      <td>27</td>\n",
              "    </tr>\n",
              "    <tr>\n",
              "      <th>9</th>\n",
              "      <td>10</td>\n",
              "      <td>single</td>\n",
              "      <td>male</td>\n",
              "      <td>Raj</td>\n",
              "      <td>1</td>\n",
              "      <td>25</td>\n",
              "    </tr>\n",
              "    <tr>\n",
              "      <th>10</th>\n",
              "      <td>11</td>\n",
              "      <td>single</td>\n",
              "      <td>male</td>\n",
              "      <td>Leonard</td>\n",
              "      <td>1</td>\n",
              "      <td>26</td>\n",
              "    </tr>\n",
              "    <tr>\n",
              "      <th>11</th>\n",
              "      <td>12</td>\n",
              "      <td>single</td>\n",
              "      <td>female</td>\n",
              "      <td>Penny</td>\n",
              "      <td>0</td>\n",
              "      <td>23</td>\n",
              "    </tr>\n",
              "    <tr>\n",
              "      <th>12</th>\n",
              "      <td>13</td>\n",
              "      <td>single</td>\n",
              "      <td>male</td>\n",
              "      <td>Howard</td>\n",
              "      <td>1</td>\n",
              "      <td>22</td>\n",
              "    </tr>\n",
              "  </tbody>\n",
              "</table>\n",
              "</div>"
            ],
            "text/plain": [
              "    Id Marital_Status  Gender     Name  Employed  Age\n",
              "0    1        married    male   Lokesh         1   30\n",
              "1    2         single  female    Nisha         0   30\n",
              "2    3         single  female    Sahar         1   28\n",
              "3    4        married  female     Sara         0   25\n",
              "4    5         single    male     John         1   40\n",
              "5    6         single    male      Kim         1   25\n",
              "6    7        married  female    Julia         0   32\n",
              "7    8        married    male    Tarak         1   30\n",
              "8    9         single    male  Sheldon         1   27\n",
              "9   10         single    male      Raj         1   25\n",
              "10  11         single    male  Leonard         1   26\n",
              "11  12         single  female    Penny         0   23\n",
              "12  13         single    male   Howard         1   22"
            ]
          },
          "metadata": {
            "tags": []
          },
          "execution_count": 53
        }
      ]
    },
    {
      "cell_type": "markdown",
      "metadata": {
        "id": "JspZill-aNjr",
        "colab_type": "text"
      },
      "source": [
        "\n",
        "\n",
        "---\n",
        "\n",
        "\n",
        "**To see the first two rows :**\n",
        "\n",
        "\n",
        "---\n",
        "\n"
      ]
    },
    {
      "cell_type": "code",
      "metadata": {
        "id": "d-uOuAdzKmMG",
        "colab_type": "code",
        "outputId": "624308f2-ccea-4242-9525-14110a5074a2",
        "colab": {
          "base_uri": "https://localhost:8080/",
          "height": 195
        }
      },
      "source": [
        "CustomerData.head()  #without index it took top 5"
      ],
      "execution_count": 0,
      "outputs": [
        {
          "output_type": "execute_result",
          "data": {
            "text/html": [
              "<div>\n",
              "<style scoped>\n",
              "    .dataframe tbody tr th:only-of-type {\n",
              "        vertical-align: middle;\n",
              "    }\n",
              "\n",
              "    .dataframe tbody tr th {\n",
              "        vertical-align: top;\n",
              "    }\n",
              "\n",
              "    .dataframe thead th {\n",
              "        text-align: right;\n",
              "    }\n",
              "</style>\n",
              "<table border=\"1\" class=\"dataframe\">\n",
              "  <thead>\n",
              "    <tr style=\"text-align: right;\">\n",
              "      <th></th>\n",
              "      <th>Id</th>\n",
              "      <th>Marital_Status</th>\n",
              "      <th>Gender</th>\n",
              "      <th>Name</th>\n",
              "      <th>Employed</th>\n",
              "      <th>Age</th>\n",
              "    </tr>\n",
              "  </thead>\n",
              "  <tbody>\n",
              "    <tr>\n",
              "      <th>0</th>\n",
              "      <td>1</td>\n",
              "      <td>married</td>\n",
              "      <td>male</td>\n",
              "      <td>Lokesh</td>\n",
              "      <td>1</td>\n",
              "      <td>30</td>\n",
              "    </tr>\n",
              "    <tr>\n",
              "      <th>1</th>\n",
              "      <td>2</td>\n",
              "      <td>single</td>\n",
              "      <td>female</td>\n",
              "      <td>Nisha</td>\n",
              "      <td>0</td>\n",
              "      <td>30</td>\n",
              "    </tr>\n",
              "    <tr>\n",
              "      <th>2</th>\n",
              "      <td>3</td>\n",
              "      <td>single</td>\n",
              "      <td>female</td>\n",
              "      <td>Sahar</td>\n",
              "      <td>1</td>\n",
              "      <td>28</td>\n",
              "    </tr>\n",
              "    <tr>\n",
              "      <th>3</th>\n",
              "      <td>4</td>\n",
              "      <td>married</td>\n",
              "      <td>female</td>\n",
              "      <td>Sara</td>\n",
              "      <td>0</td>\n",
              "      <td>25</td>\n",
              "    </tr>\n",
              "    <tr>\n",
              "      <th>4</th>\n",
              "      <td>5</td>\n",
              "      <td>single</td>\n",
              "      <td>male</td>\n",
              "      <td>John</td>\n",
              "      <td>1</td>\n",
              "      <td>40</td>\n",
              "    </tr>\n",
              "  </tbody>\n",
              "</table>\n",
              "</div>"
            ],
            "text/plain": [
              "   Id Marital_Status  Gender    Name  Employed  Age\n",
              "0   1        married    male  Lokesh         1   30\n",
              "1   2         single  female   Nisha         0   30\n",
              "2   3         single  female   Sahar         1   28\n",
              "3   4        married  female    Sara         0   25\n",
              "4   5         single    male    John         1   40"
            ]
          },
          "metadata": {
            "tags": []
          },
          "execution_count": 54
        }
      ]
    },
    {
      "cell_type": "code",
      "metadata": {
        "id": "lNvzTzIEaEIm",
        "colab_type": "code",
        "outputId": "1443af36-1e7b-4f0b-ccf0-d904aaa688fb",
        "colab": {
          "base_uri": "https://localhost:8080/",
          "height": 106
        }
      },
      "source": [
        "CustomerData.head(2)"
      ],
      "execution_count": 0,
      "outputs": [
        {
          "output_type": "execute_result",
          "data": {
            "text/html": [
              "<div>\n",
              "<style scoped>\n",
              "    .dataframe tbody tr th:only-of-type {\n",
              "        vertical-align: middle;\n",
              "    }\n",
              "\n",
              "    .dataframe tbody tr th {\n",
              "        vertical-align: top;\n",
              "    }\n",
              "\n",
              "    .dataframe thead th {\n",
              "        text-align: right;\n",
              "    }\n",
              "</style>\n",
              "<table border=\"1\" class=\"dataframe\">\n",
              "  <thead>\n",
              "    <tr style=\"text-align: right;\">\n",
              "      <th></th>\n",
              "      <th>Id</th>\n",
              "      <th>Marital_Status</th>\n",
              "      <th>Gender</th>\n",
              "      <th>Name</th>\n",
              "      <th>Employed</th>\n",
              "      <th>Age</th>\n",
              "    </tr>\n",
              "  </thead>\n",
              "  <tbody>\n",
              "    <tr>\n",
              "      <th>0</th>\n",
              "      <td>1</td>\n",
              "      <td>married</td>\n",
              "      <td>male</td>\n",
              "      <td>Lokesh</td>\n",
              "      <td>1</td>\n",
              "      <td>30</td>\n",
              "    </tr>\n",
              "    <tr>\n",
              "      <th>1</th>\n",
              "      <td>2</td>\n",
              "      <td>single</td>\n",
              "      <td>female</td>\n",
              "      <td>Nisha</td>\n",
              "      <td>0</td>\n",
              "      <td>30</td>\n",
              "    </tr>\n",
              "  </tbody>\n",
              "</table>\n",
              "</div>"
            ],
            "text/plain": [
              "   Id Marital_Status  Gender    Name  Employed  Age\n",
              "0   1        married    male  Lokesh         1   30\n",
              "1   2         single  female   Nisha         0   30"
            ]
          },
          "metadata": {
            "tags": []
          },
          "execution_count": 55
        }
      ]
    },
    {
      "cell_type": "code",
      "metadata": {
        "id": "F_1Rw4pGK4-X",
        "colab_type": "code",
        "outputId": "66f7b805-5047-422c-c9c7-cd66ae9ce2fa",
        "colab": {
          "base_uri": "https://localhost:8080/",
          "height": 195
        }
      },
      "source": [
        "CustomerData.tail()"
      ],
      "execution_count": 0,
      "outputs": [
        {
          "output_type": "execute_result",
          "data": {
            "text/html": [
              "<div>\n",
              "<style scoped>\n",
              "    .dataframe tbody tr th:only-of-type {\n",
              "        vertical-align: middle;\n",
              "    }\n",
              "\n",
              "    .dataframe tbody tr th {\n",
              "        vertical-align: top;\n",
              "    }\n",
              "\n",
              "    .dataframe thead th {\n",
              "        text-align: right;\n",
              "    }\n",
              "</style>\n",
              "<table border=\"1\" class=\"dataframe\">\n",
              "  <thead>\n",
              "    <tr style=\"text-align: right;\">\n",
              "      <th></th>\n",
              "      <th>Id</th>\n",
              "      <th>Marital_Status</th>\n",
              "      <th>Gender</th>\n",
              "      <th>Name</th>\n",
              "      <th>Employed</th>\n",
              "      <th>Age</th>\n",
              "    </tr>\n",
              "  </thead>\n",
              "  <tbody>\n",
              "    <tr>\n",
              "      <th>8</th>\n",
              "      <td>9</td>\n",
              "      <td>single</td>\n",
              "      <td>male</td>\n",
              "      <td>Sheldon</td>\n",
              "      <td>1</td>\n",
              "      <td>27</td>\n",
              "    </tr>\n",
              "    <tr>\n",
              "      <th>9</th>\n",
              "      <td>10</td>\n",
              "      <td>single</td>\n",
              "      <td>male</td>\n",
              "      <td>Raj</td>\n",
              "      <td>1</td>\n",
              "      <td>25</td>\n",
              "    </tr>\n",
              "    <tr>\n",
              "      <th>10</th>\n",
              "      <td>11</td>\n",
              "      <td>single</td>\n",
              "      <td>male</td>\n",
              "      <td>Leonard</td>\n",
              "      <td>1</td>\n",
              "      <td>26</td>\n",
              "    </tr>\n",
              "    <tr>\n",
              "      <th>11</th>\n",
              "      <td>12</td>\n",
              "      <td>single</td>\n",
              "      <td>female</td>\n",
              "      <td>Penny</td>\n",
              "      <td>0</td>\n",
              "      <td>23</td>\n",
              "    </tr>\n",
              "    <tr>\n",
              "      <th>12</th>\n",
              "      <td>13</td>\n",
              "      <td>single</td>\n",
              "      <td>male</td>\n",
              "      <td>Howard</td>\n",
              "      <td>1</td>\n",
              "      <td>22</td>\n",
              "    </tr>\n",
              "  </tbody>\n",
              "</table>\n",
              "</div>"
            ],
            "text/plain": [
              "    Id Marital_Status  Gender     Name  Employed  Age\n",
              "8    9         single    male  Sheldon         1   27\n",
              "9   10         single    male      Raj         1   25\n",
              "10  11         single    male  Leonard         1   26\n",
              "11  12         single  female    Penny         0   23\n",
              "12  13         single    male   Howard         1   22"
            ]
          },
          "metadata": {
            "tags": []
          },
          "execution_count": 56
        }
      ]
    },
    {
      "cell_type": "code",
      "metadata": {
        "id": "ENVP3jsMK46q",
        "colab_type": "code",
        "outputId": "581c7716-a952-454f-8472-8305c11c7c97",
        "colab": {
          "base_uri": "https://localhost:8080/",
          "height": 284
        }
      },
      "source": [
        "CustomerData.tail(8)"
      ],
      "execution_count": 0,
      "outputs": [
        {
          "output_type": "execute_result",
          "data": {
            "text/html": [
              "<div>\n",
              "<style scoped>\n",
              "    .dataframe tbody tr th:only-of-type {\n",
              "        vertical-align: middle;\n",
              "    }\n",
              "\n",
              "    .dataframe tbody tr th {\n",
              "        vertical-align: top;\n",
              "    }\n",
              "\n",
              "    .dataframe thead th {\n",
              "        text-align: right;\n",
              "    }\n",
              "</style>\n",
              "<table border=\"1\" class=\"dataframe\">\n",
              "  <thead>\n",
              "    <tr style=\"text-align: right;\">\n",
              "      <th></th>\n",
              "      <th>Id</th>\n",
              "      <th>Marital_Status</th>\n",
              "      <th>Gender</th>\n",
              "      <th>Name</th>\n",
              "      <th>Employed</th>\n",
              "      <th>Age</th>\n",
              "    </tr>\n",
              "  </thead>\n",
              "  <tbody>\n",
              "    <tr>\n",
              "      <th>5</th>\n",
              "      <td>6</td>\n",
              "      <td>single</td>\n",
              "      <td>male</td>\n",
              "      <td>Kim</td>\n",
              "      <td>1</td>\n",
              "      <td>25</td>\n",
              "    </tr>\n",
              "    <tr>\n",
              "      <th>6</th>\n",
              "      <td>7</td>\n",
              "      <td>married</td>\n",
              "      <td>female</td>\n",
              "      <td>Julia</td>\n",
              "      <td>0</td>\n",
              "      <td>32</td>\n",
              "    </tr>\n",
              "    <tr>\n",
              "      <th>7</th>\n",
              "      <td>8</td>\n",
              "      <td>married</td>\n",
              "      <td>male</td>\n",
              "      <td>Tarak</td>\n",
              "      <td>1</td>\n",
              "      <td>30</td>\n",
              "    </tr>\n",
              "    <tr>\n",
              "      <th>8</th>\n",
              "      <td>9</td>\n",
              "      <td>single</td>\n",
              "      <td>male</td>\n",
              "      <td>Sheldon</td>\n",
              "      <td>1</td>\n",
              "      <td>27</td>\n",
              "    </tr>\n",
              "    <tr>\n",
              "      <th>9</th>\n",
              "      <td>10</td>\n",
              "      <td>single</td>\n",
              "      <td>male</td>\n",
              "      <td>Raj</td>\n",
              "      <td>1</td>\n",
              "      <td>25</td>\n",
              "    </tr>\n",
              "    <tr>\n",
              "      <th>10</th>\n",
              "      <td>11</td>\n",
              "      <td>single</td>\n",
              "      <td>male</td>\n",
              "      <td>Leonard</td>\n",
              "      <td>1</td>\n",
              "      <td>26</td>\n",
              "    </tr>\n",
              "    <tr>\n",
              "      <th>11</th>\n",
              "      <td>12</td>\n",
              "      <td>single</td>\n",
              "      <td>female</td>\n",
              "      <td>Penny</td>\n",
              "      <td>0</td>\n",
              "      <td>23</td>\n",
              "    </tr>\n",
              "    <tr>\n",
              "      <th>12</th>\n",
              "      <td>13</td>\n",
              "      <td>single</td>\n",
              "      <td>male</td>\n",
              "      <td>Howard</td>\n",
              "      <td>1</td>\n",
              "      <td>22</td>\n",
              "    </tr>\n",
              "  </tbody>\n",
              "</table>\n",
              "</div>"
            ],
            "text/plain": [
              "    Id Marital_Status  Gender     Name  Employed  Age\n",
              "5    6         single    male      Kim         1   25\n",
              "6    7        married  female    Julia         0   32\n",
              "7    8        married    male    Tarak         1   30\n",
              "8    9         single    male  Sheldon         1   27\n",
              "9   10         single    male      Raj         1   25\n",
              "10  11         single    male  Leonard         1   26\n",
              "11  12         single  female    Penny         0   23\n",
              "12  13         single    male   Howard         1   22"
            ]
          },
          "metadata": {
            "tags": []
          },
          "execution_count": 57
        }
      ]
    },
    {
      "cell_type": "markdown",
      "metadata": {
        "id": "YGeSsx66awOB",
        "colab_type": "text"
      },
      "source": [
        "\n",
        "\n",
        "---\n",
        "\n",
        "\n",
        "**A check on how pandas interpreted each of the column data types can be done by requesting the pandas dtypes\n",
        "attribut**\n",
        "\n",
        "\n",
        "---\n",
        "\n"
      ]
    },
    {
      "cell_type": "code",
      "metadata": {
        "id": "D--xGYzZa_Ro",
        "colab_type": "code",
        "outputId": "e5e96537-3134-4aad-9251-98cf1450a38a",
        "colab": {
          "base_uri": "https://localhost:8080/",
          "height": 134
        }
      },
      "source": [
        "CustomerData.dtypes"
      ],
      "execution_count": 0,
      "outputs": [
        {
          "output_type": "execute_result",
          "data": {
            "text/plain": [
              "Id                 int64\n",
              "Marital_Status    object\n",
              "Gender            object\n",
              "Name              object\n",
              "Employed           int64\n",
              "Age                int64\n",
              "dtype: object"
            ]
          },
          "metadata": {
            "tags": []
          },
          "execution_count": 58
        }
      ]
    },
    {
      "cell_type": "markdown",
      "metadata": {
        "id": "LPI1sPPKb9ZV",
        "colab_type": "text"
      },
      "source": [
        "\n",
        "\n",
        "---\n",
        "\n",
        "\n",
        "**To store the data in an excel file:**\n",
        "\n",
        "\n",
        "---\n",
        "\n"
      ]
    },
    {
      "cell_type": "code",
      "metadata": {
        "id": "XxvHZIvHcFGz",
        "colab_type": "code",
        "colab": {}
      },
      "source": [
        "CustomerData.to_excel('CustomerData.xlsx', sheet_name='Customers', index=False)"
      ],
      "execution_count": 0,
      "outputs": []
    },
    {
      "cell_type": "code",
      "metadata": {
        "id": "5OkUVbLvcgXv",
        "colab_type": "code",
        "outputId": "6d5af57c-a582-4043-9502-ec190020b1bd",
        "colab": {
          "base_uri": "https://localhost:8080/",
          "height": 432
        }
      },
      "source": [
        "CD = pd.read_excel('CustomerData.xlsx', sheet_name='Customers')\n",
        "CD"
      ],
      "execution_count": 0,
      "outputs": [
        {
          "output_type": "execute_result",
          "data": {
            "text/html": [
              "<div>\n",
              "<style scoped>\n",
              "    .dataframe tbody tr th:only-of-type {\n",
              "        vertical-align: middle;\n",
              "    }\n",
              "\n",
              "    .dataframe tbody tr th {\n",
              "        vertical-align: top;\n",
              "    }\n",
              "\n",
              "    .dataframe thead th {\n",
              "        text-align: right;\n",
              "    }\n",
              "</style>\n",
              "<table border=\"1\" class=\"dataframe\">\n",
              "  <thead>\n",
              "    <tr style=\"text-align: right;\">\n",
              "      <th></th>\n",
              "      <th>Id</th>\n",
              "      <th>Marital_Status</th>\n",
              "      <th>Gender</th>\n",
              "      <th>Name</th>\n",
              "      <th>Employed</th>\n",
              "      <th>Age</th>\n",
              "    </tr>\n",
              "  </thead>\n",
              "  <tbody>\n",
              "    <tr>\n",
              "      <th>0</th>\n",
              "      <td>1</td>\n",
              "      <td>married</td>\n",
              "      <td>male</td>\n",
              "      <td>Lokesh</td>\n",
              "      <td>1</td>\n",
              "      <td>30</td>\n",
              "    </tr>\n",
              "    <tr>\n",
              "      <th>1</th>\n",
              "      <td>2</td>\n",
              "      <td>single</td>\n",
              "      <td>female</td>\n",
              "      <td>Nisha</td>\n",
              "      <td>0</td>\n",
              "      <td>30</td>\n",
              "    </tr>\n",
              "    <tr>\n",
              "      <th>2</th>\n",
              "      <td>3</td>\n",
              "      <td>single</td>\n",
              "      <td>female</td>\n",
              "      <td>Sahar</td>\n",
              "      <td>1</td>\n",
              "      <td>28</td>\n",
              "    </tr>\n",
              "    <tr>\n",
              "      <th>3</th>\n",
              "      <td>4</td>\n",
              "      <td>married</td>\n",
              "      <td>female</td>\n",
              "      <td>Sara</td>\n",
              "      <td>0</td>\n",
              "      <td>25</td>\n",
              "    </tr>\n",
              "    <tr>\n",
              "      <th>4</th>\n",
              "      <td>5</td>\n",
              "      <td>single</td>\n",
              "      <td>male</td>\n",
              "      <td>John</td>\n",
              "      <td>1</td>\n",
              "      <td>40</td>\n",
              "    </tr>\n",
              "    <tr>\n",
              "      <th>5</th>\n",
              "      <td>6</td>\n",
              "      <td>single</td>\n",
              "      <td>male</td>\n",
              "      <td>Kim</td>\n",
              "      <td>1</td>\n",
              "      <td>25</td>\n",
              "    </tr>\n",
              "    <tr>\n",
              "      <th>6</th>\n",
              "      <td>7</td>\n",
              "      <td>married</td>\n",
              "      <td>female</td>\n",
              "      <td>Julia</td>\n",
              "      <td>0</td>\n",
              "      <td>32</td>\n",
              "    </tr>\n",
              "    <tr>\n",
              "      <th>7</th>\n",
              "      <td>8</td>\n",
              "      <td>married</td>\n",
              "      <td>male</td>\n",
              "      <td>Tarak</td>\n",
              "      <td>1</td>\n",
              "      <td>30</td>\n",
              "    </tr>\n",
              "    <tr>\n",
              "      <th>8</th>\n",
              "      <td>9</td>\n",
              "      <td>single</td>\n",
              "      <td>male</td>\n",
              "      <td>Sheldon</td>\n",
              "      <td>1</td>\n",
              "      <td>27</td>\n",
              "    </tr>\n",
              "    <tr>\n",
              "      <th>9</th>\n",
              "      <td>10</td>\n",
              "      <td>single</td>\n",
              "      <td>male</td>\n",
              "      <td>Raj</td>\n",
              "      <td>1</td>\n",
              "      <td>25</td>\n",
              "    </tr>\n",
              "    <tr>\n",
              "      <th>10</th>\n",
              "      <td>11</td>\n",
              "      <td>single</td>\n",
              "      <td>male</td>\n",
              "      <td>Leonard</td>\n",
              "      <td>1</td>\n",
              "      <td>26</td>\n",
              "    </tr>\n",
              "    <tr>\n",
              "      <th>11</th>\n",
              "      <td>12</td>\n",
              "      <td>single</td>\n",
              "      <td>female</td>\n",
              "      <td>Penny</td>\n",
              "      <td>0</td>\n",
              "      <td>23</td>\n",
              "    </tr>\n",
              "    <tr>\n",
              "      <th>12</th>\n",
              "      <td>13</td>\n",
              "      <td>single</td>\n",
              "      <td>male</td>\n",
              "      <td>Howard</td>\n",
              "      <td>1</td>\n",
              "      <td>22</td>\n",
              "    </tr>\n",
              "  </tbody>\n",
              "</table>\n",
              "</div>"
            ],
            "text/plain": [
              "    Id Marital_Status  Gender     Name  Employed  Age\n",
              "0    1        married    male   Lokesh         1   30\n",
              "1    2         single  female    Nisha         0   30\n",
              "2    3         single  female    Sahar         1   28\n",
              "3    4        married  female     Sara         0   25\n",
              "4    5         single    male     John         1   40\n",
              "5    6         single    male      Kim         1   25\n",
              "6    7        married  female    Julia         0   32\n",
              "7    8        married    male    Tarak         1   30\n",
              "8    9         single    male  Sheldon         1   27\n",
              "9   10         single    male      Raj         1   25\n",
              "10  11         single    male  Leonard         1   26\n",
              "11  12         single  female    Penny         0   23\n",
              "12  13         single    male   Howard         1   22"
            ]
          },
          "metadata": {
            "tags": []
          },
          "execution_count": 60
        }
      ]
    },
    {
      "cell_type": "markdown",
      "metadata": {
        "id": "_Sa2eNTDdCEt",
        "colab_type": "text"
      },
      "source": [
        "\n",
        "\n",
        "\n",
        "---\n",
        "\n",
        "\n",
        "**To get a technical summary of a DataFrame**\n",
        "\n",
        "\n",
        "---\n",
        "\n"
      ]
    },
    {
      "cell_type": "code",
      "metadata": {
        "id": "SQD6yYx4dLEB",
        "colab_type": "code",
        "outputId": "1474ca7d-c365-4d3e-fa8c-252651cf7dd9",
        "colab": {
          "base_uri": "https://localhost:8080/",
          "height": 235
        }
      },
      "source": [
        "CustomerData.info()"
      ],
      "execution_count": 0,
      "outputs": [
        {
          "output_type": "stream",
          "text": [
            "<class 'pandas.core.frame.DataFrame'>\n",
            "RangeIndex: 13 entries, 0 to 12\n",
            "Data columns (total 6 columns):\n",
            " #   Column          Non-Null Count  Dtype \n",
            "---  ------          --------------  ----- \n",
            " 0   Id              13 non-null     int64 \n",
            " 1   Marital_Status  13 non-null     object\n",
            " 2   Gender          13 non-null     object\n",
            " 3   Name            13 non-null     object\n",
            " 4   Employed        13 non-null     int64 \n",
            " 5   Age             13 non-null     int64 \n",
            "dtypes: int64(3), object(3)\n",
            "memory usage: 752.0+ bytes\n"
          ],
          "name": "stdout"
        }
      ]
    },
    {
      "cell_type": "markdown",
      "metadata": {
        "id": "lNt_eqzjdth_",
        "colab_type": "text"
      },
      "source": [
        "\n",
        "\n",
        "---\n",
        "\n",
        "\n",
        "\n",
        "**Now let us select one column and look at its type and shape**\n",
        "\n",
        "\n",
        "---\n",
        "\n"
      ]
    },
    {
      "cell_type": "code",
      "metadata": {
        "id": "H3XGwmu2dsft",
        "colab_type": "code",
        "outputId": "91fb8846-c955-477f-b7d5-604cdfe40124",
        "colab": {
          "base_uri": "https://localhost:8080/",
          "height": 118
        }
      },
      "source": [
        "sex = CustomerData[\"Gender\"]\n",
        "sex.head()"
      ],
      "execution_count": 0,
      "outputs": [
        {
          "output_type": "execute_result",
          "data": {
            "text/plain": [
              "0      male\n",
              "1    female\n",
              "2    female\n",
              "3    female\n",
              "4      male\n",
              "Name: Gender, dtype: object"
            ]
          },
          "metadata": {
            "tags": []
          },
          "execution_count": 62
        }
      ]
    },
    {
      "cell_type": "code",
      "metadata": {
        "id": "ZeTTSKGPeodG",
        "colab_type": "code",
        "outputId": "e02eb772-10ac-4a82-e175-0014501012f7",
        "colab": {
          "base_uri": "https://localhost:8080/",
          "height": 34
        }
      },
      "source": [
        "sex.shape"
      ],
      "execution_count": 0,
      "outputs": [
        {
          "output_type": "execute_result",
          "data": {
            "text/plain": [
              "(13,)"
            ]
          },
          "metadata": {
            "tags": []
          },
          "execution_count": 63
        }
      ]
    },
    {
      "cell_type": "code",
      "metadata": {
        "id": "EUun6Kjob716",
        "colab_type": "code",
        "outputId": "3e0427e0-2a1f-439a-b892-c76ca4e3a6e6",
        "colab": {
          "base_uri": "https://localhost:8080/",
          "height": 34
        }
      },
      "source": [
        "CustomerData.shape"
      ],
      "execution_count": 0,
      "outputs": [
        {
          "output_type": "execute_result",
          "data": {
            "text/plain": [
              "(13, 6)"
            ]
          },
          "metadata": {
            "tags": []
          },
          "execution_count": 64
        }
      ]
    },
    {
      "cell_type": "markdown",
      "metadata": {
        "id": "tg4_WMdne6kL",
        "colab_type": "text"
      },
      "source": [
        "\n",
        "\n",
        "---\n",
        "\n",
        "\n",
        "**To select multiple columns:**\n",
        "\n",
        "\n",
        "---\n",
        "\n"
      ]
    },
    {
      "cell_type": "code",
      "metadata": {
        "id": "xJ0A4z9rcOiP",
        "colab_type": "code",
        "outputId": "02487934-31d0-4c8b-80a0-0bfaa7cc7be2",
        "colab": {
          "base_uri": "https://localhost:8080/",
          "height": 432
        }
      },
      "source": [
        "CustomerData[[\"Gender\",\"Name\"]]"
      ],
      "execution_count": 0,
      "outputs": [
        {
          "output_type": "execute_result",
          "data": {
            "text/html": [
              "<div>\n",
              "<style scoped>\n",
              "    .dataframe tbody tr th:only-of-type {\n",
              "        vertical-align: middle;\n",
              "    }\n",
              "\n",
              "    .dataframe tbody tr th {\n",
              "        vertical-align: top;\n",
              "    }\n",
              "\n",
              "    .dataframe thead th {\n",
              "        text-align: right;\n",
              "    }\n",
              "</style>\n",
              "<table border=\"1\" class=\"dataframe\">\n",
              "  <thead>\n",
              "    <tr style=\"text-align: right;\">\n",
              "      <th></th>\n",
              "      <th>Gender</th>\n",
              "      <th>Name</th>\n",
              "    </tr>\n",
              "  </thead>\n",
              "  <tbody>\n",
              "    <tr>\n",
              "      <th>0</th>\n",
              "      <td>male</td>\n",
              "      <td>Lokesh</td>\n",
              "    </tr>\n",
              "    <tr>\n",
              "      <th>1</th>\n",
              "      <td>female</td>\n",
              "      <td>Nisha</td>\n",
              "    </tr>\n",
              "    <tr>\n",
              "      <th>2</th>\n",
              "      <td>female</td>\n",
              "      <td>Sahar</td>\n",
              "    </tr>\n",
              "    <tr>\n",
              "      <th>3</th>\n",
              "      <td>female</td>\n",
              "      <td>Sara</td>\n",
              "    </tr>\n",
              "    <tr>\n",
              "      <th>4</th>\n",
              "      <td>male</td>\n",
              "      <td>John</td>\n",
              "    </tr>\n",
              "    <tr>\n",
              "      <th>5</th>\n",
              "      <td>male</td>\n",
              "      <td>Kim</td>\n",
              "    </tr>\n",
              "    <tr>\n",
              "      <th>6</th>\n",
              "      <td>female</td>\n",
              "      <td>Julia</td>\n",
              "    </tr>\n",
              "    <tr>\n",
              "      <th>7</th>\n",
              "      <td>male</td>\n",
              "      <td>Tarak</td>\n",
              "    </tr>\n",
              "    <tr>\n",
              "      <th>8</th>\n",
              "      <td>male</td>\n",
              "      <td>Sheldon</td>\n",
              "    </tr>\n",
              "    <tr>\n",
              "      <th>9</th>\n",
              "      <td>male</td>\n",
              "      <td>Raj</td>\n",
              "    </tr>\n",
              "    <tr>\n",
              "      <th>10</th>\n",
              "      <td>male</td>\n",
              "      <td>Leonard</td>\n",
              "    </tr>\n",
              "    <tr>\n",
              "      <th>11</th>\n",
              "      <td>female</td>\n",
              "      <td>Penny</td>\n",
              "    </tr>\n",
              "    <tr>\n",
              "      <th>12</th>\n",
              "      <td>male</td>\n",
              "      <td>Howard</td>\n",
              "    </tr>\n",
              "  </tbody>\n",
              "</table>\n",
              "</div>"
            ],
            "text/plain": [
              "    Gender     Name\n",
              "0     male   Lokesh\n",
              "1   female    Nisha\n",
              "2   female    Sahar\n",
              "3   female     Sara\n",
              "4     male     John\n",
              "5     male      Kim\n",
              "6   female    Julia\n",
              "7     male    Tarak\n",
              "8     male  Sheldon\n",
              "9     male      Raj\n",
              "10    male  Leonard\n",
              "11  female    Penny\n",
              "12    male   Howard"
            ]
          },
          "metadata": {
            "tags": []
          },
          "execution_count": 65
        }
      ]
    },
    {
      "cell_type": "code",
      "metadata": {
        "id": "mv034bEcfAjZ",
        "colab_type": "code",
        "outputId": "bb818fd0-17c5-4f73-8b9f-ebb636c27dc3",
        "colab": {
          "base_uri": "https://localhost:8080/",
          "height": 195
        }
      },
      "source": [
        "CustomerData[[\"Gender\",\"Name\"]].head()"
      ],
      "execution_count": 0,
      "outputs": [
        {
          "output_type": "execute_result",
          "data": {
            "text/html": [
              "<div>\n",
              "<style scoped>\n",
              "    .dataframe tbody tr th:only-of-type {\n",
              "        vertical-align: middle;\n",
              "    }\n",
              "\n",
              "    .dataframe tbody tr th {\n",
              "        vertical-align: top;\n",
              "    }\n",
              "\n",
              "    .dataframe thead th {\n",
              "        text-align: right;\n",
              "    }\n",
              "</style>\n",
              "<table border=\"1\" class=\"dataframe\">\n",
              "  <thead>\n",
              "    <tr style=\"text-align: right;\">\n",
              "      <th></th>\n",
              "      <th>Gender</th>\n",
              "      <th>Name</th>\n",
              "    </tr>\n",
              "  </thead>\n",
              "  <tbody>\n",
              "    <tr>\n",
              "      <th>0</th>\n",
              "      <td>male</td>\n",
              "      <td>Lokesh</td>\n",
              "    </tr>\n",
              "    <tr>\n",
              "      <th>1</th>\n",
              "      <td>female</td>\n",
              "      <td>Nisha</td>\n",
              "    </tr>\n",
              "    <tr>\n",
              "      <th>2</th>\n",
              "      <td>female</td>\n",
              "      <td>Sahar</td>\n",
              "    </tr>\n",
              "    <tr>\n",
              "      <th>3</th>\n",
              "      <td>female</td>\n",
              "      <td>Sara</td>\n",
              "    </tr>\n",
              "    <tr>\n",
              "      <th>4</th>\n",
              "      <td>male</td>\n",
              "      <td>John</td>\n",
              "    </tr>\n",
              "  </tbody>\n",
              "</table>\n",
              "</div>"
            ],
            "text/plain": [
              "   Gender    Name\n",
              "0    male  Lokesh\n",
              "1  female   Nisha\n",
              "2  female   Sahar\n",
              "3  female    Sara\n",
              "4    male    John"
            ]
          },
          "metadata": {
            "tags": []
          },
          "execution_count": 66
        }
      ]
    },
    {
      "cell_type": "markdown",
      "metadata": {
        "id": "a8wnmPdSg0wV",
        "colab_type": "text"
      },
      "source": [
        "\n",
        "\n",
        "---\n",
        "\n",
        "\n",
        "**To filter specific rows from a DataFrame:** \n",
        "pass the customer who are elder than 29\n",
        "\n",
        "\n",
        "---\n",
        "\n"
      ]
    },
    {
      "cell_type": "code",
      "metadata": {
        "id": "-9aS9uTVgz4h",
        "colab_type": "code",
        "outputId": "9c2fc7ab-f3c5-4276-a46d-7bd8d6792d8c",
        "colab": {
          "base_uri": "https://localhost:8080/",
          "height": 195
        }
      },
      "source": [
        "above_29 = CustomerData[CustomerData[\"Age\"]>29]\n",
        "above_29.head()"
      ],
      "execution_count": 0,
      "outputs": [
        {
          "output_type": "execute_result",
          "data": {
            "text/html": [
              "<div>\n",
              "<style scoped>\n",
              "    .dataframe tbody tr th:only-of-type {\n",
              "        vertical-align: middle;\n",
              "    }\n",
              "\n",
              "    .dataframe tbody tr th {\n",
              "        vertical-align: top;\n",
              "    }\n",
              "\n",
              "    .dataframe thead th {\n",
              "        text-align: right;\n",
              "    }\n",
              "</style>\n",
              "<table border=\"1\" class=\"dataframe\">\n",
              "  <thead>\n",
              "    <tr style=\"text-align: right;\">\n",
              "      <th></th>\n",
              "      <th>Id</th>\n",
              "      <th>Marital_Status</th>\n",
              "      <th>Gender</th>\n",
              "      <th>Name</th>\n",
              "      <th>Employed</th>\n",
              "      <th>Age</th>\n",
              "    </tr>\n",
              "  </thead>\n",
              "  <tbody>\n",
              "    <tr>\n",
              "      <th>0</th>\n",
              "      <td>1</td>\n",
              "      <td>married</td>\n",
              "      <td>male</td>\n",
              "      <td>Lokesh</td>\n",
              "      <td>1</td>\n",
              "      <td>30</td>\n",
              "    </tr>\n",
              "    <tr>\n",
              "      <th>1</th>\n",
              "      <td>2</td>\n",
              "      <td>single</td>\n",
              "      <td>female</td>\n",
              "      <td>Nisha</td>\n",
              "      <td>0</td>\n",
              "      <td>30</td>\n",
              "    </tr>\n",
              "    <tr>\n",
              "      <th>4</th>\n",
              "      <td>5</td>\n",
              "      <td>single</td>\n",
              "      <td>male</td>\n",
              "      <td>John</td>\n",
              "      <td>1</td>\n",
              "      <td>40</td>\n",
              "    </tr>\n",
              "    <tr>\n",
              "      <th>6</th>\n",
              "      <td>7</td>\n",
              "      <td>married</td>\n",
              "      <td>female</td>\n",
              "      <td>Julia</td>\n",
              "      <td>0</td>\n",
              "      <td>32</td>\n",
              "    </tr>\n",
              "    <tr>\n",
              "      <th>7</th>\n",
              "      <td>8</td>\n",
              "      <td>married</td>\n",
              "      <td>male</td>\n",
              "      <td>Tarak</td>\n",
              "      <td>1</td>\n",
              "      <td>30</td>\n",
              "    </tr>\n",
              "  </tbody>\n",
              "</table>\n",
              "</div>"
            ],
            "text/plain": [
              "   Id Marital_Status  Gender    Name  Employed  Age\n",
              "0   1        married    male  Lokesh         1   30\n",
              "1   2         single  female   Nisha         0   30\n",
              "4   5         single    male    John         1   40\n",
              "6   7        married  female   Julia         0   32\n",
              "7   8        married    male   Tarak         1   30"
            ]
          },
          "metadata": {
            "tags": []
          },
          "execution_count": 67
        }
      ]
    },
    {
      "cell_type": "markdown",
      "metadata": {
        "id": "6recC4joh0g1",
        "colab_type": "text"
      },
      "source": [
        "\n",
        "\n",
        "\n",
        "---\n",
        "\n",
        "\n",
        "**How to select specific rows and columns from a DataFrame**\n",
        "\n",
        "\n",
        "---\n",
        "\n"
      ]
    },
    {
      "cell_type": "code",
      "metadata": {
        "id": "d3icRFcwh6pN",
        "colab_type": "code",
        "outputId": "7ef7e87e-439d-4e95-f50a-d4e98ba8941e",
        "colab": {
          "base_uri": "https://localhost:8080/",
          "height": 118
        }
      },
      "source": [
        "names_above_29 = CustomerData.loc[CustomerData[\"Age\"]>29,\"Name\"]\n",
        "names_above_29.head()"
      ],
      "execution_count": 0,
      "outputs": [
        {
          "output_type": "execute_result",
          "data": {
            "text/plain": [
              "0    Lokesh\n",
              "1     Nisha\n",
              "4      John\n",
              "6     Julia\n",
              "7     Tarak\n",
              "Name: Name, dtype: object"
            ]
          },
          "metadata": {
            "tags": []
          },
          "execution_count": 68
        }
      ]
    },
    {
      "cell_type": "markdown",
      "metadata": {
        "id": "gM0lGiHWjOIT",
        "colab_type": "text"
      },
      "source": [
        "\n",
        "\n",
        "\n",
        "---\n",
        "\n",
        "\n",
        "**Select rows from 1 to 3 and columns 1,2:**\n",
        "\n",
        "\n",
        "---\n",
        "\n"
      ]
    },
    {
      "cell_type": "markdown",
      "metadata": {
        "id": "LKwDWQdQcyrW",
        "colab_type": "text"
      },
      "source": [
        "iloc take interger\n",
        "\n",
        "[how_many_rows, how_many_column]"
      ]
    },
    {
      "cell_type": "code",
      "metadata": {
        "id": "Dsd_Bz7_jZ3n",
        "colab_type": "code",
        "outputId": "8c25e64c-a08a-4087-c151-faa5e9b17604",
        "colab": {
          "base_uri": "https://localhost:8080/",
          "height": 136
        }
      },
      "source": [
        "CustomerData.iloc[0:3,0:4]"
      ],
      "execution_count": 0,
      "outputs": [
        {
          "output_type": "execute_result",
          "data": {
            "text/html": [
              "<div>\n",
              "<style scoped>\n",
              "    .dataframe tbody tr th:only-of-type {\n",
              "        vertical-align: middle;\n",
              "    }\n",
              "\n",
              "    .dataframe tbody tr th {\n",
              "        vertical-align: top;\n",
              "    }\n",
              "\n",
              "    .dataframe thead th {\n",
              "        text-align: right;\n",
              "    }\n",
              "</style>\n",
              "<table border=\"1\" class=\"dataframe\">\n",
              "  <thead>\n",
              "    <tr style=\"text-align: right;\">\n",
              "      <th></th>\n",
              "      <th>Id</th>\n",
              "      <th>Marital_Status</th>\n",
              "      <th>Gender</th>\n",
              "      <th>Name</th>\n",
              "    </tr>\n",
              "  </thead>\n",
              "  <tbody>\n",
              "    <tr>\n",
              "      <th>0</th>\n",
              "      <td>1</td>\n",
              "      <td>married</td>\n",
              "      <td>male</td>\n",
              "      <td>Lokesh</td>\n",
              "    </tr>\n",
              "    <tr>\n",
              "      <th>1</th>\n",
              "      <td>2</td>\n",
              "      <td>single</td>\n",
              "      <td>female</td>\n",
              "      <td>Nisha</td>\n",
              "    </tr>\n",
              "    <tr>\n",
              "      <th>2</th>\n",
              "      <td>3</td>\n",
              "      <td>single</td>\n",
              "      <td>female</td>\n",
              "      <td>Sahar</td>\n",
              "    </tr>\n",
              "  </tbody>\n",
              "</table>\n",
              "</div>"
            ],
            "text/plain": [
              "   Id Marital_Status  Gender    Name\n",
              "0   1        married    male  Lokesh\n",
              "1   2         single  female   Nisha\n",
              "2   3         single  female   Sahar"
            ]
          },
          "metadata": {
            "tags": []
          },
          "execution_count": 69
        }
      ]
    },
    {
      "cell_type": "code",
      "metadata": {
        "id": "vmy0Z3Yzc-cY",
        "colab_type": "code",
        "outputId": "b4d10923-bf07-4542-c465-30adf27dcf50",
        "colab": {
          "base_uri": "https://localhost:8080/",
          "height": 136
        }
      },
      "source": [
        "CustomerData.sample(3)"
      ],
      "execution_count": 0,
      "outputs": [
        {
          "output_type": "execute_result",
          "data": {
            "text/html": [
              "<div>\n",
              "<style scoped>\n",
              "    .dataframe tbody tr th:only-of-type {\n",
              "        vertical-align: middle;\n",
              "    }\n",
              "\n",
              "    .dataframe tbody tr th {\n",
              "        vertical-align: top;\n",
              "    }\n",
              "\n",
              "    .dataframe thead th {\n",
              "        text-align: right;\n",
              "    }\n",
              "</style>\n",
              "<table border=\"1\" class=\"dataframe\">\n",
              "  <thead>\n",
              "    <tr style=\"text-align: right;\">\n",
              "      <th></th>\n",
              "      <th>Id</th>\n",
              "      <th>Marital_Status</th>\n",
              "      <th>Gender</th>\n",
              "      <th>Name</th>\n",
              "      <th>Employed</th>\n",
              "      <th>Age</th>\n",
              "    </tr>\n",
              "  </thead>\n",
              "  <tbody>\n",
              "    <tr>\n",
              "      <th>9</th>\n",
              "      <td>10</td>\n",
              "      <td>single</td>\n",
              "      <td>male</td>\n",
              "      <td>Raj</td>\n",
              "      <td>1</td>\n",
              "      <td>25</td>\n",
              "    </tr>\n",
              "    <tr>\n",
              "      <th>3</th>\n",
              "      <td>4</td>\n",
              "      <td>married</td>\n",
              "      <td>female</td>\n",
              "      <td>Sara</td>\n",
              "      <td>0</td>\n",
              "      <td>25</td>\n",
              "    </tr>\n",
              "    <tr>\n",
              "      <th>1</th>\n",
              "      <td>2</td>\n",
              "      <td>single</td>\n",
              "      <td>female</td>\n",
              "      <td>Nisha</td>\n",
              "      <td>0</td>\n",
              "      <td>30</td>\n",
              "    </tr>\n",
              "  </tbody>\n",
              "</table>\n",
              "</div>"
            ],
            "text/plain": [
              "   Id Marital_Status  Gender   Name  Employed  Age\n",
              "9  10         single    male    Raj         1   25\n",
              "3   4        married  female   Sara         0   25\n",
              "1   2         single  female  Nisha         0   30"
            ]
          },
          "metadata": {
            "tags": []
          },
          "execution_count": 70
        }
      ]
    },
    {
      "cell_type": "markdown",
      "metadata": {
        "id": "ookOS_UIkOdi",
        "colab_type": "text"
      },
      "source": [
        "\n",
        "\n",
        "---\n",
        "\n",
        "\n",
        "**Note:**\n",
        "1. Select specific rows and/or columns using loc when using the row and column names\n",
        "2. Select specific rows and/or columns using iloc when using the positions in the table\n",
        "\n",
        "\n",
        "---\n",
        "\n"
      ]
    },
    {
      "cell_type": "markdown",
      "metadata": {
        "id": "Xpf5ch8qaxNk",
        "colab_type": "text"
      },
      "source": [
        "\n",
        "\n",
        "---\n",
        "\n",
        "**Plotting**\n",
        "\n",
        "---\n",
        "\n"
      ]
    },
    {
      "cell_type": "code",
      "metadata": {
        "id": "an15-6I9kWbF",
        "colab_type": "code",
        "colab": {}
      },
      "source": [
        "import matplotlib.pyplot as plt"
      ],
      "execution_count": 0,
      "outputs": []
    },
    {
      "cell_type": "code",
      "metadata": {
        "id": "qUZAS9u1ksOt",
        "colab_type": "code",
        "outputId": "56ef470d-12f3-4ab6-bf48-a40c13a73acc",
        "colab": {
          "base_uri": "https://localhost:8080/",
          "height": 282
        }
      },
      "source": [
        "CustomerData.plot()"
      ],
      "execution_count": 0,
      "outputs": [
        {
          "output_type": "execute_result",
          "data": {
            "text/plain": [
              "<matplotlib.axes._subplots.AxesSubplot at 0x7fa30f24cb38>"
            ]
          },
          "metadata": {
            "tags": []
          },
          "execution_count": 72
        },
        {
          "output_type": "display_data",
          "data": {
            "image/png": "[encoded data removed]",
            "text/plain": [
              "<Figure size 432x288 with 1 Axes>"
            ]
          },
          "metadata": {
            "tags": [],
            "needs_background": "light"
          }
        }
      ]
    },
    {
      "cell_type": "markdown",
      "metadata": {
        "id": "HQNP529nlCjK",
        "colab_type": "text"
      },
      "source": [
        "\n",
        "\n",
        "\n",
        "---\n",
        "\n",
        "\n",
        "**To plot only the columns of the data table with the data from Age**\n",
        "\n",
        "\n",
        "---\n",
        "\n"
      ]
    },
    {
      "cell_type": "code",
      "metadata": {
        "id": "pr2A66jvlMWK",
        "colab_type": "code",
        "outputId": "92a3860d-10dc-4b1f-a263-4a2a4b026b7d",
        "colab": {
          "base_uri": "https://localhost:8080/",
          "height": 282
        }
      },
      "source": [
        "CustomerData[\"Age\"].plot()"
      ],
      "execution_count": 0,
      "outputs": [
        {
          "output_type": "execute_result",
          "data": {
            "text/plain": [
              "<matplotlib.axes._subplots.AxesSubplot at 0x7fa30ec835c0>"
            ]
          },
          "metadata": {
            "tags": []
          },
          "execution_count": 73
        },
        {
          "output_type": "display_data",
          "data": {
            "image/png": "[encoded data removed]",
            "text/plain": [
              "<Figure size 432x288 with 1 Axes>"
            ]
          },
          "metadata": {
            "tags": [],
            "needs_background": "light"
          }
        }
      ]
    },
    {
      "cell_type": "code",
      "metadata": {
        "id": "a46UwvXkmK0E",
        "colab_type": "code",
        "outputId": "a753bcde-0d7d-4e21-f472-cf2f291777d0",
        "colab": {
          "base_uri": "https://localhost:8080/",
          "height": 296
        }
      },
      "source": [
        "CustomerData.plot.scatter(x=\"Id\",\n",
        "                          y=\"Age\")"
      ],
      "execution_count": 0,
      "outputs": [
        {
          "output_type": "execute_result",
          "data": {
            "text/plain": [
              "<matplotlib.axes._subplots.AxesSubplot at 0x7fa30ec68da0>"
            ]
          },
          "metadata": {
            "tags": []
          },
          "execution_count": 74
        },
        {
          "output_type": "display_data",
          "data": {
            "image/png": "[encoded data removed]",
            "text/plain": [
              "<Figure size 432x288 with 1 Axes>"
            ]
          },
          "metadata": {
            "tags": [],
            "needs_background": "light"
          }
        }
      ]
    },
    {
      "cell_type": "code",
      "metadata": {
        "id": "lkEGVsK6myPN",
        "colab_type": "code",
        "outputId": "ff04cf5c-e5c4-4fde-bdf2-8fcf4c33672e",
        "colab": {
          "base_uri": "https://localhost:8080/",
          "height": 282
        }
      },
      "source": [
        "CustomerData.plot.box()"
      ],
      "execution_count": 0,
      "outputs": [
        {
          "output_type": "execute_result",
          "data": {
            "text/plain": [
              "<matplotlib.axes._subplots.AxesSubplot at 0x7fa30e3d9780>"
            ]
          },
          "metadata": {
            "tags": []
          },
          "execution_count": 75
        },
        {
          "output_type": "display_data",
          "data": {
            "image/png": "[encoded data removed]",
            "text/plain": [
              "<Figure size 432x288 with 1 Axes>"
            ]
          },
          "metadata": {
            "tags": [],
            "needs_background": "light"
          }
        }
      ]
    },
    {
      "cell_type": "markdown",
      "metadata": {
        "id": "hJXnYn8SnZsf",
        "colab_type": "text"
      },
      "source": [
        "\n",
        "\n",
        "---\n",
        "\n",
        "\n",
        "**Some Statistics**\n",
        "\n",
        "\n",
        "---\n",
        "\n"
      ]
    },
    {
      "cell_type": "code",
      "metadata": {
        "id": "rtnS9JUFngdz",
        "colab_type": "code",
        "outputId": "5b17121c-09e9-4f47-f09d-d3f0e5453d1a",
        "colab": {
          "base_uri": "https://localhost:8080/",
          "height": 34
        }
      },
      "source": [
        "CustomerData[\"Age\"].mean()"
      ],
      "execution_count": 0,
      "outputs": [
        {
          "output_type": "execute_result",
          "data": {
            "text/plain": [
              "27.923076923076923"
            ]
          },
          "metadata": {
            "tags": []
          },
          "execution_count": 76
        }
      ]
    },
    {
      "cell_type": "code",
      "metadata": {
        "id": "seDuIPFWpQSB",
        "colab_type": "code",
        "outputId": "46e0160a-86af-4062-97e4-8262e813e39a",
        "colab": {
          "base_uri": "https://localhost:8080/",
          "height": 34
        }
      },
      "source": [
        "CustomerData[\"Age\"].median()"
      ],
      "execution_count": 0,
      "outputs": [
        {
          "output_type": "execute_result",
          "data": {
            "text/plain": [
              "27.0"
            ]
          },
          "metadata": {
            "tags": []
          },
          "execution_count": 77
        }
      ]
    },
    {
      "cell_type": "code",
      "metadata": {
        "id": "d6VVZBWjpYv-",
        "colab_type": "code",
        "outputId": "6eb287c1-8476-494d-e8df-a1ee82704e74",
        "colab": {
          "base_uri": "https://localhost:8080/",
          "height": 34
        }
      },
      "source": [
        "CustomerData[\"Age\"].max()"
      ],
      "execution_count": 0,
      "outputs": [
        {
          "output_type": "execute_result",
          "data": {
            "text/plain": [
              "40"
            ]
          },
          "metadata": {
            "tags": []
          },
          "execution_count": 78
        }
      ]
    },
    {
      "cell_type": "code",
      "metadata": {
        "id": "nv8wI_S8plUW",
        "colab_type": "code",
        "outputId": "1c31def2-36cb-4dd1-936e-45c25ea36301",
        "colab": {
          "base_uri": "https://localhost:8080/",
          "height": 34
        }
      },
      "source": [
        "CustomerData[\"Age\"].min()"
      ],
      "execution_count": 0,
      "outputs": [
        {
          "output_type": "execute_result",
          "data": {
            "text/plain": [
              "22"
            ]
          },
          "metadata": {
            "tags": []
          },
          "execution_count": 79
        }
      ]
    },
    {
      "cell_type": "markdown",
      "metadata": {
        "id": "iBX44738bONx",
        "colab_type": "text"
      },
      "source": [
        "differnt moment, higher order in statics!!!"
      ]
    },
    {
      "cell_type": "code",
      "metadata": {
        "id": "lh1Vct3bpqX2",
        "colab_type": "code",
        "outputId": "273d34e5-5d2a-444c-e137-63363607ae68",
        "colab": {
          "base_uri": "https://localhost:8080/",
          "height": 34
        }
      },
      "source": [
        "CustomerData[\"Age\"].skew()"
      ],
      "execution_count": 0,
      "outputs": [
        {
          "output_type": "execute_result",
          "data": {
            "text/plain": [
              "1.3730063551637484"
            ]
          },
          "metadata": {
            "tags": []
          },
          "execution_count": 80
        }
      ]
    },
    {
      "cell_type": "code",
      "metadata": {
        "id": "pDGAPJzrKDOR",
        "colab_type": "code",
        "outputId": "7dec3a70-42cf-44d3-8729-eff793a6a851",
        "colab": {
          "base_uri": "https://localhost:8080/",
          "height": 34
        }
      },
      "source": [
        "CustomerData[\"Age\"].var()"
      ],
      "execution_count": 0,
      "outputs": [
        {
          "output_type": "execute_result",
          "data": {
            "text/plain": [
              "22.076923076923077"
            ]
          },
          "metadata": {
            "tags": []
          },
          "execution_count": 81
        }
      ]
    },
    {
      "cell_type": "code",
      "metadata": {
        "id": "Ug2d8zQLHPNR",
        "colab_type": "code",
        "outputId": "c88efbf4-bc26-49c7-baa6-b6d10721f2c7",
        "colab": {
          "base_uri": "https://localhost:8080/",
          "height": 34
        }
      },
      "source": [
        "CustomerData[\"Age\"].std()"
      ],
      "execution_count": 0,
      "outputs": [
        {
          "output_type": "execute_result",
          "data": {
            "text/plain": [
              "4.698608632023216"
            ]
          },
          "metadata": {
            "tags": []
          },
          "execution_count": 82
        }
      ]
    },
    {
      "cell_type": "code",
      "metadata": {
        "id": "-a2CeeTcJ6ft",
        "colab_type": "code",
        "outputId": "4a76dd2b-ea15-47dd-ef14-de7961e2cc20",
        "colab": {
          "base_uri": "https://localhost:8080/",
          "height": 67
        }
      },
      "source": [
        "CustomerData[\"Age\"].mode()"
      ],
      "execution_count": 0,
      "outputs": [
        {
          "output_type": "execute_result",
          "data": {
            "text/plain": [
              "0    25\n",
              "1    30\n",
              "dtype: int64"
            ]
          },
          "metadata": {
            "tags": []
          },
          "execution_count": 83
        }
      ]
    },
    {
      "cell_type": "markdown",
      "metadata": {
        "id": "aPF7Mm0HrrEH",
        "colab_type": "text"
      },
      "source": [
        "\n",
        "\n",
        "---\n",
        "\n",
        "\n",
        "**Combining overlapping data sets**\n",
        "\n",
        "\n",
        "---\n",
        "\n"
      ]
    },
    {
      "cell_type": "code",
      "metadata": {
        "id": "oIWsl43y5-1h",
        "colab_type": "code",
        "colab": {}
      },
      "source": [
        "import numpy as np"
      ],
      "execution_count": 0,
      "outputs": []
    },
    {
      "cell_type": "markdown",
      "metadata": {
        "id": "oz_OOdapSWxr",
        "colab_type": "text"
      },
      "source": [
        "We are creating two data frame then for print them have call in seprate cells then we can see them"
      ]
    },
    {
      "cell_type": "code",
      "metadata": {
        "id": "rSGyQnW-rveu",
        "colab_type": "code",
        "colab": {}
      },
      "source": [
        "df1 = pd.DataFrame({'A': [1., np.nan, 3., 5., np.nan],\n",
        "                    'B': [np.nan, 2., 3., np.nan, 6.]})\n",
        "df2 = pd.DataFrame({'A': [5., 2., 4., np.nan, 3., 7.],\n",
        "                    'B': [np.nan, np.nan, 3., 4., 6., 8.]})\n"
      ],
      "execution_count": 0,
      "outputs": []
    },
    {
      "cell_type": "code",
      "metadata": {
        "id": "sN7z-jbq6XTp",
        "colab_type": "code",
        "outputId": "963bfcab-b349-45a0-be8e-171bbe92463a",
        "colab": {
          "base_uri": "https://localhost:8080/",
          "height": 195
        }
      },
      "source": [
        "df1"
      ],
      "execution_count": 0,
      "outputs": [
        {
          "output_type": "execute_result",
          "data": {
            "text/html": [
              "<div>\n",
              "<style scoped>\n",
              "    .dataframe tbody tr th:only-of-type {\n",
              "        vertical-align: middle;\n",
              "    }\n",
              "\n",
              "    .dataframe tbody tr th {\n",
              "        vertical-align: top;\n",
              "    }\n",
              "\n",
              "    .dataframe thead th {\n",
              "        text-align: right;\n",
              "    }\n",
              "</style>\n",
              "<table border=\"1\" class=\"dataframe\">\n",
              "  <thead>\n",
              "    <tr style=\"text-align: right;\">\n",
              "      <th></th>\n",
              "      <th>A</th>\n",
              "      <th>B</th>\n",
              "    </tr>\n",
              "  </thead>\n",
              "  <tbody>\n",
              "    <tr>\n",
              "      <th>0</th>\n",
              "      <td>1.0</td>\n",
              "      <td>NaN</td>\n",
              "    </tr>\n",
              "    <tr>\n",
              "      <th>1</th>\n",
              "      <td>NaN</td>\n",
              "      <td>2.0</td>\n",
              "    </tr>\n",
              "    <tr>\n",
              "      <th>2</th>\n",
              "      <td>3.0</td>\n",
              "      <td>3.0</td>\n",
              "    </tr>\n",
              "    <tr>\n",
              "      <th>3</th>\n",
              "      <td>5.0</td>\n",
              "      <td>NaN</td>\n",
              "    </tr>\n",
              "    <tr>\n",
              "      <th>4</th>\n",
              "      <td>NaN</td>\n",
              "      <td>6.0</td>\n",
              "    </tr>\n",
              "  </tbody>\n",
              "</table>\n",
              "</div>"
            ],
            "text/plain": [
              "     A    B\n",
              "0  1.0  NaN\n",
              "1  NaN  2.0\n",
              "2  3.0  3.0\n",
              "3  5.0  NaN\n",
              "4  NaN  6.0"
            ]
          },
          "metadata": {
            "tags": []
          },
          "execution_count": 89
        }
      ]
    },
    {
      "cell_type": "code",
      "metadata": {
        "id": "_PM6hhWC6aA9",
        "colab_type": "code",
        "outputId": "b2d4273f-fcd3-4f98-cd13-760fcc309582",
        "colab": {
          "base_uri": "https://localhost:8080/",
          "height": 225
        }
      },
      "source": [
        "df2"
      ],
      "execution_count": 0,
      "outputs": [
        {
          "output_type": "execute_result",
          "data": {
            "text/html": [
              "<div>\n",
              "<style scoped>\n",
              "    .dataframe tbody tr th:only-of-type {\n",
              "        vertical-align: middle;\n",
              "    }\n",
              "\n",
              "    .dataframe tbody tr th {\n",
              "        vertical-align: top;\n",
              "    }\n",
              "\n",
              "    .dataframe thead th {\n",
              "        text-align: right;\n",
              "    }\n",
              "</style>\n",
              "<table border=\"1\" class=\"dataframe\">\n",
              "  <thead>\n",
              "    <tr style=\"text-align: right;\">\n",
              "      <th></th>\n",
              "      <th>A</th>\n",
              "      <th>B</th>\n",
              "    </tr>\n",
              "  </thead>\n",
              "  <tbody>\n",
              "    <tr>\n",
              "      <th>0</th>\n",
              "      <td>5.0</td>\n",
              "      <td>NaN</td>\n",
              "    </tr>\n",
              "    <tr>\n",
              "      <th>1</th>\n",
              "      <td>2.0</td>\n",
              "      <td>NaN</td>\n",
              "    </tr>\n",
              "    <tr>\n",
              "      <th>2</th>\n",
              "      <td>4.0</td>\n",
              "      <td>3.0</td>\n",
              "    </tr>\n",
              "    <tr>\n",
              "      <th>3</th>\n",
              "      <td>NaN</td>\n",
              "      <td>4.0</td>\n",
              "    </tr>\n",
              "    <tr>\n",
              "      <th>4</th>\n",
              "      <td>3.0</td>\n",
              "      <td>6.0</td>\n",
              "    </tr>\n",
              "    <tr>\n",
              "      <th>5</th>\n",
              "      <td>7.0</td>\n",
              "      <td>8.0</td>\n",
              "    </tr>\n",
              "  </tbody>\n",
              "</table>\n",
              "</div>"
            ],
            "text/plain": [
              "     A    B\n",
              "0  5.0  NaN\n",
              "1  2.0  NaN\n",
              "2  4.0  3.0\n",
              "3  NaN  4.0\n",
              "4  3.0  6.0\n",
              "5  7.0  8.0"
            ]
          },
          "metadata": {
            "tags": []
          },
          "execution_count": 87
        }
      ]
    },
    {
      "cell_type": "code",
      "metadata": {
        "id": "ZoW71GpN6d7O",
        "colab_type": "code",
        "outputId": "0ff1aa66-12bf-4d36-c260-3d02be619cbd",
        "colab": {
          "base_uri": "https://localhost:8080/",
          "height": 225
        }
      },
      "source": [
        "df1.combine_first(df2)"
      ],
      "execution_count": 0,
      "outputs": [
        {
          "output_type": "execute_result",
          "data": {
            "text/html": [
              "<div>\n",
              "<style scoped>\n",
              "    .dataframe tbody tr th:only-of-type {\n",
              "        vertical-align: middle;\n",
              "    }\n",
              "\n",
              "    .dataframe tbody tr th {\n",
              "        vertical-align: top;\n",
              "    }\n",
              "\n",
              "    .dataframe thead th {\n",
              "        text-align: right;\n",
              "    }\n",
              "</style>\n",
              "<table border=\"1\" class=\"dataframe\">\n",
              "  <thead>\n",
              "    <tr style=\"text-align: right;\">\n",
              "      <th></th>\n",
              "      <th>A</th>\n",
              "      <th>B</th>\n",
              "    </tr>\n",
              "  </thead>\n",
              "  <tbody>\n",
              "    <tr>\n",
              "      <th>0</th>\n",
              "      <td>1.0</td>\n",
              "      <td>NaN</td>\n",
              "    </tr>\n",
              "    <tr>\n",
              "      <th>1</th>\n",
              "      <td>2.0</td>\n",
              "      <td>2.0</td>\n",
              "    </tr>\n",
              "    <tr>\n",
              "      <th>2</th>\n",
              "      <td>3.0</td>\n",
              "      <td>3.0</td>\n",
              "    </tr>\n",
              "    <tr>\n",
              "      <th>3</th>\n",
              "      <td>5.0</td>\n",
              "      <td>4.0</td>\n",
              "    </tr>\n",
              "    <tr>\n",
              "      <th>4</th>\n",
              "      <td>3.0</td>\n",
              "      <td>6.0</td>\n",
              "    </tr>\n",
              "    <tr>\n",
              "      <th>5</th>\n",
              "      <td>7.0</td>\n",
              "      <td>8.0</td>\n",
              "    </tr>\n",
              "  </tbody>\n",
              "</table>\n",
              "</div>"
            ],
            "text/plain": [
              "     A    B\n",
              "0  1.0  NaN\n",
              "1  2.0  2.0\n",
              "2  3.0  3.0\n",
              "3  5.0  4.0\n",
              "4  3.0  6.0\n",
              "5  7.0  8.0"
            ]
          },
          "metadata": {
            "tags": []
          },
          "execution_count": 90
        }
      ]
    },
    {
      "cell_type": "markdown",
      "metadata": {
        "id": "Qh2LE6kk7AHR",
        "colab_type": "text"
      },
      "source": [
        "\n",
        "\n",
        "---\n",
        "\n",
        "\n",
        "**combine_first() combines two DataFrame objects where missing values in one \n",
        "DataFrame are conditionally filled with like-labeled values from the other DataFrame.**\n",
        "\n",
        "\n",
        "---\n",
        "\n"
      ]
    },
    {
      "cell_type": "code",
      "metadata": {
        "id": "hkJX92IzFecZ",
        "colab_type": "code",
        "colab": {}
      },
      "source": [
        "def combiner(x, y):\n",
        "  return np.where(pd.isna(x), y, x)"
      ],
      "execution_count": 0,
      "outputs": []
    },
    {
      "cell_type": "code",
      "metadata": {
        "id": "BduvgTE97RJU",
        "colab_type": "code",
        "outputId": "9bcffff2-1c9d-4966-eeb1-bf42fc2b260a",
        "colab": {
          "base_uri": "https://localhost:8080/",
          "height": 101
        }
      },
      "source": [
        "df1 = pd.DataFrame({'A': [1., np.nan, 3., 5., 6.],\n",
        "                    'B': [1., np.nan, 3., 4., np.nan]})\n",
        "df2 = pd.DataFrame({'A': [5., 2., 4., 2., 3.],\n",
        "                    'B': [7., 3., 4., 6., 8.]})\n",
        "\n",
        "df3 = combiner(df1,df2)\n",
        "df3"
      ],
      "execution_count": 0,
      "outputs": [
        {
          "output_type": "execute_result",
          "data": {
            "text/plain": [
              "array([[1., 1.],\n",
              "       [2., 3.],\n",
              "       [3., 3.],\n",
              "       [5., 4.],\n",
              "       [6., 8.]])"
            ]
          },
          "metadata": {
            "tags": []
          },
          "execution_count": 110
        }
      ]
    },
    {
      "cell_type": "markdown",
      "metadata": {
        "id": "DGHzdQUVG_PQ",
        "colab_type": "text"
      },
      "source": [
        "\n",
        "\n",
        "\n",
        "---\n",
        "\n",
        "\n",
        "**To exclude missing data you can use skipna = True**\n",
        "\n",
        "\n",
        "---\n",
        "\n"
      ]
    },
    {
      "cell_type": "markdown",
      "metadata": {
        "id": "1lVhPUDNYp_7",
        "colab_type": "text"
      },
      "source": [
        "---\n",
        "**It don't skip 2nd and 6th row, it just skip \n",
        "nan!**\n",
        "\n",
        "**more accuratly take nan == 0**\n",
        "If we have few nan points then we exclude them but if we have many nan points which may cause loss in data then we do impute(in python - i think in numpy) them by mean or other!!!\n",
        "\n",
        "---\n",
        "\n"
      ]
    },
    {
      "cell_type": "code",
      "metadata": {
        "id": "jxzVpa94G06A",
        "colab_type": "code",
        "outputId": "ae16b973-9868-45e5-f508-6421a3777c31",
        "colab": {
          "base_uri": "https://localhost:8080/",
          "height": 118
        }
      },
      "source": [
        "df1.sum(axis=1, skipna=True)"
      ],
      "execution_count": 0,
      "outputs": [
        {
          "output_type": "execute_result",
          "data": {
            "text/plain": [
              "0    2.0\n",
              "1    0.0\n",
              "2    6.0\n",
              "3    9.0\n",
              "4    6.0\n",
              "dtype: float64"
            ]
          },
          "metadata": {
            "tags": []
          },
          "execution_count": 112
        }
      ]
    },
    {
      "cell_type": "markdown",
      "metadata": {
        "id": "ozn1F1V1RgQA",
        "colab_type": "text"
      },
      "source": [
        "\n",
        "\n",
        "---\n",
        "\n",
        "\n",
        "**Crosstabs**\n",
        "\n",
        "\n",
        "---\n",
        "\n"
      ]
    },
    {
      "cell_type": "code",
      "metadata": {
        "id": "3PZMLCFMRgqi",
        "colab_type": "code",
        "outputId": "21ac7be6-42a6-4e59-ebbb-d671d3fe741f",
        "colab": {
          "base_uri": "https://localhost:8080/",
          "height": 402
        }
      },
      "source": [
        "raw_data = {'regiment': ['Nighthawks', 'Nighthawks', 'Nighthawks', 'Nighthawks', 'Dragoons', 'Dragoons', 'Dragoons', 'Dragoons', 'Scouts', 'Scouts', 'Scouts', 'Scouts'], \n",
        "        'company': ['infantry', 'infantry', 'cavalry', 'cavalry', 'infantry', 'infantry', 'cavalry', 'cavalry','infantry', 'infantry', 'cavalry', 'cavalry'], \n",
        "        'experience': ['veteran', 'rookie', 'veteran', 'rookie', 'veteran', 'rookie', 'veteran', 'rookie','veteran', 'rookie', 'veteran', 'rookie'],\n",
        "        'name': ['Miller', 'Jacobson', 'Ali', 'Milner', 'Cooze', 'Jacon', 'Ryaner', 'Sone', 'Sloan', 'Piger', 'Riani', 'Ali'], \n",
        "        'preTestScore': [4, 24, 31, 2, 3, 4, 24, 31, 2, 3, 2, 3],\n",
        "        'postTestScore': [25, 94, 57, 62, 70, 25, 94, 57, 62, 70, 62, 70]}\n",
        "df = pd.DataFrame(raw_data, columns = ['regiment', 'company', 'experience', 'name', 'preTestScore', 'postTestScore'])\n",
        "df"
      ],
      "execution_count": 0,
      "outputs": [
        {
          "output_type": "execute_result",
          "data": {
            "text/html": [
              "<div>\n",
              "<style scoped>\n",
              "    .dataframe tbody tr th:only-of-type {\n",
              "        vertical-align: middle;\n",
              "    }\n",
              "\n",
              "    .dataframe tbody tr th {\n",
              "        vertical-align: top;\n",
              "    }\n",
              "\n",
              "    .dataframe thead th {\n",
              "        text-align: right;\n",
              "    }\n",
              "</style>\n",
              "<table border=\"1\" class=\"dataframe\">\n",
              "  <thead>\n",
              "    <tr style=\"text-align: right;\">\n",
              "      <th></th>\n",
              "      <th>regiment</th>\n",
              "      <th>company</th>\n",
              "      <th>experience</th>\n",
              "      <th>name</th>\n",
              "      <th>preTestScore</th>\n",
              "      <th>postTestScore</th>\n",
              "    </tr>\n",
              "  </thead>\n",
              "  <tbody>\n",
              "    <tr>\n",
              "      <th>0</th>\n",
              "      <td>Nighthawks</td>\n",
              "      <td>infantry</td>\n",
              "      <td>veteran</td>\n",
              "      <td>Miller</td>\n",
              "      <td>4</td>\n",
              "      <td>25</td>\n",
              "    </tr>\n",
              "    <tr>\n",
              "      <th>1</th>\n",
              "      <td>Nighthawks</td>\n",
              "      <td>infantry</td>\n",
              "      <td>rookie</td>\n",
              "      <td>Jacobson</td>\n",
              "      <td>24</td>\n",
              "      <td>94</td>\n",
              "    </tr>\n",
              "    <tr>\n",
              "      <th>2</th>\n",
              "      <td>Nighthawks</td>\n",
              "      <td>cavalry</td>\n",
              "      <td>veteran</td>\n",
              "      <td>Ali</td>\n",
              "      <td>31</td>\n",
              "      <td>57</td>\n",
              "    </tr>\n",
              "    <tr>\n",
              "      <th>3</th>\n",
              "      <td>Nighthawks</td>\n",
              "      <td>cavalry</td>\n",
              "      <td>rookie</td>\n",
              "      <td>Milner</td>\n",
              "      <td>2</td>\n",
              "      <td>62</td>\n",
              "    </tr>\n",
              "    <tr>\n",
              "      <th>4</th>\n",
              "      <td>Dragoons</td>\n",
              "      <td>infantry</td>\n",
              "      <td>veteran</td>\n",
              "      <td>Cooze</td>\n",
              "      <td>3</td>\n",
              "      <td>70</td>\n",
              "    </tr>\n",
              "    <tr>\n",
              "      <th>5</th>\n",
              "      <td>Dragoons</td>\n",
              "      <td>infantry</td>\n",
              "      <td>rookie</td>\n",
              "      <td>Jacon</td>\n",
              "      <td>4</td>\n",
              "      <td>25</td>\n",
              "    </tr>\n",
              "    <tr>\n",
              "      <th>6</th>\n",
              "      <td>Dragoons</td>\n",
              "      <td>cavalry</td>\n",
              "      <td>veteran</td>\n",
              "      <td>Ryaner</td>\n",
              "      <td>24</td>\n",
              "      <td>94</td>\n",
              "    </tr>\n",
              "    <tr>\n",
              "      <th>7</th>\n",
              "      <td>Dragoons</td>\n",
              "      <td>cavalry</td>\n",
              "      <td>rookie</td>\n",
              "      <td>Sone</td>\n",
              "      <td>31</td>\n",
              "      <td>57</td>\n",
              "    </tr>\n",
              "    <tr>\n",
              "      <th>8</th>\n",
              "      <td>Scouts</td>\n",
              "      <td>infantry</td>\n",
              "      <td>veteran</td>\n",
              "      <td>Sloan</td>\n",
              "      <td>2</td>\n",
              "      <td>62</td>\n",
              "    </tr>\n",
              "    <tr>\n",
              "      <th>9</th>\n",
              "      <td>Scouts</td>\n",
              "      <td>infantry</td>\n",
              "      <td>rookie</td>\n",
              "      <td>Piger</td>\n",
              "      <td>3</td>\n",
              "      <td>70</td>\n",
              "    </tr>\n",
              "    <tr>\n",
              "      <th>10</th>\n",
              "      <td>Scouts</td>\n",
              "      <td>cavalry</td>\n",
              "      <td>veteran</td>\n",
              "      <td>Riani</td>\n",
              "      <td>2</td>\n",
              "      <td>62</td>\n",
              "    </tr>\n",
              "    <tr>\n",
              "      <th>11</th>\n",
              "      <td>Scouts</td>\n",
              "      <td>cavalry</td>\n",
              "      <td>rookie</td>\n",
              "      <td>Ali</td>\n",
              "      <td>3</td>\n",
              "      <td>70</td>\n",
              "    </tr>\n",
              "  </tbody>\n",
              "</table>\n",
              "</div>"
            ],
            "text/plain": [
              "      regiment   company experience      name  preTestScore  postTestScore\n",
              "0   Nighthawks  infantry    veteran    Miller             4             25\n",
              "1   Nighthawks  infantry     rookie  Jacobson            24             94\n",
              "2   Nighthawks   cavalry    veteran       Ali            31             57\n",
              "3   Nighthawks   cavalry     rookie    Milner             2             62\n",
              "4     Dragoons  infantry    veteran     Cooze             3             70\n",
              "5     Dragoons  infantry     rookie     Jacon             4             25\n",
              "6     Dragoons   cavalry    veteran    Ryaner            24             94\n",
              "7     Dragoons   cavalry     rookie      Sone            31             57\n",
              "8       Scouts  infantry    veteran     Sloan             2             62\n",
              "9       Scouts  infantry     rookie     Piger             3             70\n",
              "10      Scouts   cavalry    veteran     Riani             2             62\n",
              "11      Scouts   cavalry     rookie       Ali             3             70"
            ]
          },
          "metadata": {
            "tags": []
          },
          "execution_count": 113
        }
      ]
    },
    {
      "cell_type": "markdown",
      "metadata": {
        "id": "KUIHPY5MSzYA",
        "colab_type": "text"
      },
      "source": [
        "\n",
        "\n",
        "\n",
        "---\n",
        "\n",
        "\n",
        "**Counting the number of observations by regiment and category**\n",
        "\n",
        "\n",
        "---\n",
        "\n"
      ]
    },
    {
      "cell_type": "markdown",
      "metadata": {
        "id": "x3w3FIOTcrT-",
        "colab_type": "text"
      },
      "source": [
        "useful in exproatory data analysis"
      ]
    },
    {
      "cell_type": "code",
      "metadata": {
        "id": "xHYTMK8MSDWN",
        "colab_type": "code",
        "outputId": "c0a67081-2f0d-4e3e-e7b4-e8bf50ba6e43",
        "colab": {
          "base_uri": "https://localhost:8080/",
          "height": 195
        }
      },
      "source": [
        "pd.crosstab(df.regiment, df.company, margins=True)"
      ],
      "execution_count": 0,
      "outputs": [
        {
          "output_type": "execute_result",
          "data": {
            "text/html": [
              "<div>\n",
              "<style scoped>\n",
              "    .dataframe tbody tr th:only-of-type {\n",
              "        vertical-align: middle;\n",
              "    }\n",
              "\n",
              "    .dataframe tbody tr th {\n",
              "        vertical-align: top;\n",
              "    }\n",
              "\n",
              "    .dataframe thead th {\n",
              "        text-align: right;\n",
              "    }\n",
              "</style>\n",
              "<table border=\"1\" class=\"dataframe\">\n",
              "  <thead>\n",
              "    <tr style=\"text-align: right;\">\n",
              "      <th>company</th>\n",
              "      <th>cavalry</th>\n",
              "      <th>infantry</th>\n",
              "      <th>All</th>\n",
              "    </tr>\n",
              "    <tr>\n",
              "      <th>regiment</th>\n",
              "      <th></th>\n",
              "      <th></th>\n",
              "      <th></th>\n",
              "    </tr>\n",
              "  </thead>\n",
              "  <tbody>\n",
              "    <tr>\n",
              "      <th>Dragoons</th>\n",
              "      <td>2</td>\n",
              "      <td>2</td>\n",
              "      <td>4</td>\n",
              "    </tr>\n",
              "    <tr>\n",
              "      <th>Nighthawks</th>\n",
              "      <td>2</td>\n",
              "      <td>2</td>\n",
              "      <td>4</td>\n",
              "    </tr>\n",
              "    <tr>\n",
              "      <th>Scouts</th>\n",
              "      <td>2</td>\n",
              "      <td>2</td>\n",
              "      <td>4</td>\n",
              "    </tr>\n",
              "    <tr>\n",
              "      <th>All</th>\n",
              "      <td>6</td>\n",
              "      <td>6</td>\n",
              "      <td>12</td>\n",
              "    </tr>\n",
              "  </tbody>\n",
              "</table>\n",
              "</div>"
            ],
            "text/plain": [
              "company     cavalry  infantry  All\n",
              "regiment                          \n",
              "Dragoons          2         2    4\n",
              "Nighthawks        2         2    4\n",
              "Scouts            2         2    4\n",
              "All               6         6   12"
            ]
          },
          "metadata": {
            "tags": []
          },
          "execution_count": 115
        }
      ]
    },
    {
      "cell_type": "markdown",
      "metadata": {
        "id": "Zv-1VrSaS9Fp",
        "colab_type": "text"
      },
      "source": [
        "\n",
        "\n",
        "---\n",
        "\n",
        "\n",
        "**Create a crosstab of the number of rookie and veteran cavalry and infantry soldiers per regiment**\n",
        "\n",
        "\n",
        "---\n",
        "\n"
      ]
    },
    {
      "cell_type": "code",
      "metadata": {
        "id": "Vq5RGmJDTBQR",
        "colab_type": "code",
        "outputId": "789babe9-15e4-44fd-8ca6-4c57f3da3ea0",
        "colab": {
          "base_uri": "https://localhost:8080/",
          "height": 225
        }
      },
      "source": [
        "pd.crosstab([df.company, df.experience], df.regiment,  margins=True)"
      ],
      "execution_count": 0,
      "outputs": [
        {
          "output_type": "execute_result",
          "data": {
            "text/html": [
              "<div>\n",
              "<style scoped>\n",
              "    .dataframe tbody tr th:only-of-type {\n",
              "        vertical-align: middle;\n",
              "    }\n",
              "\n",
              "    .dataframe tbody tr th {\n",
              "        vertical-align: top;\n",
              "    }\n",
              "\n",
              "    .dataframe thead th {\n",
              "        text-align: right;\n",
              "    }\n",
              "</style>\n",
              "<table border=\"1\" class=\"dataframe\">\n",
              "  <thead>\n",
              "    <tr style=\"text-align: right;\">\n",
              "      <th></th>\n",
              "      <th>regiment</th>\n",
              "      <th>Dragoons</th>\n",
              "      <th>Nighthawks</th>\n",
              "      <th>Scouts</th>\n",
              "      <th>All</th>\n",
              "    </tr>\n",
              "    <tr>\n",
              "      <th>company</th>\n",
              "      <th>experience</th>\n",
              "      <th></th>\n",
              "      <th></th>\n",
              "      <th></th>\n",
              "      <th></th>\n",
              "    </tr>\n",
              "  </thead>\n",
              "  <tbody>\n",
              "    <tr>\n",
              "      <th rowspan=\"2\" valign=\"top\">cavalry</th>\n",
              "      <th>rookie</th>\n",
              "      <td>1</td>\n",
              "      <td>1</td>\n",
              "      <td>1</td>\n",
              "      <td>3</td>\n",
              "    </tr>\n",
              "    <tr>\n",
              "      <th>veteran</th>\n",
              "      <td>1</td>\n",
              "      <td>1</td>\n",
              "      <td>1</td>\n",
              "      <td>3</td>\n",
              "    </tr>\n",
              "    <tr>\n",
              "      <th rowspan=\"2\" valign=\"top\">infantry</th>\n",
              "      <th>rookie</th>\n",
              "      <td>1</td>\n",
              "      <td>1</td>\n",
              "      <td>1</td>\n",
              "      <td>3</td>\n",
              "    </tr>\n",
              "    <tr>\n",
              "      <th>veteran</th>\n",
              "      <td>1</td>\n",
              "      <td>1</td>\n",
              "      <td>1</td>\n",
              "      <td>3</td>\n",
              "    </tr>\n",
              "    <tr>\n",
              "      <th>All</th>\n",
              "      <th></th>\n",
              "      <td>4</td>\n",
              "      <td>4</td>\n",
              "      <td>4</td>\n",
              "      <td>12</td>\n",
              "    </tr>\n",
              "  </tbody>\n",
              "</table>\n",
              "</div>"
            ],
            "text/plain": [
              "regiment             Dragoons  Nighthawks  Scouts  All\n",
              "company  experience                                   \n",
              "cavalry  rookie             1           1       1    3\n",
              "         veteran            1           1       1    3\n",
              "infantry rookie             1           1       1    3\n",
              "         veteran            1           1       1    3\n",
              "All                         4           4       4   12"
            ]
          },
          "metadata": {
            "tags": []
          },
          "execution_count": 116
        }
      ]
    },
    {
      "cell_type": "markdown",
      "metadata": {
        "id": "gvamokQrTWsq",
        "colab_type": "text"
      },
      "source": [
        "\n",
        "\n",
        "---\n",
        "\n",
        "\n",
        "**get_dummies()**\n",
        "This function is used to convert categorical variable into dummy variable (one-hot encoding)\n",
        "\n",
        "\n",
        "---\n",
        "\n"
      ]
    },
    {
      "cell_type": "code",
      "metadata": {
        "id": "ppaO8vEYe_DB",
        "colab_type": "code",
        "outputId": "c34267e7-dd78-40bf-87a0-5a0ad237469f",
        "colab": {
          "base_uri": "https://localhost:8080/",
          "height": 402
        }
      },
      "source": [
        "pd.get_dummies(df.regiment)"
      ],
      "execution_count": 0,
      "outputs": [
        {
          "output_type": "execute_result",
          "data": {
            "text/html": [
              "<div>\n",
              "<style scoped>\n",
              "    .dataframe tbody tr th:only-of-type {\n",
              "        vertical-align: middle;\n",
              "    }\n",
              "\n",
              "    .dataframe tbody tr th {\n",
              "        vertical-align: top;\n",
              "    }\n",
              "\n",
              "    .dataframe thead th {\n",
              "        text-align: right;\n",
              "    }\n",
              "</style>\n",
              "<table border=\"1\" class=\"dataframe\">\n",
              "  <thead>\n",
              "    <tr style=\"text-align: right;\">\n",
              "      <th></th>\n",
              "      <th>Dragoons</th>\n",
              "      <th>Nighthawks</th>\n",
              "      <th>Scouts</th>\n",
              "    </tr>\n",
              "  </thead>\n",
              "  <tbody>\n",
              "    <tr>\n",
              "      <th>0</th>\n",
              "      <td>0</td>\n",
              "      <td>1</td>\n",
              "      <td>0</td>\n",
              "    </tr>\n",
              "    <tr>\n",
              "      <th>1</th>\n",
              "      <td>0</td>\n",
              "      <td>1</td>\n",
              "      <td>0</td>\n",
              "    </tr>\n",
              "    <tr>\n",
              "      <th>2</th>\n",
              "      <td>0</td>\n",
              "      <td>1</td>\n",
              "      <td>0</td>\n",
              "    </tr>\n",
              "    <tr>\n",
              "      <th>3</th>\n",
              "      <td>0</td>\n",
              "      <td>1</td>\n",
              "      <td>0</td>\n",
              "    </tr>\n",
              "    <tr>\n",
              "      <th>4</th>\n",
              "      <td>1</td>\n",
              "      <td>0</td>\n",
              "      <td>0</td>\n",
              "    </tr>\n",
              "    <tr>\n",
              "      <th>5</th>\n",
              "      <td>1</td>\n",
              "      <td>0</td>\n",
              "      <td>0</td>\n",
              "    </tr>\n",
              "    <tr>\n",
              "      <th>6</th>\n",
              "      <td>1</td>\n",
              "      <td>0</td>\n",
              "      <td>0</td>\n",
              "    </tr>\n",
              "    <tr>\n",
              "      <th>7</th>\n",
              "      <td>1</td>\n",
              "      <td>0</td>\n",
              "      <td>0</td>\n",
              "    </tr>\n",
              "    <tr>\n",
              "      <th>8</th>\n",
              "      <td>0</td>\n",
              "      <td>0</td>\n",
              "      <td>1</td>\n",
              "    </tr>\n",
              "    <tr>\n",
              "      <th>9</th>\n",
              "      <td>0</td>\n",
              "      <td>0</td>\n",
              "      <td>1</td>\n",
              "    </tr>\n",
              "    <tr>\n",
              "      <th>10</th>\n",
              "      <td>0</td>\n",
              "      <td>0</td>\n",
              "      <td>1</td>\n",
              "    </tr>\n",
              "    <tr>\n",
              "      <th>11</th>\n",
              "      <td>0</td>\n",
              "      <td>0</td>\n",
              "      <td>1</td>\n",
              "    </tr>\n",
              "  </tbody>\n",
              "</table>\n",
              "</div>"
            ],
            "text/plain": [
              "    Dragoons  Nighthawks  Scouts\n",
              "0          0           1       0\n",
              "1          0           1       0\n",
              "2          0           1       0\n",
              "3          0           1       0\n",
              "4          1           0       0\n",
              "5          1           0       0\n",
              "6          1           0       0\n",
              "7          1           0       0\n",
              "8          0           0       1\n",
              "9          0           0       1\n",
              "10         0           0       1\n",
              "11         0           0       1"
            ]
          },
          "metadata": {
            "tags": []
          },
          "execution_count": 121
        }
      ]
    },
    {
      "cell_type": "markdown",
      "metadata": {
        "id": "siDOrOXkfUgc",
        "colab_type": "text"
      },
      "source": [
        "\n",
        "\n",
        "---\n",
        "\n",
        "can't use Nightawks in mathematical model (like in regression) then to make understand our mathematical model that we are using Nightawks in regiment we use\n",
        "Nightawks = [0 1 0]\n",
        "\n",
        "mean change all these as \n",
        "\n",
        "\n",
        "---\n",
        "\n",
        "\n",
        "\n",
        "---\n",
        "\n"
      ]
    },
    {
      "cell_type": "code",
      "metadata": {
        "id": "yjUMisjDUKUv",
        "colab_type": "code",
        "outputId": "c2fee413-ee23-4842-c843-bf6f2abe1d63",
        "colab": {
          "base_uri": "https://localhost:8080/",
          "height": 373
        }
      },
      "source": [
        "List = list('Hello World')\n",
        "pd.get_dummies(List)"
      ],
      "execution_count": 0,
      "outputs": [
        {
          "output_type": "execute_result",
          "data": {
            "text/html": [
              "<div>\n",
              "<style scoped>\n",
              "    .dataframe tbody tr th:only-of-type {\n",
              "        vertical-align: middle;\n",
              "    }\n",
              "\n",
              "    .dataframe tbody tr th {\n",
              "        vertical-align: top;\n",
              "    }\n",
              "\n",
              "    .dataframe thead th {\n",
              "        text-align: right;\n",
              "    }\n",
              "</style>\n",
              "<table border=\"1\" class=\"dataframe\">\n",
              "  <thead>\n",
              "    <tr style=\"text-align: right;\">\n",
              "      <th></th>\n",
              "      <th></th>\n",
              "      <th>H</th>\n",
              "      <th>W</th>\n",
              "      <th>d</th>\n",
              "      <th>e</th>\n",
              "      <th>l</th>\n",
              "      <th>o</th>\n",
              "      <th>r</th>\n",
              "    </tr>\n",
              "  </thead>\n",
              "  <tbody>\n",
              "    <tr>\n",
              "      <th>0</th>\n",
              "      <td>0</td>\n",
              "      <td>1</td>\n",
              "      <td>0</td>\n",
              "      <td>0</td>\n",
              "      <td>0</td>\n",
              "      <td>0</td>\n",
              "      <td>0</td>\n",
              "      <td>0</td>\n",
              "    </tr>\n",
              "    <tr>\n",
              "      <th>1</th>\n",
              "      <td>0</td>\n",
              "      <td>0</td>\n",
              "      <td>0</td>\n",
              "      <td>0</td>\n",
              "      <td>1</td>\n",
              "      <td>0</td>\n",
              "      <td>0</td>\n",
              "      <td>0</td>\n",
              "    </tr>\n",
              "    <tr>\n",
              "      <th>2</th>\n",
              "      <td>0</td>\n",
              "      <td>0</td>\n",
              "      <td>0</td>\n",
              "      <td>0</td>\n",
              "      <td>0</td>\n",
              "      <td>1</td>\n",
              "      <td>0</td>\n",
              "      <td>0</td>\n",
              "    </tr>\n",
              "    <tr>\n",
              "      <th>3</th>\n",
              "      <td>0</td>\n",
              "      <td>0</td>\n",
              "      <td>0</td>\n",
              "      <td>0</td>\n",
              "      <td>0</td>\n",
              "      <td>1</td>\n",
              "      <td>0</td>\n",
              "      <td>0</td>\n",
              "    </tr>\n",
              "    <tr>\n",
              "      <th>4</th>\n",
              "      <td>0</td>\n",
              "      <td>0</td>\n",
              "      <td>0</td>\n",
              "      <td>0</td>\n",
              "      <td>0</td>\n",
              "      <td>0</td>\n",
              "      <td>1</td>\n",
              "      <td>0</td>\n",
              "    </tr>\n",
              "    <tr>\n",
              "      <th>5</th>\n",
              "      <td>1</td>\n",
              "      <td>0</td>\n",
              "      <td>0</td>\n",
              "      <td>0</td>\n",
              "      <td>0</td>\n",
              "      <td>0</td>\n",
              "      <td>0</td>\n",
              "      <td>0</td>\n",
              "    </tr>\n",
              "    <tr>\n",
              "      <th>6</th>\n",
              "      <td>0</td>\n",
              "      <td>0</td>\n",
              "      <td>1</td>\n",
              "      <td>0</td>\n",
              "      <td>0</td>\n",
              "      <td>0</td>\n",
              "      <td>0</td>\n",
              "      <td>0</td>\n",
              "    </tr>\n",
              "    <tr>\n",
              "      <th>7</th>\n",
              "      <td>0</td>\n",
              "      <td>0</td>\n",
              "      <td>0</td>\n",
              "      <td>0</td>\n",
              "      <td>0</td>\n",
              "      <td>0</td>\n",
              "      <td>1</td>\n",
              "      <td>0</td>\n",
              "    </tr>\n",
              "    <tr>\n",
              "      <th>8</th>\n",
              "      <td>0</td>\n",
              "      <td>0</td>\n",
              "      <td>0</td>\n",
              "      <td>0</td>\n",
              "      <td>0</td>\n",
              "      <td>0</td>\n",
              "      <td>0</td>\n",
              "      <td>1</td>\n",
              "    </tr>\n",
              "    <tr>\n",
              "      <th>9</th>\n",
              "      <td>0</td>\n",
              "      <td>0</td>\n",
              "      <td>0</td>\n",
              "      <td>0</td>\n",
              "      <td>0</td>\n",
              "      <td>1</td>\n",
              "      <td>0</td>\n",
              "      <td>0</td>\n",
              "    </tr>\n",
              "    <tr>\n",
              "      <th>10</th>\n",
              "      <td>0</td>\n",
              "      <td>0</td>\n",
              "      <td>0</td>\n",
              "      <td>1</td>\n",
              "      <td>0</td>\n",
              "      <td>0</td>\n",
              "      <td>0</td>\n",
              "      <td>0</td>\n",
              "    </tr>\n",
              "  </tbody>\n",
              "</table>\n",
              "</div>"
            ],
            "text/plain": [
              "       H  W  d  e  l  o  r\n",
              "0   0  1  0  0  0  0  0  0\n",
              "1   0  0  0  0  1  0  0  0\n",
              "2   0  0  0  0  0  1  0  0\n",
              "3   0  0  0  0  0  1  0  0\n",
              "4   0  0  0  0  0  0  1  0\n",
              "5   1  0  0  0  0  0  0  0\n",
              "6   0  0  1  0  0  0  0  0\n",
              "7   0  0  0  0  0  0  1  0\n",
              "8   0  0  0  0  0  0  0  1\n",
              "9   0  0  0  0  0  1  0  0\n",
              "10  0  0  0  1  0  0  0  0"
            ]
          },
          "metadata": {
            "tags": []
          },
          "execution_count": 122
        }
      ]
    },
    {
      "cell_type": "markdown",
      "metadata": {
        "id": "TO534pE3eRQy",
        "colab_type": "text"
      },
      "source": [
        "\n",
        "\n",
        "---\n",
        "\n",
        "\n",
        "**What use of it** like h w d .. are words so if we want to fit some mathematical model so it will done by numeric value or vector so we convert these as vector as above e is vecor = [0 0 0 0 1 0 0 0] so where we need e we can use this vector\n",
        "\n",
        "\n",
        "---\n",
        "\n"
      ]
    },
    {
      "cell_type": "code",
      "metadata": {
        "id": "-JwWzmDgUwrT",
        "colab_type": "code",
        "outputId": "acc1d1ac-eaaf-4ab9-8073-60ae28cd0295",
        "colab": {
          "base_uri": "https://localhost:8080/",
          "height": 136
        }
      },
      "source": [
        "pd.get_dummies(pd.Series(list('abc')), drop_first=True)"
      ],
      "execution_count": 0,
      "outputs": [
        {
          "output_type": "execute_result",
          "data": {
            "text/html": [
              "<div>\n",
              "<style scoped>\n",
              "    .dataframe tbody tr th:only-of-type {\n",
              "        vertical-align: middle;\n",
              "    }\n",
              "\n",
              "    .dataframe tbody tr th {\n",
              "        vertical-align: top;\n",
              "    }\n",
              "\n",
              "    .dataframe thead th {\n",
              "        text-align: right;\n",
              "    }\n",
              "</style>\n",
              "<table border=\"1\" class=\"dataframe\">\n",
              "  <thead>\n",
              "    <tr style=\"text-align: right;\">\n",
              "      <th></th>\n",
              "      <th>b</th>\n",
              "      <th>c</th>\n",
              "    </tr>\n",
              "  </thead>\n",
              "  <tbody>\n",
              "    <tr>\n",
              "      <th>0</th>\n",
              "      <td>0</td>\n",
              "      <td>0</td>\n",
              "    </tr>\n",
              "    <tr>\n",
              "      <th>1</th>\n",
              "      <td>1</td>\n",
              "      <td>0</td>\n",
              "    </tr>\n",
              "    <tr>\n",
              "      <th>2</th>\n",
              "      <td>0</td>\n",
              "      <td>1</td>\n",
              "    </tr>\n",
              "  </tbody>\n",
              "</table>\n",
              "</div>"
            ],
            "text/plain": [
              "   b  c\n",
              "0  0  0\n",
              "1  1  0\n",
              "2  0  1"
            ]
          },
          "metadata": {
            "tags": []
          },
          "execution_count": 125
        }
      ]
    },
    {
      "cell_type": "code",
      "metadata": {
        "id": "ErjhtJGiVyHP",
        "colab_type": "code",
        "outputId": "5edbb716-045c-4a9d-b2e5-622ff07668ce",
        "colab": {
          "base_uri": "https://localhost:8080/",
          "height": 136
        }
      },
      "source": [
        "pd.get_dummies(pd.Series(list('abc')), dtype = float)"
      ],
      "execution_count": 0,
      "outputs": [
        {
          "output_type": "execute_result",
          "data": {
            "text/html": [
              "<div>\n",
              "<style scoped>\n",
              "    .dataframe tbody tr th:only-of-type {\n",
              "        vertical-align: middle;\n",
              "    }\n",
              "\n",
              "    .dataframe tbody tr th {\n",
              "        vertical-align: top;\n",
              "    }\n",
              "\n",
              "    .dataframe thead th {\n",
              "        text-align: right;\n",
              "    }\n",
              "</style>\n",
              "<table border=\"1\" class=\"dataframe\">\n",
              "  <thead>\n",
              "    <tr style=\"text-align: right;\">\n",
              "      <th></th>\n",
              "      <th>a</th>\n",
              "      <th>b</th>\n",
              "      <th>c</th>\n",
              "    </tr>\n",
              "  </thead>\n",
              "  <tbody>\n",
              "    <tr>\n",
              "      <th>0</th>\n",
              "      <td>1.0</td>\n",
              "      <td>0.0</td>\n",
              "      <td>0.0</td>\n",
              "    </tr>\n",
              "    <tr>\n",
              "      <th>1</th>\n",
              "      <td>0.0</td>\n",
              "      <td>1.0</td>\n",
              "      <td>0.0</td>\n",
              "    </tr>\n",
              "    <tr>\n",
              "      <th>2</th>\n",
              "      <td>0.0</td>\n",
              "      <td>0.0</td>\n",
              "      <td>1.0</td>\n",
              "    </tr>\n",
              "  </tbody>\n",
              "</table>\n",
              "</div>"
            ],
            "text/plain": [
              "     a    b    c\n",
              "0  1.0  0.0  0.0\n",
              "1  0.0  1.0  0.0\n",
              "2  0.0  0.0  1.0"
            ]
          },
          "metadata": {
            "tags": []
          },
          "execution_count": 119
        }
      ]
    },
    {
      "cell_type": "markdown",
      "metadata": {
        "id": "aoOM_htTWWKD",
        "colab_type": "text"
      },
      "source": [
        "\n",
        "\n",
        "\n",
        "---\n",
        "\n",
        "\n",
        "**pd.DataFrame()**:\n",
        "converts a numpy array into a data frame\n",
        "\n",
        "\n",
        "---\n",
        "\n"
      ]
    },
    {
      "cell_type": "code",
      "metadata": {
        "id": "w9XIlSI_WlO3",
        "colab_type": "code",
        "outputId": "06ef6740-144e-40da-efb3-cea9f5247481",
        "colab": {
          "base_uri": "https://localhost:8080/",
          "height": 106
        }
      },
      "source": [
        "AAA=[[1,2,3],[4,5,6]]\n",
        "Array = np.array(AAA)\n",
        "df1 =pd.DataFrame(Array) \n",
        "df1"
      ],
      "execution_count": 0,
      "outputs": [
        {
          "output_type": "execute_result",
          "data": {
            "text/html": [
              "<div>\n",
              "<style scoped>\n",
              "    .dataframe tbody tr th:only-of-type {\n",
              "        vertical-align: middle;\n",
              "    }\n",
              "\n",
              "    .dataframe tbody tr th {\n",
              "        vertical-align: top;\n",
              "    }\n",
              "\n",
              "    .dataframe thead th {\n",
              "        text-align: right;\n",
              "    }\n",
              "</style>\n",
              "<table border=\"1\" class=\"dataframe\">\n",
              "  <thead>\n",
              "    <tr style=\"text-align: right;\">\n",
              "      <th></th>\n",
              "      <th>0</th>\n",
              "      <th>1</th>\n",
              "      <th>2</th>\n",
              "    </tr>\n",
              "  </thead>\n",
              "  <tbody>\n",
              "    <tr>\n",
              "      <th>0</th>\n",
              "      <td>1</td>\n",
              "      <td>2</td>\n",
              "      <td>3</td>\n",
              "    </tr>\n",
              "    <tr>\n",
              "      <th>1</th>\n",
              "      <td>4</td>\n",
              "      <td>5</td>\n",
              "      <td>6</td>\n",
              "    </tr>\n",
              "  </tbody>\n",
              "</table>\n",
              "</div>"
            ],
            "text/plain": [
              "   0  1  2\n",
              "0  1  2  3\n",
              "1  4  5  6"
            ]
          },
          "metadata": {
            "tags": []
          },
          "execution_count": 249
        }
      ]
    },
    {
      "cell_type": "markdown",
      "metadata": {
        "id": "CFc0uaCKYwCs",
        "colab_type": "text"
      },
      "source": [
        "\n",
        "\n",
        "---\n",
        "\n",
        "\n",
        "**you can use this function to get a numpy array as well**\n",
        "\n",
        "\n",
        "---\n",
        "\n"
      ]
    },
    {
      "cell_type": "code",
      "metadata": {
        "id": "InTOHwBmYkcq",
        "colab_type": "code",
        "outputId": "4aac0fc3-fe28-48d3-b289-9e6116935bab",
        "colab": {
          "base_uri": "https://localhost:8080/",
          "height": 67
        }
      },
      "source": [
        "pd.DataFrame({\"A\": [1, 2,3], \"B\": [4,5,6]}).to_numpy()"
      ],
      "execution_count": 0,
      "outputs": [
        {
          "output_type": "execute_result",
          "data": {
            "text/plain": [
              "array([[1, 4],\n",
              "       [2, 5],\n",
              "       [3, 6]])"
            ]
          },
          "metadata": {
            "tags": []
          },
          "execution_count": 126
        }
      ]
    },
    {
      "cell_type": "code",
      "metadata": {
        "id": "3SoBFmVl886h",
        "colab_type": "code",
        "outputId": "ad02fa73-1c48-43c0-b4b4-9b018f58fe9b",
        "colab": {
          "base_uri": "https://localhost:8080/",
          "height": 106
        }
      },
      "source": [
        "Ar = pd.DataFrame({\"A\": [1, 2,3], \"B\": [4,5,6]}).to_numpy()\n",
        "AAr = Ar.transpose()\n",
        "df1 =pd.DataFrame(AAr) \n",
        "df1"
      ],
      "execution_count": 0,
      "outputs": [
        {
          "output_type": "execute_result",
          "data": {
            "text/html": [
              "<div>\n",
              "<style scoped>\n",
              "    .dataframe tbody tr th:only-of-type {\n",
              "        vertical-align: middle;\n",
              "    }\n",
              "\n",
              "    .dataframe tbody tr th {\n",
              "        vertical-align: top;\n",
              "    }\n",
              "\n",
              "    .dataframe thead th {\n",
              "        text-align: right;\n",
              "    }\n",
              "</style>\n",
              "<table border=\"1\" class=\"dataframe\">\n",
              "  <thead>\n",
              "    <tr style=\"text-align: right;\">\n",
              "      <th></th>\n",
              "      <th>0</th>\n",
              "      <th>1</th>\n",
              "      <th>2</th>\n",
              "    </tr>\n",
              "  </thead>\n",
              "  <tbody>\n",
              "    <tr>\n",
              "      <th>0</th>\n",
              "      <td>1</td>\n",
              "      <td>2</td>\n",
              "      <td>3</td>\n",
              "    </tr>\n",
              "    <tr>\n",
              "      <th>1</th>\n",
              "      <td>4</td>\n",
              "      <td>5</td>\n",
              "      <td>6</td>\n",
              "    </tr>\n",
              "  </tbody>\n",
              "</table>\n",
              "</div>"
            ],
            "text/plain": [
              "   0  1  2\n",
              "0  1  2  3\n",
              "1  4  5  6"
            ]
          },
          "metadata": {
            "tags": []
          },
          "execution_count": 254
        }
      ]
    },
    {
      "cell_type": "code",
      "metadata": {
        "id": "ECEhZc_m2BPv",
        "colab_type": "code",
        "colab": {}
      },
      "source": [
        "from google.colab import drive\n",
        "drive.mount('/gdrive')"
      ],
      "execution_count": 0,
      "outputs": []
    },
    {
      "cell_type": "code",
      "metadata": {
        "id": "fj2ig0oW2NjV",
        "colab_type": "code",
        "colab": {}
      },
      "source": [
        "!pwd"
      ],
      "execution_count": 0,
      "outputs": []
    },
    {
      "cell_type": "code",
      "metadata": {
        "id": "NmsIEN0Z2OKk",
        "colab_type": "code",
        "colab": {}
      },
      "source": [
        "!cd /content/drive\n",
        "!ls"
      ],
      "execution_count": 0,
      "outputs": []
    },
    {
      "cell_type": "markdown",
      "metadata": {
        "id": "Mm77H3GhiNuh",
        "colab_type": "text"
      },
      "source": [
        "# Part3 : matplotlib"
      ]
    },
    {
      "cell_type": "code",
      "metadata": {
        "id": "LnemxqC9iM8g",
        "colab_type": "code",
        "colab": {}
      },
      "source": [
        "import matplotlib.pyplot as plt\n",
        "from matplotlib import pyplot as plt"
      ],
      "execution_count": 0,
      "outputs": []
    },
    {
      "cell_type": "code",
      "metadata": {
        "id": "896fkAU1iM6J",
        "colab_type": "code",
        "outputId": "af1769cc-b203-4fb7-eadd-90e313afbaa0",
        "colab": {
          "base_uri": "https://localhost:8080/",
          "height": 281
        }
      },
      "source": [
        "import numpy as np\n",
        "x = np.linspace(-3*np.pi,3*np.pi,300)\n",
        "y = np.divide(np.sin(x), x)\n",
        "plt.plot(x,y)\n",
        "plt.title(r'$\\alpha$')\n",
        "plt.show()"
      ],
      "execution_count": 0,
      "outputs": [
        {
          "output_type": "display_data",
          "data": {
            "image/png": "[encoded data removed]",
            "text/plain": [
              "<Figure size 432x288 with 1 Axes>"
            ]
          },
          "metadata": {
            "tags": [],
            "needs_background": "light"
          }
        }
      ]
    },
    {
      "cell_type": "markdown",
      "metadata": {
        "id": "IdJ7PvfVm-7a",
        "colab_type": "text"
      },
      "source": [
        "**Subplot :-** here like plot as in table (row, column, position_at_which_this_graph_will_shown)"
      ]
    },
    {
      "cell_type": "code",
      "metadata": {
        "id": "fjOWh1OIiM4F",
        "colab_type": "code",
        "outputId": "d8ea91c9-3ad7-4ed7-cfb1-8a07fc699417",
        "colab": {
          "base_uri": "https://localhost:8080/",
          "height": 282
        }
      },
      "source": [
        "plt.figure()\n",
        "plt.subplot(1,2,1)\n",
        "plt.plot(x,y)\n",
        "plt.subplot(1,2,2)\n",
        "plt.plot(x,y)\n",
        "plt.show"
      ],
      "execution_count": 0,
      "outputs": [
        {
          "output_type": "execute_result",
          "data": {
            "text/plain": [
              "<function matplotlib.pyplot.show>"
            ]
          },
          "metadata": {
            "tags": []
          },
          "execution_count": 139
        },
        {
          "output_type": "display_data",
          "data": {
            "image/png": "[encoded data removed]",
            "text/plain": [
              "<Figure size 432x288 with 2 Axes>"
            ]
          },
          "metadata": {
            "tags": [],
            "needs_background": "light"
          }
        }
      ]
    },
    {
      "cell_type": "code",
      "metadata": {
        "id": "zDdz1SdTiMvX",
        "colab_type": "code",
        "colab": {}
      },
      "source": [
        ""
      ],
      "execution_count": 0,
      "outputs": []
    },
    {
      "cell_type": "code",
      "metadata": {
        "id": "TsjWXlzRiMrA",
        "colab_type": "code",
        "colab": {}
      },
      "source": [
        ""
      ],
      "execution_count": 0,
      "outputs": []
    },
    {
      "cell_type": "code",
      "metadata": {
        "id": "-gxKYsX4iMo_",
        "colab_type": "code",
        "colab": {}
      },
      "source": [
        ""
      ],
      "execution_count": 0,
      "outputs": []
    },
    {
      "cell_type": "code",
      "metadata": {
        "id": "5A_0XIP5iMlX",
        "colab_type": "code",
        "colab": {}
      },
      "source": [
        ""
      ],
      "execution_count": 0,
      "outputs": []
    },
    {
      "cell_type": "code",
      "metadata": {
        "id": "BItgWr5kiMjc",
        "colab_type": "code",
        "colab": {}
      },
      "source": [
        ""
      ],
      "execution_count": 0,
      "outputs": []
    },
    {
      "cell_type": "markdown",
      "metadata": {
        "id": "p7mGjkks3RkI",
        "colab_type": "text"
      },
      "source": [
        "How to download any library "
      ]
    },
    {
      "cell_type": "code",
      "metadata": {
        "id": "YnPi0GURiM16",
        "colab_type": "code",
        "outputId": "43ceaf66-ed50-4a82-e8e7-f0f4085acaed",
        "colab": {
          "base_uri": "https://localhost:8080/",
          "height": 34
        }
      },
      "source": [
        "!pip install numpy"
      ],
      "execution_count": 0,
      "outputs": [
        {
          "output_type": "stream",
          "text": [
            "Requirement already satisfied: numpy in /usr/local/lib/python3.6/dist-packages (1.18.2)\n"
          ],
          "name": "stdout"
        }
      ]
    },
    {
      "cell_type": "code",
      "metadata": {
        "id": "PSOBDvOCiMy3",
        "colab_type": "code",
        "outputId": "dc36dbb5-6428-4752-cebc-a9bed3367549",
        "colab": {
          "base_uri": "https://localhost:8080/",
          "height": 84
        }
      },
      "source": [
        "!pip install django"
      ],
      "execution_count": 0,
      "outputs": [
        {
          "output_type": "stream",
          "text": [
            "Requirement already satisfied: django in /usr/local/lib/python3.6/dist-packages (3.0.5)\n",
            "Requirement already satisfied: sqlparse>=0.2.2 in /usr/local/lib/python3.6/dist-packages (from django) (0.3.1)\n",
            "Requirement already satisfied: asgiref~=3.2 in /usr/local/lib/python3.6/dist-packages (from django) (3.2.7)\n",
            "Requirement already satisfied: pytz in /usr/local/lib/python3.6/dist-packages (from django) (2018.9)\n"
          ],
          "name": "stdout"
        }
      ]
    },
    {
      "cell_type": "markdown",
      "metadata": {
        "id": "w5wmLzNjIdBJ",
        "colab_type": "text"
      },
      "source": [
        "to clon any repositry of Git --> to that repository click on right side of green copy url "
      ]
    },
    {
      "cell_type": "code",
      "metadata": {
        "id": "J5PDHeSviMg4",
        "colab_type": "code",
        "outputId": "120a4a99-fc1c-4a3b-f803-b88b00f24427",
        "colab": {
          "base_uri": "https://localhost:8080/",
          "height": 34
        }
      },
      "source": [
        "!git clone url"
      ],
      "execution_count": 0,
      "outputs": [
        {
          "output_type": "stream",
          "text": [
            "fatal: repository 'url' does not exist\n"
          ],
          "name": "stdout"
        }
      ]
    },
    {
      "cell_type": "markdown",
      "metadata": {
        "id": "BY6x-JPKI8lT",
        "colab_type": "text"
      },
      "source": [
        "it clone that repositry in your current directory\n"
      ]
    },
    {
      "cell_type": "code",
      "metadata": {
        "id": "DS3EmQnqiMeS",
        "colab_type": "code",
        "colab": {}
      },
      "source": [
        ""
      ],
      "execution_count": 0,
      "outputs": []
    }
  ]
}